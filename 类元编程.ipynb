{
 "cells": [
  {
   "cell_type": "markdown",
   "metadata": {},
   "source": [
    "# 类工厂函数"
   ]
  },
  {
   "cell_type": "code",
   "execution_count": 2,
   "metadata": {},
   "outputs": [],
   "source": [
    "# 简单版本\n",
    "from typing import Any\n",
    "from collections.abc import Iterable, Iterator\n",
    "\n",
    "FieldNames = str | Iterable[str]\n",
    "\n",
    "def record_factory(cls_name: str, field_names: FieldNames) -> type[tuple]:\n",
    "\n",
    "    slots = parse_identifiers(field_names)\n",
    "\n",
    "    def __init__(self, *args, **kwargs) -> None:\n",
    "        attrs = dict(zip(self.__slots__, args))\n",
    "        attrs.update(kwargs)\n",
    "        for name, value in attrs.items():\n",
    "            setattr(self, name, value)\n",
    "\n",
    "    def __iter__(self) -> Iterator[Any]:\n",
    "        for name in self.__slots__:\n",
    "            yield getattr(self, name)\n",
    "\n",
    "    def __repr__(self):\n",
    "        values = ', '.join(f'{name}={value!r}' for name, value in zip(self.__slots__, self))\n",
    "        cls_name = self.__class__.__name__\n",
    "        return f'{cls_name}({values})'\n",
    "\n",
    "    cls_attrs = dict(__slots__=slots,  # 类属性字典\n",
    "                     __init__=__init__,\n",
    "                     __iter__=__iter__,\n",
    "                     __repr__=__repr__,)\n",
    "    return type(cls_name, (object,), cls_attrs)  # 构建新类\n",
    "\n",
    "def parse_identifiers(names: FieldNames) -> tuple[str, ...]:\n",
    "    if isinstance(names, str):\n",
    "        names = names.replace(',', ' ').split()\n",
    "    if not all(s.isidentifier() for s in names):  # 如果存在非Python合法字符名\n",
    "        raise ValueError('names must all be valid identifiers')\n",
    "    return tuple(names)"
   ]
  },
  {
   "cell_type": "code",
   "execution_count": 4,
   "metadata": {},
   "outputs": [
    {
     "data": {
      "text/plain": [
       "Dog(name='Rex', weight=30, owner='Bob')"
      ]
     },
     "execution_count": 4,
     "metadata": {},
     "output_type": "execute_result"
    }
   ],
   "source": [
    "Dog = record_factory('Dog', 'name weight owner')\n",
    "rex = Dog('Rex', 30, 'Bob')\n",
    "rex"
   ]
  },
  {
   "cell_type": "code",
   "execution_count": 6,
   "metadata": {},
   "outputs": [
    {
     "data": {
      "text/plain": [
       "('Rex', 30)"
      ]
     },
     "execution_count": 6,
     "metadata": {},
     "output_type": "execute_result"
    }
   ],
   "source": [
    "name, weight, _ = rex\n",
    "name, weight"
   ]
  },
  {
   "cell_type": "code",
   "execution_count": 7,
   "metadata": {},
   "outputs": [
    {
     "data": {
      "text/plain": [
       "Dog(name='Rex', weight=32, owner='Bob')"
      ]
     },
     "execution_count": 7,
     "metadata": {},
     "output_type": "execute_result"
    }
   ],
   "source": [
    "rex.weight = 32\n",
    "rex"
   ]
  },
  {
   "cell_type": "code",
   "execution_count": 10,
   "metadata": {},
   "outputs": [
    {
     "data": {
      "text/plain": [
       "(__main__.Dog, object)"
      ]
     },
     "execution_count": 10,
     "metadata": {},
     "output_type": "execute_result"
    }
   ],
   "source": [
    "Dog.__mro__"
   ]
  },
  {
   "cell_type": "markdown",
   "metadata": {},
   "source": [
    "# __init_subclass__"
   ]
  },
  {
   "cell_type": "code",
   "execution_count": 11,
   "metadata": {},
   "outputs": [],
   "source": [
    "from collections.abc import Callable\n",
    "from typing import Any, NoReturn, get_type_hints\n"
   ]
  },
  {
   "cell_type": "code",
   "execution_count": 12,
   "metadata": {},
   "outputs": [],
   "source": [
    "class Field:\n",
    "    def __init__(self, name: str, constructor: Callable) -> None:\n",
    "        if not callable(constructor) or constructor is type(None):\n",
    "            raise TypeError(f'{name!r} type hint must be callable')\n",
    "        self.name = name\n",
    "        self.constructor = constructor\n",
    "\n",
    "    def __set__(self, instance: Any, value: Any) -> None:\n",
    "        if value is ...:\n",
    "            value = self.constructor()\n",
    "        else:\n",
    "            try:\n",
    "                value = self.constructor(value)\n",
    "            except (TypeError, ValueError) as e:\n",
    "                type_name = self.constructor.__name__\n",
    "                msg = f'{value!r} is not compatible with {self.name}:{type_name}'\n",
    "                raise TypeError(msg) from e\n",
    "        instance.__dict__[self.name] = value"
   ]
  },
  {
   "cell_type": "code",
   "execution_count": 13,
   "metadata": {},
   "outputs": [],
   "source": [
    "from typing import Any\n",
    "\n",
    "\n",
    "class Checked:\n",
    "    @classmethod\n",
    "    def _fields(cls) -> dict[str, type]:\n",
    "        return get_type_hints(cls)\n",
    "\n",
    "    def __init_subclass__(subclass) -> None:  # 非常规类方法\n",
    "        super().__init_subclass__()\n",
    "        for name, constructor in subclass._fields().items():\n",
    "            setattr(subclass, name, Field(name, constructor))\n",
    "\n",
    "    def __init__(self, **kwargs: Any) -> None:\n",
    "        for name in self._fields():\n",
    "            value = kwargs.pop(name, ...)\n",
    "            setattr(self, name, value)\n",
    "        if kwargs:\n",
    "            self.__flag_unknown_attrs(*kwargs)\n",
    "\n",
    "    def __setattr__(self, __name: str, __value: Any) -> None:\n",
    "        if __name in self._fields():\n",
    "            cls = self.__class__\n",
    "\n",
    "            descriptor = getattr(cls, __name)\n",
    "            descriptor.__set__(self, __value)\n",
    "        else:\n",
    "            self.__flag_unknown_attrs(name)\n",
    "\n",
    "    def __flag_unknown_attrs(self, *names: str) -> NoReturn:\n",
    "        plural = 's' if len(names) > 1 else ''\n",
    "        extra = ', '.join(f'{name!r}' for name in names)\n",
    "        cls_name = repr(self.__class__.__name__)\n",
    "        raise AttributeError(f'{cls_name} object has no attribute{plural} {extra}')\n",
    "\n",
    "    def _asdict(self) -> dict[str, Any]:\n",
    "        return {\n",
    "            name: getattr(self, name)\n",
    "            for name, attr in self.__class__.__dict__.items()\n",
    "            if isinstance(attr, Field)\n",
    "        }\n",
    "\n",
    "    def __repr__(self) -> str:\n",
    "        kwargs = ', '.join(\n",
    "            f'{key}={value!r}' for key, value in self._asdict().items()\n",
    "        )\n",
    "        return f'{self.__class__.__name__}({kwargs})'"
   ]
  },
  {
   "cell_type": "code",
   "execution_count": 14,
   "metadata": {},
   "outputs": [
    {
     "data": {
      "text/plain": [
       "'The Godfather'"
      ]
     },
     "execution_count": 14,
     "metadata": {},
     "output_type": "execute_result"
    }
   ],
   "source": [
    "class Movie(Checked):\n",
    "    title: str\n",
    "    year: int\n",
    "    box_office: float\n",
    "\n",
    "movie = Movie(title='The Godfather', year=1972, box_office=137)\n",
    "movie.title"
   ]
  },
  {
   "cell_type": "code",
   "execution_count": 15,
   "metadata": {},
   "outputs": [
    {
     "data": {
      "text/plain": [
       "Movie(title='The Godfather', year=1972, box_office=137.0)"
      ]
     },
     "execution_count": 15,
     "metadata": {},
     "output_type": "execute_result"
    }
   ],
   "source": [
    "movie"
   ]
  },
  {
   "cell_type": "markdown",
   "metadata": {},
   "source": [
    "# 另一种实现，通过类装饰器"
   ]
  },
  {
   "cell_type": "code",
   "execution_count": 17,
   "metadata": {},
   "outputs": [],
   "source": [
    "def _fields(cls: type) -> dict[str, type]:\n",
    "    return get_type_hints(cls)\n",
    "\n",
    "def __init__(self, **kwargs: Any) -> None:\n",
    "    for name in self._fields():\n",
    "        value = kwargs.pop(name, ...)\n",
    "        setattr(self, name, value)\n",
    "    if kwargs:\n",
    "        self.__flag_unknown_attrs(*kwargs)\n",
    "\n",
    "def __setattr__(self, __name: str, __value: Any) -> None:\n",
    "    if __name in self._fields():\n",
    "        cls = self.__class__\n",
    "\n",
    "        descriptor = getattr(cls, __name)\n",
    "        descriptor.__set__(self, __value)\n",
    "    else:\n",
    "        self.__flag_unknown_attrs(name)\n",
    "\n",
    "def __flag_unknown_attrs(self, *names: str) -> NoReturn:\n",
    "    plural = 's' if len(names) > 1 else ''\n",
    "    extra = ', '.join(f'{name!r}' for name in names)\n",
    "    cls_name = repr(self.__class__.__name__)\n",
    "    raise AttributeError(f'{cls_name} object has no attribute{plural} {extra}')\n",
    "\n",
    "def _asdict(self) -> dict[str, Any]:\n",
    "    return {\n",
    "        name: getattr(self, name)\n",
    "        for name, attr in self.__class__.__dict__.items()\n",
    "        if isinstance(attr, Field)\n",
    "    }\n",
    "\n",
    "def __repr__(self) -> str:\n",
    "    kwargs = ', '.join(\n",
    "        f'{key}={value!r}' for key, value in self._asdict().items()\n",
    "    )\n",
    "    return f'{self.__class__.__name__}({kwargs})'"
   ]
  },
  {
   "cell_type": "code",
   "execution_count": 18,
   "metadata": {},
   "outputs": [],
   "source": [
    "def checked(cls: type) -> type:\n",
    "    for name, constructor in _fields(cls).items():\n",
    "        setattr(cls, name, Field(name, constructor))\n",
    "\n",
    "    cls._fields = classmethod(_fields)  # type: ignore\n",
    "\n",
    "    instance_methods = (\n",
    "        __init__,\n",
    "        __repr__,\n",
    "        __setattr__,\n",
    "        _asdict,\n",
    "        __flag_unknown_attrs,\n",
    "    )\n",
    "    for method in instance_methods:\n",
    "        setattr(cls, method.__name__, method)\n",
    "\n",
    "    return cls"
   ]
  },
  {
   "cell_type": "code",
   "execution_count": 19,
   "metadata": {},
   "outputs": [
    {
     "data": {
      "text/plain": [
       "'The Godfather'"
      ]
     },
     "execution_count": 19,
     "metadata": {},
     "output_type": "execute_result"
    }
   ],
   "source": [
    "@checked\n",
    "class Movie():\n",
    "    title: str\n",
    "    year: int\n",
    "    box_office: float\n",
    "\n",
    "movie = Movie(title='The Godfather', year=1972, box_office=137)\n",
    "movie.title"
   ]
  },
  {
   "cell_type": "code",
   "execution_count": 20,
   "metadata": {},
   "outputs": [
    {
     "data": {
      "text/plain": [
       "type"
      ]
     },
     "execution_count": 20,
     "metadata": {},
     "output_type": "execute_result"
    }
   ],
   "source": [
    "str.__class__"
   ]
  },
  {
   "cell_type": "code",
   "execution_count": 21,
   "metadata": {},
   "outputs": [
    {
     "data": {
      "text/plain": [
       "type"
      ]
     },
     "execution_count": 21,
     "metadata": {},
     "output_type": "execute_result"
    }
   ],
   "source": [
    "type.__class__"
   ]
  },
  {
   "cell_type": "code",
   "execution_count": 22,
   "metadata": {},
   "outputs": [
    {
     "data": {
      "text/plain": [
       "abc.ABCMeta"
      ]
     },
     "execution_count": 22,
     "metadata": {},
     "output_type": "execute_result"
    }
   ],
   "source": [
    "from collections.abc import Iterable\n",
    "\n",
    "Iterable.__class__"
   ]
  },
  {
   "cell_type": "code",
   "execution_count": 23,
   "metadata": {},
   "outputs": [
    {
     "data": {
      "text/plain": [
       "type"
      ]
     },
     "execution_count": 23,
     "metadata": {},
     "output_type": "execute_result"
    }
   ],
   "source": [
    "import abc\n",
    "abc.ABCMeta.__class__"
   ]
  },
  {
   "cell_type": "code",
   "execution_count": null,
   "metadata": {},
   "outputs": [],
   "source": [
    "class MetaBunch(type):  # 创建新元类\n",
    "    def __new__(meta_cls, cls_name, bases, cls_dict):\n",
    "\n",
    "        defaults = {}\n",
    "\n",
    "        def __init__(self, **kwargs):\n",
    "            for name, default in defaults.items():\n",
    "                setattr(self, name, kwargs.pop(name, default))\n",
    "            if kwargs:\n",
    "                extra = ', '.join(kwargs)\n",
    "                raise AttributeError(f'No slots left for: {extra!r}')\n",
    "\n",
    "        def __repr__(self):\n",
    "            rep = ', '.join(f'{name}={value!r}'\n",
    "                            for name, default in defaults.items()\n",
    "                            if (value := getattr(self, name)) != default)\n",
    "            return f'{cls_name}({rep})'\n",
    "\n",
    "        new_dict = dict(__slots__=[],\n",
    "                        __init__=__init__,\n",
    "                        __repr__=__repr__)\n",
    "\n",
    "        for name, value in cls_dict.items():\n",
    "            if name.startswith('__') and name.endswith('__'):\n",
    "                if name in new_dict:\n",
    "                    raise AttributeError(f\"Can't set {name!r} in {cls_name!r}\")\n",
    "                new_dict[name] = value\n",
    "            else:\n",
    "                new_dict['__slots__'].append(name)\n",
    "                defaults[name] = value\n",
    "        return super().__new__(meta_cls, cls_name, bases, new_dict)\n",
    "\n",
    "class Bunch(metaclass=MetaBunch):\n",
    "    pass"
   ]
  },
  {
   "cell_type": "code",
   "execution_count": null,
   "metadata": {},
   "outputs": [],
   "source": [
    "class Point()"
   ]
  }
 ],
 "metadata": {
  "kernelspec": {
   "display_name": "base",
   "language": "python",
   "name": "python3"
  },
  "language_info": {
   "codemirror_mode": {
    "name": "ipython",
    "version": 3
   },
   "file_extension": ".py",
   "mimetype": "text/x-python",
   "name": "python",
   "nbconvert_exporter": "python",
   "pygments_lexer": "ipython3",
   "version": "3.12.1"
  }
 },
 "nbformat": 4,
 "nbformat_minor": 2
}
