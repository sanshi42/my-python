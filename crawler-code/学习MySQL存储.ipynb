{
 "cells": [
  {
   "cell_type": "markdown",
   "metadata": {},
   "source": [
    "1. 连接数据库"
   ]
  },
  {
   "cell_type": "code",
   "execution_count": 1,
   "metadata": {},
   "outputs": [
    {
     "data": {
      "text/plain": [
       "('8.2.0',)"
      ]
     },
     "execution_count": 1,
     "metadata": {},
     "output_type": "execute_result"
    }
   ],
   "source": [
    "import pymysql\n",
    "\n",
    "db = pymysql.connect(host='localhost', user='root', passwd='', port=3306)\n",
    "cursor = db.cursor()  # 获取操作游标，利用游标可以执行SQL语句\n",
    "cursor.execute('SELECT VERSION()')\n",
    "data = cursor.fetchone()\n",
    "data"
   ]
  },
  {
   "cell_type": "code",
   "execution_count": 5,
   "metadata": {},
   "outputs": [],
   "source": [
    "cursor.execute('CREATE DATABASE spiders DEFAULT CHARACTER SET utf8mb4')  # 创建数据库\n",
    "db.close()"
   ]
  },
  {
   "cell_type": "markdown",
   "metadata": {},
   "source": [
    "2.创建表"
   ]
  },
  {
   "cell_type": "code",
   "execution_count": 6,
   "metadata": {},
   "outputs": [],
   "source": [
    "db = pymysql.connect(host='localhost', user='root', passwd='', port=3306, db='spiders')\n",
    "cursor = db.cursor()  # 获取操作游标，利用游标可以执行SQL语句\n",
    "sql = 'CREATE TABLE IF NOT EXISTS students (id VARCHAR(255) NOT NULL, name VARCHAR(255) NOT NULL, age INT NOT NULL, PRIMARY KEY (id))'\n",
    "cursor.execute(sql)\n",
    "db.close()"
   ]
  },
  {
   "cell_type": "markdown",
   "metadata": {},
   "source": [
    "3.常规使用"
   ]
  },
  {
   "cell_type": "code",
   "execution_count": 9,
   "metadata": {},
   "outputs": [],
   "source": [
    "import pymysql\n",
    "\n",
    "# 1.连接数据库\n",
    "# connection = pymysql.connect(host='localhost', user='root', passwd='', port=3306)\n",
    "# 1.2.创建数据库\n",
    "# cursor.execute('CREATE DATABASE spiders DEFAULT CHARACTER SET utf8mb4')  # 创建数据库\n",
    "# 1.3 连接数据库\n",
    "connection = pymysql.connect(host='localhost', user='root', passwd='', port=3306, db='spiders')\n",
    "with connection:  # 构建上下文，不用手动关闭数据库了\n",
    "    # 2.操作游标\n",
    "    with connection.cursor() as cursor:\n",
    "        # 3. 创建一条新记录\n",
    "        id = '20120001'\n",
    "        user = 'Bob'\n",
    "        age = 20\n",
    "        sql = f'INSERT INTO students(id, name, age) values(\"{id}\", \"{user}\", {age})'\n",
    "        cursor.execute(sql)\n",
    "    # 4.连接不会默认提交，因此这里手动保存改变\n",
    "    connection.commit()\n",
    "    with connection.cursor() as cursor:\n",
    "        # 读取单个记录\n",
    "        sql = \"SELECT `id`, `password` FROM `users` WHERE `email`=%s\"\n",
    "        cursor.execute( )"
   ]
  },
  {
   "cell_type": "code",
   "execution_count": 8,
   "metadata": {},
   "outputs": [
    {
     "name": "stdout",
     "output_type": "stream",
     "text": [
      "INSERT INTO students(id, name, age) values(20120001, Bob, 20)\n"
     ]
    }
   ],
   "source": [
    "print(sql)"
   ]
  },
  {
   "cell_type": "code",
   "execution_count": null,
   "metadata": {},
   "outputs": [],
   "source": []
  }
 ],
 "metadata": {
  "kernelspec": {
   "display_name": "base",
   "language": "python",
   "name": "python3"
  },
  "language_info": {
   "codemirror_mode": {
    "name": "ipython",
    "version": 3
   },
   "file_extension": ".py",
   "mimetype": "text/x-python",
   "name": "python",
   "nbconvert_exporter": "python",
   "pygments_lexer": "ipython3",
   "version": "3.12.1"
  }
 },
 "nbformat": 4,
 "nbformat_minor": 2
}
