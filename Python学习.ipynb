{
 "cells": [
  {
   "cell_type": "markdown",
   "metadata": {},
   "source": [
    "# 第一章 Python数据模型"
   ]
  },
  {
   "cell_type": "code",
   "execution_count": 1,
   "metadata": {},
   "outputs": [],
   "source": [
    "import collections\n",
    "\n",
    "Card = collections.namedtuple('Card', ['rank', 'suit'])\n",
    "class FrenchDeck:\n",
    "    ranks = [str(n) for n in range(2, 11)] + list('JQKA')\n",
    "    suits = 'spades diamonds clubs hearts'.split()\n",
    "\n",
    "    def __init__(self):\n",
    "        self._cards = [Card(rank, suit) for suit in self.suits\n",
    "                       for rank in self. ranks]\n",
    "    def __len__(self):\n",
    "        return len(self._cards)\n",
    "\n",
    "    def __getitem__(self, position):\n",
    "        return self._cards[position]"
   ]
  },
  {
   "cell_type": "code",
   "execution_count": 2,
   "metadata": {},
   "outputs": [
    {
     "data": {
      "text/plain": [
       "Card(rank='7', suit='diamonds')"
      ]
     },
     "execution_count": 2,
     "metadata": {},
     "output_type": "execute_result"
    }
   ],
   "source": [
    "beer_card = Card('7', 'diamonds')\n",
    "beer_card"
   ]
  },
  {
   "cell_type": "code",
   "execution_count": 3,
   "metadata": {},
   "outputs": [
    {
     "data": {
      "text/plain": [
       "52"
      ]
     },
     "execution_count": 3,
     "metadata": {},
     "output_type": "execute_result"
    }
   ],
   "source": [
    "deck = FrenchDeck()\n",
    "len(deck)"
   ]
  },
  {
   "cell_type": "code",
   "execution_count": 4,
   "metadata": {},
   "outputs": [
    {
     "data": {
      "text/plain": [
       "Card(rank='2', suit='spades')"
      ]
     },
     "execution_count": 4,
     "metadata": {},
     "output_type": "execute_result"
    }
   ],
   "source": [
    "deck[0]"
   ]
  },
  {
   "cell_type": "code",
   "execution_count": 5,
   "metadata": {},
   "outputs": [
    {
     "data": {
      "text/plain": [
       "Card(rank='A', suit='hearts')"
      ]
     },
     "execution_count": 5,
     "metadata": {},
     "output_type": "execute_result"
    }
   ],
   "source": [
    "deck[-1]"
   ]
  },
  {
   "cell_type": "code",
   "execution_count": 11,
   "metadata": {},
   "outputs": [
    {
     "data": {
      "text/plain": [
       "Card(rank='5', suit='diamonds')"
      ]
     },
     "execution_count": 11,
     "metadata": {},
     "output_type": "execute_result"
    }
   ],
   "source": [
    "from random import choice\n",
    "choice(deck)"
   ]
  },
  {
   "cell_type": "code",
   "execution_count": 12,
   "metadata": {},
   "outputs": [
    {
     "data": {
      "text/plain": [
       "[Card(rank='2', suit='spades'),\n",
       " Card(rank='3', suit='spades'),\n",
       " Card(rank='4', suit='spades')]"
      ]
     },
     "execution_count": 12,
     "metadata": {},
     "output_type": "execute_result"
    }
   ],
   "source": [
    "deck[:3]"
   ]
  },
  {
   "cell_type": "code",
   "execution_count": 13,
   "metadata": {},
   "outputs": [
    {
     "data": {
      "text/plain": [
       "[Card(rank='A', suit='spades'),\n",
       " Card(rank='A', suit='diamonds'),\n",
       " Card(rank='A', suit='clubs'),\n",
       " Card(rank='A', suit='hearts')]"
      ]
     },
     "execution_count": 13,
     "metadata": {},
     "output_type": "execute_result"
    }
   ],
   "source": [
    "deck[12::13]"
   ]
  },
  {
   "cell_type": "code",
   "execution_count": 14,
   "metadata": {},
   "outputs": [
    {
     "name": "stdout",
     "output_type": "stream",
     "text": [
      "Card(rank='2', suit='spades')\n",
      "Card(rank='3', suit='spades')\n",
      "Card(rank='4', suit='spades')\n",
      "Card(rank='5', suit='spades')\n",
      "Card(rank='6', suit='spades')\n",
      "Card(rank='7', suit='spades')\n",
      "Card(rank='8', suit='spades')\n",
      "Card(rank='9', suit='spades')\n",
      "Card(rank='10', suit='spades')\n",
      "Card(rank='J', suit='spades')\n",
      "Card(rank='Q', suit='spades')\n",
      "Card(rank='K', suit='spades')\n",
      "Card(rank='A', suit='spades')\n",
      "Card(rank='2', suit='diamonds')\n",
      "Card(rank='3', suit='diamonds')\n",
      "Card(rank='4', suit='diamonds')\n",
      "Card(rank='5', suit='diamonds')\n",
      "Card(rank='6', suit='diamonds')\n",
      "Card(rank='7', suit='diamonds')\n",
      "Card(rank='8', suit='diamonds')\n",
      "Card(rank='9', suit='diamonds')\n",
      "Card(rank='10', suit='diamonds')\n",
      "Card(rank='J', suit='diamonds')\n",
      "Card(rank='Q', suit='diamonds')\n",
      "Card(rank='K', suit='diamonds')\n",
      "Card(rank='A', suit='diamonds')\n",
      "Card(rank='2', suit='clubs')\n",
      "Card(rank='3', suit='clubs')\n",
      "Card(rank='4', suit='clubs')\n",
      "Card(rank='5', suit='clubs')\n",
      "Card(rank='6', suit='clubs')\n",
      "Card(rank='7', suit='clubs')\n",
      "Card(rank='8', suit='clubs')\n",
      "Card(rank='9', suit='clubs')\n",
      "Card(rank='10', suit='clubs')\n",
      "Card(rank='J', suit='clubs')\n",
      "Card(rank='Q', suit='clubs')\n",
      "Card(rank='K', suit='clubs')\n",
      "Card(rank='A', suit='clubs')\n",
      "Card(rank='2', suit='hearts')\n",
      "Card(rank='3', suit='hearts')\n",
      "Card(rank='4', suit='hearts')\n",
      "Card(rank='5', suit='hearts')\n",
      "Card(rank='6', suit='hearts')\n",
      "Card(rank='7', suit='hearts')\n",
      "Card(rank='8', suit='hearts')\n",
      "Card(rank='9', suit='hearts')\n",
      "Card(rank='10', suit='hearts')\n",
      "Card(rank='J', suit='hearts')\n",
      "Card(rank='Q', suit='hearts')\n",
      "Card(rank='K', suit='hearts')\n",
      "Card(rank='A', suit='hearts')\n"
     ]
    }
   ],
   "source": [
    "for card in deck:\n",
    "    print(card)"
   ]
  },
  {
   "cell_type": "code",
   "execution_count": 15,
   "metadata": {},
   "outputs": [
    {
     "name": "stdout",
     "output_type": "stream",
     "text": [
      "Card(rank='A', suit='hearts')\n",
      "Card(rank='K', suit='hearts')\n",
      "Card(rank='Q', suit='hearts')\n",
      "Card(rank='J', suit='hearts')\n",
      "Card(rank='10', suit='hearts')\n",
      "Card(rank='9', suit='hearts')\n",
      "Card(rank='8', suit='hearts')\n",
      "Card(rank='7', suit='hearts')\n",
      "Card(rank='6', suit='hearts')\n",
      "Card(rank='5', suit='hearts')\n",
      "Card(rank='4', suit='hearts')\n",
      "Card(rank='3', suit='hearts')\n",
      "Card(rank='2', suit='hearts')\n",
      "Card(rank='A', suit='clubs')\n",
      "Card(rank='K', suit='clubs')\n",
      "Card(rank='Q', suit='clubs')\n",
      "Card(rank='J', suit='clubs')\n",
      "Card(rank='10', suit='clubs')\n",
      "Card(rank='9', suit='clubs')\n",
      "Card(rank='8', suit='clubs')\n",
      "Card(rank='7', suit='clubs')\n",
      "Card(rank='6', suit='clubs')\n",
      "Card(rank='5', suit='clubs')\n",
      "Card(rank='4', suit='clubs')\n",
      "Card(rank='3', suit='clubs')\n",
      "Card(rank='2', suit='clubs')\n",
      "Card(rank='A', suit='diamonds')\n",
      "Card(rank='K', suit='diamonds')\n",
      "Card(rank='Q', suit='diamonds')\n",
      "Card(rank='J', suit='diamonds')\n",
      "Card(rank='10', suit='diamonds')\n",
      "Card(rank='9', suit='diamonds')\n",
      "Card(rank='8', suit='diamonds')\n",
      "Card(rank='7', suit='diamonds')\n",
      "Card(rank='6', suit='diamonds')\n",
      "Card(rank='5', suit='diamonds')\n",
      "Card(rank='4', suit='diamonds')\n",
      "Card(rank='3', suit='diamonds')\n",
      "Card(rank='2', suit='diamonds')\n",
      "Card(rank='A', suit='spades')\n",
      "Card(rank='K', suit='spades')\n",
      "Card(rank='Q', suit='spades')\n",
      "Card(rank='J', suit='spades')\n",
      "Card(rank='10', suit='spades')\n",
      "Card(rank='9', suit='spades')\n",
      "Card(rank='8', suit='spades')\n",
      "Card(rank='7', suit='spades')\n",
      "Card(rank='6', suit='spades')\n",
      "Card(rank='5', suit='spades')\n",
      "Card(rank='4', suit='spades')\n",
      "Card(rank='3', suit='spades')\n",
      "Card(rank='2', suit='spades')\n"
     ]
    }
   ],
   "source": [
    "for card in reversed(deck):\n",
    "    print(card)"
   ]
  },
  {
   "cell_type": "code",
   "execution_count": 16,
   "metadata": {},
   "outputs": [
    {
     "data": {
      "text/plain": [
       "True"
      ]
     },
     "execution_count": 16,
     "metadata": {},
     "output_type": "execute_result"
    }
   ],
   "source": [
    "Card('Q', 'hearts') in deck"
   ]
  },
  {
   "cell_type": "code",
   "execution_count": 17,
   "metadata": {},
   "outputs": [
    {
     "data": {
      "text/plain": [
       "False"
      ]
     },
     "execution_count": 17,
     "metadata": {},
     "output_type": "execute_result"
    }
   ],
   "source": [
    "Card('7', 'beats') in deck"
   ]
  },
  {
   "cell_type": "code",
   "execution_count": 18,
   "metadata": {},
   "outputs": [],
   "source": [
    "suit_values = dict(spades=3, hearts=2, diamonds=1, clubs=0)\n",
    "def spades_high(card):\n",
    "    rank_value = FrenchDeck.ranks.index(card.rank)\n",
    "    return rank_value * len(suit_values) + suit_values[card.suit]"
   ]
  },
  {
   "cell_type": "code",
   "execution_count": 19,
   "metadata": {},
   "outputs": [
    {
     "name": "stdout",
     "output_type": "stream",
     "text": [
      "Card(rank='2', suit='clubs')\n",
      "Card(rank='2', suit='diamonds')\n",
      "Card(rank='2', suit='hearts')\n",
      "Card(rank='2', suit='spades')\n",
      "Card(rank='3', suit='clubs')\n",
      "Card(rank='3', suit='diamonds')\n",
      "Card(rank='3', suit='hearts')\n",
      "Card(rank='3', suit='spades')\n",
      "Card(rank='4', suit='clubs')\n",
      "Card(rank='4', suit='diamonds')\n",
      "Card(rank='4', suit='hearts')\n",
      "Card(rank='4', suit='spades')\n",
      "Card(rank='5', suit='clubs')\n",
      "Card(rank='5', suit='diamonds')\n",
      "Card(rank='5', suit='hearts')\n",
      "Card(rank='5', suit='spades')\n",
      "Card(rank='6', suit='clubs')\n",
      "Card(rank='6', suit='diamonds')\n",
      "Card(rank='6', suit='hearts')\n",
      "Card(rank='6', suit='spades')\n",
      "Card(rank='7', suit='clubs')\n",
      "Card(rank='7', suit='diamonds')\n",
      "Card(rank='7', suit='hearts')\n",
      "Card(rank='7', suit='spades')\n",
      "Card(rank='8', suit='clubs')\n",
      "Card(rank='8', suit='diamonds')\n",
      "Card(rank='8', suit='hearts')\n",
      "Card(rank='8', suit='spades')\n",
      "Card(rank='9', suit='clubs')\n",
      "Card(rank='9', suit='diamonds')\n",
      "Card(rank='9', suit='hearts')\n",
      "Card(rank='9', suit='spades')\n",
      "Card(rank='10', suit='clubs')\n",
      "Card(rank='10', suit='diamonds')\n",
      "Card(rank='10', suit='hearts')\n",
      "Card(rank='10', suit='spades')\n",
      "Card(rank='J', suit='clubs')\n",
      "Card(rank='J', suit='diamonds')\n",
      "Card(rank='J', suit='hearts')\n",
      "Card(rank='J', suit='spades')\n",
      "Card(rank='Q', suit='clubs')\n",
      "Card(rank='Q', suit='diamonds')\n",
      "Card(rank='Q', suit='hearts')\n",
      "Card(rank='Q', suit='spades')\n",
      "Card(rank='K', suit='clubs')\n",
      "Card(rank='K', suit='diamonds')\n",
      "Card(rank='K', suit='hearts')\n",
      "Card(rank='K', suit='spades')\n",
      "Card(rank='A', suit='clubs')\n",
      "Card(rank='A', suit='diamonds')\n",
      "Card(rank='A', suit='hearts')\n",
      "Card(rank='A', suit='spades')\n"
     ]
    }
   ],
   "source": [
    "for card in sorted(deck, key=spades_high):\n",
    "    print(card)"
   ]
  },
  {
   "cell_type": "code",
   "execution_count": 20,
   "metadata": {},
   "outputs": [],
   "source": [
    "import math\n",
    "\n",
    "class Vector:\n",
    "    def __init__(self, x=0, y=0):\n",
    "        self.x = x\n",
    "        self.y = y\n",
    "\n",
    "    def __repr__(self) -> str:\n",
    "        return f'Vector({self.x!r}, {self.y!r})'\n",
    "\n",
    "    def __abs__(self):\n",
    "        return math.hypot(self.x, self.y)\n",
    "\n",
    "    def __bool__(self):\n",
    "        return bool(abs(self))\n",
    "\n",
    "    def __add__(self, other):\n",
    "        x = self.x + other.x\n",
    "        y = self.y + other.y\n",
    "        return Vector(x, y)\n",
    "\n",
    "    def __mul__(self, scalar):\n",
    "        return Vector(self.x * scalar, self.y * scalar)"
   ]
  },
  {
   "cell_type": "markdown",
   "metadata": {},
   "source": [
    "# 第二章 序列"
   ]
  },
  {
   "cell_type": "code",
   "execution_count": 23,
   "metadata": {},
   "outputs": [
    {
     "data": {
      "text/plain": [
       "(True, False)"
      ]
     },
     "execution_count": 23,
     "metadata": {},
     "output_type": "execute_result"
    }
   ],
   "source": [
    "from collections import abc\n",
    "\n",
    "issubclass(tuple, abc.Sequence), issubclass(tuple, abc.MutableSequence)"
   ]
  },
  {
   "cell_type": "code",
   "execution_count": 22,
   "metadata": {},
   "outputs": [
    {
     "data": {
      "text/plain": [
       "True"
      ]
     },
     "execution_count": 22,
     "metadata": {},
     "output_type": "execute_result"
    }
   ],
   "source": [
    "issubclass(list, abc.MutableSequence)"
   ]
  },
  {
   "cell_type": "code",
   "execution_count": 24,
   "metadata": {},
   "outputs": [
    {
     "data": {
      "text/plain": [
       "'ABC'"
      ]
     },
     "execution_count": 24,
     "metadata": {},
     "output_type": "execute_result"
    }
   ],
   "source": [
    "x = 'ABC'\n",
    "codes = [ord(x) for x in x]\n",
    "x"
   ]
  },
  {
   "cell_type": "code",
   "execution_count": 25,
   "metadata": {},
   "outputs": [
    {
     "data": {
      "text/plain": [
       "[65, 66, 67]"
      ]
     },
     "execution_count": 25,
     "metadata": {},
     "output_type": "execute_result"
    }
   ],
   "source": [
    "codes"
   ]
  },
  {
   "cell_type": "code",
   "execution_count": 27,
   "metadata": {},
   "outputs": [
    {
     "data": {
      "text/plain": [
       "67"
      ]
     },
     "execution_count": 27,
     "metadata": {},
     "output_type": "execute_result"
    }
   ],
   "source": [
    "codes = [last := ord(c) for c in x]\n",
    "last"
   ]
  },
  {
   "cell_type": "code",
   "execution_count": 28,
   "metadata": {},
   "outputs": [
    {
     "ename": "NameError",
     "evalue": "name 'c' is not defined",
     "output_type": "error",
     "traceback": [
      "\u001b[1;31m---------------------------------------------------------------------------\u001b[0m",
      "\u001b[1;31mNameError\u001b[0m                                 Traceback (most recent call last)",
      "\u001b[1;32m<ipython-input-28-2b66fd261ee5>\u001b[0m in \u001b[0;36m<module>\u001b[1;34m\u001b[0m\n\u001b[1;32m----> 1\u001b[1;33m \u001b[0mc\u001b[0m\u001b[1;33m\u001b[0m\u001b[1;33m\u001b[0m\u001b[0m\n\u001b[0m",
      "\u001b[1;31mNameError\u001b[0m: name 'c' is not defined"
     ]
    }
   ],
   "source": [
    "c"
   ]
  },
  {
   "cell_type": "code",
   "execution_count": 29,
   "metadata": {},
   "outputs": [
    {
     "data": {
      "text/plain": [
       "[162, 163, 165, 8364, 164]"
      ]
     },
     "execution_count": 29,
     "metadata": {},
     "output_type": "execute_result"
    }
   ],
   "source": [
    "symbols = '$¢£¥€¤'\n",
    "beyond_ascii = [ord(s) for s in symbols if ord(s) > 127]\n",
    "beyond_ascii"
   ]
  },
  {
   "cell_type": "code",
   "execution_count": 30,
   "metadata": {},
   "outputs": [
    {
     "data": {
      "text/plain": [
       "[162, 163, 165, 8364, 164]"
      ]
     },
     "execution_count": 30,
     "metadata": {},
     "output_type": "execute_result"
    }
   ],
   "source": [
    "beyond_ascii = list(filter(lambda c: c > 127, map(ord, symbols)))\n",
    "beyond_ascii"
   ]
  },
  {
   "cell_type": "code",
   "execution_count": 31,
   "metadata": {},
   "outputs": [
    {
     "data": {
      "text/plain": [
       "[('black', 'S'),\n",
       " ('black', 'M'),\n",
       " ('black', 'L'),\n",
       " ('white', 'S'),\n",
       " ('white', 'M'),\n",
       " ('white', 'L')]"
      ]
     },
     "execution_count": 31,
     "metadata": {},
     "output_type": "execute_result"
    }
   ],
   "source": [
    "colors = ['black', 'white']\n",
    "sizes = ['S', 'M', 'L']\n",
    "tshirts = [(color, size) for color in colors\n",
    "           for size in sizes]\n",
    "tshirts"
   ]
  },
  {
   "cell_type": "code",
   "execution_count": 32,
   "metadata": {},
   "outputs": [
    {
     "data": {
      "text/plain": [
       "(36, 162, 163, 165, 8364, 164)"
      ]
     },
     "execution_count": 32,
     "metadata": {},
     "output_type": "execute_result"
    }
   ],
   "source": [
    "symbols = '$¢£¥€¤'\n",
    "tuple(ord(symbol) for symbol in symbols)"
   ]
  },
  {
   "cell_type": "code",
   "execution_count": 33,
   "metadata": {},
   "outputs": [
    {
     "data": {
      "text/plain": [
       "<generator object <genexpr> at 0x000002434E028190>"
      ]
     },
     "execution_count": 33,
     "metadata": {},
     "output_type": "execute_result"
    }
   ],
   "source": [
    "(ord(symbol) for symbol in symbols)"
   ]
  },
  {
   "cell_type": "code",
   "execution_count": 34,
   "metadata": {},
   "outputs": [
    {
     "data": {
      "text/plain": [
       "array('I', [36, 162, 163, 165, 8364, 164])"
      ]
     },
     "execution_count": 34,
     "metadata": {},
     "output_type": "execute_result"
    }
   ],
   "source": [
    "import array\n",
    "array.array('I', (ord(symbol) for symbol in symbols))"
   ]
  },
  {
   "cell_type": "code",
   "execution_count": 35,
   "metadata": {},
   "outputs": [
    {
     "name": "stdout",
     "output_type": "stream",
     "text": [
      "black S\n",
      "black M\n",
      "black L\n",
      "white S\n",
      "white M\n",
      "white L\n"
     ]
    }
   ],
   "source": [
    "colors = ['black', 'white']\n",
    "sizes = ['S', 'M', 'L']\n",
    "for tshirts in (f'{color} {size}' for color in colors\n",
    "           for size in sizes):\n",
    "    print(tshirts)\n",
    "# tshirts = [(color, size) for color in colors\n",
    "#            for size in sizes]\n",
    "# tshirts"
   ]
  },
  {
   "cell_type": "code",
   "execution_count": 36,
   "metadata": {},
   "outputs": [
    {
     "name": "stdout",
     "output_type": "stream",
     "text": [
      "BRA/CE342567\n",
      "ESP/XDA205856\n",
      "USA/31195855\n"
     ]
    }
   ],
   "source": [
    "lax_coordinates = (33.9425, -118.408056)\n",
    "city, year, pop, chg, area = ('Tokyo', 2003, 32_450, 0.66, 8014)\n",
    "traveler_ids = [('USA', '31195855'), ('BRA', 'CE342567'),\n",
    "                ('ESP', 'XDA205856')]\n",
    "for passport in sorted(traveler_ids):\n",
    "    print('%s/%s' % passport)"
   ]
  },
  {
   "cell_type": "code",
   "execution_count": 37,
   "metadata": {},
   "outputs": [
    {
     "name": "stdout",
     "output_type": "stream",
     "text": [
      "USA\n",
      "BRA\n",
      "ESP\n"
     ]
    }
   ],
   "source": [
    "for country, _ in traveler_ids:\n",
    "    print(country)"
   ]
  },
  {
   "cell_type": "code",
   "execution_count": 38,
   "metadata": {},
   "outputs": [
    {
     "data": {
      "text/plain": [
       "True"
      ]
     },
     "execution_count": 38,
     "metadata": {},
     "output_type": "execute_result"
    }
   ],
   "source": [
    "a = (10, 'alpha', [1, 2])\n",
    "b = (10, 'alpha', [1, 2])\n",
    "a == b"
   ]
  },
  {
   "cell_type": "code",
   "execution_count": 39,
   "metadata": {},
   "outputs": [
    {
     "data": {
      "text/plain": [
       "(False, (10, 'alpha', [1, 2, 99]))"
      ]
     },
     "execution_count": 39,
     "metadata": {},
     "output_type": "execute_result"
    }
   ],
   "source": [
    "b[-1].append(99)\n",
    "a == b, b"
   ]
  },
  {
   "cell_type": "code",
   "execution_count": 40,
   "metadata": {},
   "outputs": [],
   "source": [
    "def fixed(o):\n",
    "    try:\n",
    "        hash(o)\n",
    "    except TypeError:\n",
    "        return False\n",
    "    return True"
   ]
  },
  {
   "cell_type": "code",
   "execution_count": 41,
   "metadata": {},
   "outputs": [
    {
     "data": {
      "text/plain": [
       "(True, False)"
      ]
     },
     "execution_count": 41,
     "metadata": {},
     "output_type": "execute_result"
    }
   ],
   "source": [
    "tf = (10, 'alpha', (1, 2))\n",
    "tm = (10, 'alpha', [1, 2])\n",
    "fixed(tf), fixed(tm)"
   ]
  },
  {
   "cell_type": "markdown",
   "metadata": {},
   "source": [
    "# 三"
   ]
  },
  {
   "cell_type": "code",
   "execution_count": 1,
   "metadata": {},
   "outputs": [
    {
     "data": {
      "text/plain": [
       "{'a': 0, 'x': 1}"
      ]
     },
     "execution_count": 1,
     "metadata": {},
     "output_type": "execute_result"
    }
   ],
   "source": [
    "{'a': 0, **{'x': 1}}"
   ]
  },
  {
   "cell_type": "code",
   "execution_count": 2,
   "metadata": {},
   "outputs": [
    {
     "data": {
      "text/plain": [
       "{'a': 2, 'b': 4, 'c': 6}"
      ]
     },
     "execution_count": 2,
     "metadata": {},
     "output_type": "execute_result"
    }
   ],
   "source": [
    "d1 = {'a': 1, 'b': 3}\n",
    "d2 = {'a': 2, 'b': 4, 'c': 6}\n",
    "d1 | d2"
   ]
  },
  {
   "cell_type": "code",
   "execution_count": 3,
   "metadata": {},
   "outputs": [
    {
     "data": {
      "text/plain": [
       "{'a': 2, 'b': 4, 'c': 6}"
      ]
     },
     "execution_count": 3,
     "metadata": {},
     "output_type": "execute_result"
    }
   ],
   "source": [
    "d1 |= d2\n",
    "d1"
   ]
  },
  {
   "cell_type": "code",
   "execution_count": 6,
   "metadata": {},
   "outputs": [],
   "source": [
    "from collections import abc"
   ]
  },
  {
   "cell_type": "code",
   "execution_count": 7,
   "metadata": {},
   "outputs": [
    {
     "data": {
      "text/plain": [
       "True"
      ]
     },
     "execution_count": 7,
     "metadata": {},
     "output_type": "execute_result"
    }
   ],
   "source": [
    "my_dict = {}\n",
    "isinstance(my_dict, abc.Mapping)"
   ]
  },
  {
   "cell_type": "code",
   "execution_count": 8,
   "metadata": {},
   "outputs": [
    {
     "data": {
      "text/plain": [
       "-3907003130834322577"
      ]
     },
     "execution_count": 8,
     "metadata": {},
     "output_type": "execute_result"
    }
   ],
   "source": [
    "tt = (1, 2, (30, 40))\n",
    "hash(tt)"
   ]
  },
  {
   "cell_type": "code",
   "execution_count": 9,
   "metadata": {},
   "outputs": [
    {
     "ename": "TypeError",
     "evalue": "unhashable type: 'list'",
     "output_type": "error",
     "traceback": [
      "\u001b[1;31m---------------------------------------------------------------------------\u001b[0m",
      "\u001b[1;31mTypeError\u001b[0m                                 Traceback (most recent call last)",
      "Input \u001b[1;32mIn [9]\u001b[0m, in \u001b[0;36m<cell line: 2>\u001b[1;34m()\u001b[0m\n\u001b[0;32m      1\u001b[0m tl \u001b[38;5;241m=\u001b[39m (\u001b[38;5;241m1\u001b[39m, \u001b[38;5;241m2\u001b[39m, [\u001b[38;5;241m30\u001b[39m, \u001b[38;5;241m50\u001b[39m])\n\u001b[1;32m----> 2\u001b[0m \u001b[38;5;28;43mhash\u001b[39;49m\u001b[43m(\u001b[49m\u001b[43mtl\u001b[49m\u001b[43m)\u001b[49m\n",
      "\u001b[1;31mTypeError\u001b[0m: unhashable type: 'list'"
     ]
    }
   ],
   "source": [
    "tl = (1, 2, [30, 50])\n",
    "hash(tl)"
   ]
  },
  {
   "cell_type": "code",
   "execution_count": 10,
   "metadata": {},
   "outputs": [],
   "source": [
    "tf = (1, 2, frozenset([30, 40]))"
   ]
  },
  {
   "cell_type": "code",
   "execution_count": 11,
   "metadata": {},
   "outputs": [
    {
     "data": {
      "text/plain": [
       "5149391500123939311"
      ]
     },
     "execution_count": 11,
     "metadata": {},
     "output_type": "execute_result"
    }
   ],
   "source": [
    "hash(tf)"
   ]
  },
  {
   "cell_type": "code",
   "execution_count": 12,
   "metadata": {},
   "outputs": [
    {
     "data": {
      "text/plain": [
       "mappingproxy({1: 'A'})"
      ]
     },
     "execution_count": 12,
     "metadata": {},
     "output_type": "execute_result"
    }
   ],
   "source": [
    "from types import MappingProxyType\n",
    "d = {1: 'A'}\n",
    "d_proxy = MappingProxyType(d)\n",
    "d_proxy"
   ]
  },
  {
   "cell_type": "code",
   "execution_count": 13,
   "metadata": {},
   "outputs": [
    {
     "data": {
      "text/plain": [
       "'A'"
      ]
     },
     "execution_count": 13,
     "metadata": {},
     "output_type": "execute_result"
    }
   ],
   "source": [
    "d_proxy[1]"
   ]
  },
  {
   "cell_type": "code",
   "execution_count": 14,
   "metadata": {},
   "outputs": [
    {
     "ename": "TypeError",
     "evalue": "'mappingproxy' object does not support item assignment",
     "output_type": "error",
     "traceback": [
      "\u001b[1;31m---------------------------------------------------------------------------\u001b[0m",
      "\u001b[1;31mTypeError\u001b[0m                                 Traceback (most recent call last)",
      "Input \u001b[1;32mIn [14]\u001b[0m, in \u001b[0;36m<cell line: 1>\u001b[1;34m()\u001b[0m\n\u001b[1;32m----> 1\u001b[0m d_proxy[\u001b[38;5;241m2\u001b[39m] \u001b[38;5;241m=\u001b[39m \u001b[38;5;124m'\u001b[39m\u001b[38;5;124mx\u001b[39m\u001b[38;5;124m'\u001b[39m\n",
      "\u001b[1;31mTypeError\u001b[0m: 'mappingproxy' object does not support item assignment"
     ]
    }
   ],
   "source": [
    "d_proxy[2] = 'x'"
   ]
  },
  {
   "cell_type": "code",
   "execution_count": 15,
   "metadata": {},
   "outputs": [
    {
     "data": {
      "text/plain": [
       "mappingproxy({1: 'A', 2: 'B'})"
      ]
     },
     "execution_count": 15,
     "metadata": {},
     "output_type": "execute_result"
    }
   ],
   "source": [
    "d[2] = 'B'\n",
    "d_proxy"
   ]
  },
  {
   "cell_type": "code",
   "execution_count": 19,
   "metadata": {},
   "outputs": [
    {
     "data": {
      "text/plain": [
       "dict_values([10, 20, 30])"
      ]
     },
     "execution_count": 19,
     "metadata": {},
     "output_type": "execute_result"
    }
   ],
   "source": [
    "d = {'a': 10, 'b': 20, 'c': 30}\n",
    "values = d.values()\n",
    "values"
   ]
  },
  {
   "cell_type": "code",
   "execution_count": 20,
   "metadata": {},
   "outputs": [
    {
     "ename": "TypeError",
     "evalue": "'dict_values' object is not subscriptable",
     "output_type": "error",
     "traceback": [
      "\u001b[1;31m---------------------------------------------------------------------------\u001b[0m",
      "\u001b[1;31mTypeError\u001b[0m                                 Traceback (most recent call last)",
      "Input \u001b[1;32mIn [20]\u001b[0m, in \u001b[0;36m<cell line: 1>\u001b[1;34m()\u001b[0m\n\u001b[1;32m----> 1\u001b[0m \u001b[43mvalues\u001b[49m\u001b[43m[\u001b[49m\u001b[38;5;241;43m1\u001b[39;49m\u001b[43m]\u001b[49m\n",
      "\u001b[1;31mTypeError\u001b[0m: 'dict_values' object is not subscriptable"
     ]
    }
   ],
   "source": [
    "values[1]"
   ]
  },
  {
   "cell_type": "code",
   "execution_count": 25,
   "metadata": {},
   "outputs": [],
   "source": [
    "d['d'] = 40"
   ]
  },
  {
   "cell_type": "code",
   "execution_count": 26,
   "metadata": {},
   "outputs": [
    {
     "data": {
      "text/plain": [
       "dict_values([10, 20, 30, 40])"
      ]
     },
     "execution_count": 26,
     "metadata": {},
     "output_type": "execute_result"
    }
   ],
   "source": [
    "values"
   ]
  },
  {
   "cell_type": "code",
   "execution_count": 27,
   "metadata": {},
   "outputs": [],
   "source": [
    "l = ['spam', 'spam', 'eggs', 'spam', 'bacon', 'eggs']"
   ]
  },
  {
   "cell_type": "code",
   "execution_count": 30,
   "metadata": {},
   "outputs": [
    {
     "data": {
      "text/plain": [
       "['spam', 'eggs', 'bacon']"
      ]
     },
     "execution_count": 30,
     "metadata": {},
     "output_type": "execute_result"
    }
   ],
   "source": [
    "list(dict.fromkeys(l).keys())"
   ]
  },
  {
   "cell_type": "code",
   "execution_count": 32,
   "metadata": {},
   "outputs": [
    {
     "name": "stdout",
     "output_type": "stream",
     "text": [
      "  1           0 LOAD_CONST               0 (1)\n",
      "              2 BUILD_SET                1\n",
      "              4 RETURN_VALUE\n"
     ]
    }
   ],
   "source": [
    "from dis import dis\n",
    "\n",
    "dis('{1}')"
   ]
  },
  {
   "cell_type": "code",
   "execution_count": 33,
   "metadata": {},
   "outputs": [
    {
     "name": "stdout",
     "output_type": "stream",
     "text": [
      "  1           0 LOAD_NAME                0 (set)\n",
      "              2 LOAD_CONST               0 (1)\n",
      "              4 BUILD_LIST               1\n",
      "              6 CALL_FUNCTION            1\n",
      "              8 RETURN_VALUE\n"
     ]
    }
   ],
   "source": [
    "dis('set([1])')"
   ]
  },
  {
   "cell_type": "code",
   "execution_count": 35,
   "metadata": {},
   "outputs": [
    {
     "data": {
      "text/plain": [
       "(' ', 'SPACE')"
      ]
     },
     "execution_count": 35,
     "metadata": {},
     "output_type": "execute_result"
    }
   ],
   "source": [
    "from unicodedata import name\n",
    "chr(32), name(chr(32), '')"
   ]
  },
  {
   "cell_type": "code",
   "execution_count": 36,
   "metadata": {},
   "outputs": [
    {
     "data": {
      "text/plain": [
       "4"
      ]
     },
     "execution_count": 36,
     "metadata": {},
     "output_type": "execute_result"
    }
   ],
   "source": [
    "s = 'cafe'\n",
    "len(s)"
   ]
  },
  {
   "cell_type": "code",
   "execution_count": 37,
   "metadata": {},
   "outputs": [],
   "source": [
    "b = s.encode('utf8')"
   ]
  },
  {
   "cell_type": "code",
   "execution_count": 38,
   "metadata": {},
   "outputs": [
    {
     "data": {
      "text/plain": [
       "b'cafe'"
      ]
     },
     "execution_count": 38,
     "metadata": {},
     "output_type": "execute_result"
    }
   ],
   "source": [
    "b"
   ]
  },
  {
   "cell_type": "code",
   "execution_count": 41,
   "metadata": {},
   "outputs": [
    {
     "data": {
      "text/plain": [
       "'café'"
      ]
     },
     "execution_count": 41,
     "metadata": {},
     "output_type": "execute_result"
    }
   ],
   "source": [
    "b = b'caf\\xc3\\xa9'  # bytes字面量\n",
    "cafe = b.decode('utf8')\n",
    "cafe"
   ]
  },
  {
   "cell_type": "code",
   "execution_count": 42,
   "metadata": {},
   "outputs": [
    {
     "data": {
      "text/plain": [
       "b'caf\\xc3\\xa9'"
      ]
     },
     "execution_count": 42,
     "metadata": {},
     "output_type": "execute_result"
    }
   ],
   "source": [
    "cafe = bytes(cafe, encoding='utf_8')\n",
    "cafe"
   ]
  },
  {
   "cell_type": "code",
   "execution_count": 43,
   "metadata": {},
   "outputs": [
    {
     "data": {
      "text/plain": [
       "99"
      ]
     },
     "execution_count": 43,
     "metadata": {},
     "output_type": "execute_result"
    }
   ],
   "source": [
    "cafe[0]"
   ]
  },
  {
   "cell_type": "code",
   "execution_count": 44,
   "metadata": {},
   "outputs": [
    {
     "data": {
      "text/plain": [
       "b'c'"
      ]
     },
     "execution_count": 44,
     "metadata": {},
     "output_type": "execute_result"
    }
   ],
   "source": [
    "cafe[:1]"
   ]
  },
  {
   "cell_type": "code",
   "execution_count": 45,
   "metadata": {},
   "outputs": [
    {
     "data": {
      "text/plain": [
       "bytearray(b'caf\\xc3\\xa9')"
      ]
     },
     "execution_count": 45,
     "metadata": {},
     "output_type": "execute_result"
    }
   ],
   "source": [
    "cafe_arr = bytearray(cafe)\n",
    "cafe_arr"
   ]
  },
  {
   "cell_type": "code",
   "execution_count": 46,
   "metadata": {},
   "outputs": [
    {
     "data": {
      "text/plain": [
       "bytearray(b'\\xa9')"
      ]
     },
     "execution_count": 46,
     "metadata": {},
     "output_type": "execute_result"
    }
   ],
   "source": [
    "cafe_arr[-1:]"
   ]
  },
  {
   "cell_type": "code",
   "execution_count": 51,
   "metadata": {},
   "outputs": [
    {
     "data": {
      "text/plain": [
       "b'1K\\xce\\xa9'"
      ]
     },
     "execution_count": 51,
     "metadata": {},
     "output_type": "execute_result"
    }
   ],
   "source": [
    "bytes.fromhex('314BCEa9')"
   ]
  },
  {
   "cell_type": "code",
   "execution_count": 52,
   "metadata": {},
   "outputs": [
    {
     "data": {
      "text/plain": [
       "b'\\xfe\\xff\\xff\\xff\\x00\\x00\\x01\\x00\\x02\\x00'"
      ]
     },
     "execution_count": 52,
     "metadata": {},
     "output_type": "execute_result"
    }
   ],
   "source": [
    "import array\n",
    "numbers = array.array('h', [-2, -1, 0, 1, 2])\n",
    "octets = bytes(numbers)\n",
    "octets"
   ]
  },
  {
   "cell_type": "code",
   "execution_count": 53,
   "metadata": {},
   "outputs": [
    {
     "data": {
      "text/plain": [
       "array('h', [-2, -1, 0, 1, 2])"
      ]
     },
     "execution_count": 53,
     "metadata": {},
     "output_type": "execute_result"
    }
   ],
   "source": [
    "numbers"
   ]
  },
  {
   "cell_type": "code",
   "execution_count": 54,
   "metadata": {},
   "outputs": [
    {
     "data": {
      "text/plain": [
       "'São Paulo'"
      ]
     },
     "execution_count": 54,
     "metadata": {},
     "output_type": "execute_result"
    }
   ],
   "source": [
    "a = b'S\\xc3\\xa3o Paulo'\n",
    "a.decode('utf-8')"
   ]
  },
  {
   "cell_type": "code",
   "execution_count": 55,
   "metadata": {},
   "outputs": [
    {
     "data": {
      "text/plain": [
       "b'S\\xe3o Paulo'"
      ]
     },
     "execution_count": 55,
     "metadata": {},
     "output_type": "execute_result"
    }
   ],
   "source": [
    "city = 'São Paulo'\n",
    "city.encode('iso8859_1')"
   ]
  },
  {
   "cell_type": "code",
   "execution_count": 56,
   "metadata": {},
   "outputs": [
    {
     "ename": "UnicodeEncodeError",
     "evalue": "'charmap' codec can't encode character '\\xe3' in position 1: character maps to <undefined>",
     "output_type": "error",
     "traceback": [
      "\u001b[1;31m---------------------------------------------------------------------------\u001b[0m",
      "\u001b[1;31mUnicodeEncodeError\u001b[0m                        Traceback (most recent call last)",
      "Input \u001b[1;32mIn [56]\u001b[0m, in \u001b[0;36m<cell line: 1>\u001b[1;34m()\u001b[0m\n\u001b[1;32m----> 1\u001b[0m \u001b[43mcity\u001b[49m\u001b[38;5;241;43m.\u001b[39;49m\u001b[43mencode\u001b[49m\u001b[43m(\u001b[49m\u001b[38;5;124;43m'\u001b[39;49m\u001b[38;5;124;43mcp437\u001b[39;49m\u001b[38;5;124;43m'\u001b[39;49m\u001b[43m)\u001b[49m\n",
      "File \u001b[1;32mc:\\Users\\sanshi\\anaconda3\\lib\\encodings\\cp437.py:12\u001b[0m, in \u001b[0;36mCodec.encode\u001b[1;34m(self, input, errors)\u001b[0m\n\u001b[0;32m     11\u001b[0m \u001b[38;5;28;01mdef\u001b[39;00m \u001b[38;5;21mencode\u001b[39m(\u001b[38;5;28mself\u001b[39m,\u001b[38;5;28minput\u001b[39m,errors\u001b[38;5;241m=\u001b[39m\u001b[38;5;124m'\u001b[39m\u001b[38;5;124mstrict\u001b[39m\u001b[38;5;124m'\u001b[39m):\n\u001b[1;32m---> 12\u001b[0m     \u001b[38;5;28;01mreturn\u001b[39;00m \u001b[43mcodecs\u001b[49m\u001b[38;5;241;43m.\u001b[39;49m\u001b[43mcharmap_encode\u001b[49m\u001b[43m(\u001b[49m\u001b[38;5;28;43minput\u001b[39;49m\u001b[43m,\u001b[49m\u001b[43merrors\u001b[49m\u001b[43m,\u001b[49m\u001b[43mencoding_map\u001b[49m\u001b[43m)\u001b[49m\n",
      "\u001b[1;31mUnicodeEncodeError\u001b[0m: 'charmap' codec can't encode character '\\xe3' in position 1: character maps to <undefined>"
     ]
    }
   ],
   "source": [
    "city.encode('cp437')"
   ]
  },
  {
   "cell_type": "code",
   "execution_count": 59,
   "metadata": {},
   "outputs": [
    {
     "data": {
      "text/plain": [
       "b'S&#227;o Paulo'"
      ]
     },
     "execution_count": 59,
     "metadata": {},
     "output_type": "execute_result"
    }
   ],
   "source": [
    "city.encode('cp437', errors='xmlcharrefreplace')"
   ]
  },
  {
   "cell_type": "code",
   "execution_count": 61,
   "metadata": {},
   "outputs": [
    {
     "data": {
      "text/plain": [
       "False"
      ]
     },
     "execution_count": 61,
     "metadata": {},
     "output_type": "execute_result"
    }
   ],
   "source": [
    "city.isascii()"
   ]
  },
  {
   "cell_type": "code",
   "execution_count": 62,
   "metadata": {},
   "outputs": [
    {
     "data": {
      "text/plain": [
       "b'Montr\\xe9al'"
      ]
     },
     "execution_count": 62,
     "metadata": {},
     "output_type": "execute_result"
    }
   ],
   "source": [
    "octets = b'Montr\\xe9al'\n",
    "octets"
   ]
  },
  {
   "cell_type": "code",
   "execution_count": 63,
   "metadata": {},
   "outputs": [
    {
     "data": {
      "text/plain": [
       "'Montréal'"
      ]
     },
     "execution_count": 63,
     "metadata": {},
     "output_type": "execute_result"
    }
   ],
   "source": [
    "octets.decode('cp1252')"
   ]
  },
  {
   "cell_type": "code",
   "execution_count": 68,
   "metadata": {},
   "outputs": [
    {
     "data": {
      "text/plain": [
       "'Montr�al'"
      ]
     },
     "execution_count": 68,
     "metadata": {},
     "output_type": "execute_result"
    }
   ],
   "source": [
    "octets.decode('iso8859_7')\n",
    "octets.decode('utf-8', errors='replace')"
   ]
  },
  {
   "cell_type": "code",
   "execution_count": 69,
   "metadata": {},
   "outputs": [],
   "source": [
    "u16 = 'El Niño'.encode('utf_16')"
   ]
  },
  {
   "cell_type": "code",
   "execution_count": 70,
   "metadata": {},
   "outputs": [
    {
     "data": {
      "text/plain": [
       "b'\\xff\\xfeE\\x00l\\x00 \\x00N\\x00i\\x00\\xf1\\x00o\\x00'"
      ]
     },
     "execution_count": 70,
     "metadata": {},
     "output_type": "execute_result"
    }
   ],
   "source": [
    "u16"
   ]
  },
  {
   "cell_type": "code",
   "execution_count": 72,
   "metadata": {},
   "outputs": [
    {
     "data": {
      "text/plain": [
       "[255, 254, 69, 0, 108, 0, 32, 0, 78, 0, 105, 0, 241, 0, 111, 0]"
      ]
     },
     "execution_count": 72,
     "metadata": {},
     "output_type": "execute_result"
    }
   ],
   "source": [
    "list(u16)"
   ]
  },
  {
   "cell_type": "code",
   "execution_count": 74,
   "metadata": {},
   "outputs": [
    {
     "data": {
      "text/plain": [
       "b'E\\x00l\\x00 \\x00N\\x00i\\x00\\xf1\\x00o\\x00'"
      ]
     },
     "execution_count": 74,
     "metadata": {},
     "output_type": "execute_result"
    }
   ],
   "source": [
    "u16le = 'El Niño'.encode('utf_16le')\n",
    "u16le"
   ]
  },
  {
   "cell_type": "code",
   "execution_count": 75,
   "metadata": {},
   "outputs": [
    {
     "data": {
      "text/plain": [
       "[69, 0, 108, 0, 32, 0, 78, 0, 105, 0, 241, 0, 111, 0]"
      ]
     },
     "execution_count": 75,
     "metadata": {},
     "output_type": "execute_result"
    }
   ],
   "source": [
    "list(u16le)"
   ]
  },
  {
   "cell_type": "code",
   "execution_count": 76,
   "metadata": {},
   "outputs": [
    {
     "data": {
      "text/plain": [
       "<_io.TextIOWrapper name='cafe.txt' mode='w' encoding='utf-8'>"
      ]
     },
     "execution_count": 76,
     "metadata": {},
     "output_type": "execute_result"
    }
   ],
   "source": [
    "fp = open('cafe.txt', 'w', encoding='utf-8')\n",
    "fp"
   ]
  },
  {
   "cell_type": "code",
   "execution_count": 77,
   "metadata": {},
   "outputs": [
    {
     "data": {
      "text/plain": [
       "b'caf\\xc3\\xa9'"
      ]
     },
     "execution_count": 77,
     "metadata": {},
     "output_type": "execute_result"
    }
   ],
   "source": [
    "cafe"
   ]
  },
  {
   "cell_type": "code",
   "execution_count": 79,
   "metadata": {},
   "outputs": [
    {
     "data": {
      "text/plain": [
       "4"
      ]
     },
     "execution_count": 79,
     "metadata": {},
     "output_type": "execute_result"
    }
   ],
   "source": [
    "fp.write(cafe.decode('utf-8'))"
   ]
  },
  {
   "cell_type": "code",
   "execution_count": 80,
   "metadata": {},
   "outputs": [],
   "source": [
    "fp.close()"
   ]
  },
  {
   "cell_type": "code",
   "execution_count": 81,
   "metadata": {},
   "outputs": [
    {
     "data": {
      "text/plain": [
       "5"
      ]
     },
     "execution_count": 81,
     "metadata": {},
     "output_type": "execute_result"
    }
   ],
   "source": [
    "import os\n",
    "os.stat('cafe.txt').st_size"
   ]
  },
  {
   "cell_type": "code",
   "execution_count": 82,
   "metadata": {},
   "outputs": [
    {
     "data": {
      "text/plain": [
       "<_io.TextIOWrapper name='cafe.txt' mode='r' encoding='UTF-8'>"
      ]
     },
     "execution_count": 82,
     "metadata": {},
     "output_type": "execute_result"
    }
   ],
   "source": [
    "fp2 = open('cafe.txt')\n",
    "fp2"
   ]
  },
  {
   "cell_type": "code",
   "execution_count": 84,
   "metadata": {},
   "outputs": [
    {
     "data": {
      "text/plain": [
       "'UTF-8'"
      ]
     },
     "execution_count": 84,
     "metadata": {},
     "output_type": "execute_result"
    }
   ],
   "source": [
    "fp2.encoding"
   ]
  },
  {
   "cell_type": "code",
   "execution_count": 85,
   "metadata": {},
   "outputs": [
    {
     "data": {
      "text/plain": [
       "'café'"
      ]
     },
     "execution_count": 85,
     "metadata": {},
     "output_type": "execute_result"
    }
   ],
   "source": [
    "fp2.read()"
   ]
  },
  {
   "cell_type": "code",
   "execution_count": 86,
   "metadata": {},
   "outputs": [
    {
     "data": {
      "text/plain": [
       "<_io.BufferedReader name='cafe.txt'>"
      ]
     },
     "execution_count": 86,
     "metadata": {},
     "output_type": "execute_result"
    }
   ],
   "source": [
    "fp4 = open('cafe.txt', 'rb')\n",
    "fp4"
   ]
  },
  {
   "cell_type": "code",
   "execution_count": 87,
   "metadata": {},
   "outputs": [
    {
     "data": {
      "text/plain": [
       "b'caf\\xc3\\xa9'"
      ]
     },
     "execution_count": 87,
     "metadata": {},
     "output_type": "execute_result"
    }
   ],
   "source": [
    "fp4.read()"
   ]
  },
  {
   "cell_type": "code",
   "execution_count": 88,
   "metadata": {},
   "outputs": [
    {
     "data": {
      "text/plain": [
       "'OHM SIGN'"
      ]
     },
     "execution_count": 88,
     "metadata": {},
     "output_type": "execute_result"
    }
   ],
   "source": [
    "from unicodedata import normalize, name\n",
    "\n",
    "ohm = '\\u2126'\n",
    "name(ohm)"
   ]
  },
  {
   "cell_type": "code",
   "execution_count": 89,
   "metadata": {},
   "outputs": [
    {
     "data": {
      "text/plain": [
       "'GREEK CAPITAL LETTER OMEGA'"
      ]
     },
     "execution_count": 89,
     "metadata": {},
     "output_type": "execute_result"
    }
   ],
   "source": [
    "ohm_c = normalize('NFC', ohm)\n",
    "name(ohm_c)"
   ]
  },
  {
   "cell_type": "code",
   "execution_count": 90,
   "metadata": {},
   "outputs": [
    {
     "data": {
      "text/plain": [
       "False"
      ]
     },
     "execution_count": 90,
     "metadata": {},
     "output_type": "execute_result"
    }
   ],
   "source": [
    "ohm == ohm_c"
   ]
  },
  {
   "cell_type": "code",
   "execution_count": 91,
   "metadata": {},
   "outputs": [
    {
     "data": {
      "text/plain": [
       "'GREEK SMALL LETTER MU'"
      ]
     },
     "execution_count": 91,
     "metadata": {},
     "output_type": "execute_result"
    }
   ],
   "source": [
    "micro = 'μ'\n",
    "name(micro)"
   ]
  },
  {
   "cell_type": "code",
   "execution_count": 92,
   "metadata": {},
   "outputs": [
    {
     "data": {
      "text/plain": [
       "'GREEK SMALL LETTER MU'"
      ]
     },
     "execution_count": 92,
     "metadata": {},
     "output_type": "execute_result"
    }
   ],
   "source": [
    "micro_cf = micro.casefold()\n",
    "name(micro_cf)"
   ]
  },
  {
   "cell_type": "code",
   "execution_count": 93,
   "metadata": {},
   "outputs": [
    {
     "name": "stdout",
     "output_type": "stream",
     "text": [
      "♛\n"
     ]
    }
   ],
   "source": [
    "print('\\N{BLACK CHESS QUEEN}')"
   ]
  },
  {
   "cell_type": "code",
   "execution_count": 94,
   "metadata": {},
   "outputs": [
    {
     "ename": "ModuleNotFoundError",
     "evalue": "No module named 'unic'",
     "output_type": "error",
     "traceback": [
      "\u001b[1;31m---------------------------------------------------------------------------\u001b[0m",
      "\u001b[1;31mModuleNotFoundError\u001b[0m                       Traceback (most recent call last)",
      "Input \u001b[1;32mIn [94]\u001b[0m, in \u001b[0;36m<cell line: 1>\u001b[1;34m()\u001b[0m\n\u001b[1;32m----> 1\u001b[0m \u001b[38;5;28;01mimport\u001b[39;00m \u001b[38;5;21;01munic\u001b[39;00m\n",
      "\u001b[1;31mModuleNotFoundError\u001b[0m: No module named 'unic'"
     ]
    }
   ],
   "source": [
    "import unicodedata."
   ]
  },
  {
   "cell_type": "code",
   "execution_count": 95,
   "metadata": {},
   "outputs": [
    {
     "data": {
      "text/plain": [
       "'LATIN CAPITAL LETTER A'"
      ]
     },
     "execution_count": 95,
     "metadata": {},
     "output_type": "execute_result"
    }
   ],
   "source": [
    "name('A')"
   ]
  },
  {
   "cell_type": "code",
   "execution_count": 96,
   "metadata": {},
   "outputs": [
    {
     "data": {
      "text/plain": [
       "32"
      ]
     },
     "execution_count": 96,
     "metadata": {},
     "output_type": "execute_result"
    }
   ],
   "source": [
    "ord(' ')"
   ]
  },
  {
   "cell_type": "code",
   "execution_count": 97,
   "metadata": {},
   "outputs": [
    {
     "data": {
      "text/plain": [
       "' '"
      ]
     },
     "execution_count": 97,
     "metadata": {},
     "output_type": "execute_result"
    }
   ],
   "source": [
    "chr(32)"
   ]
  },
  {
   "cell_type": "code",
   "execution_count": 1,
   "metadata": {},
   "outputs": [
    {
     "data": {
      "text/plain": [
       "True"
      ]
     },
     "execution_count": 1,
     "metadata": {},
     "output_type": "execute_result"
    }
   ],
   "source": [
    "from collections import namedtuple\n",
    "\n",
    "Coordinate = namedtuple('Coordinate', 'lat lon')\n",
    "issubclass(Coordinate, tuple)"
   ]
  },
  {
   "cell_type": "code",
   "execution_count": 2,
   "metadata": {},
   "outputs": [
    {
     "data": {
      "text/plain": [
       "Coordinate(lat=55.765, lon=37.617)"
      ]
     },
     "execution_count": 2,
     "metadata": {},
     "output_type": "execute_result"
    }
   ],
   "source": [
    "moscow = Coordinate(55.765, 37.617)\n",
    "moscow"
   ]
  },
  {
   "cell_type": "code",
   "execution_count": 3,
   "metadata": {},
   "outputs": [
    {
     "data": {
      "text/plain": [
       "True"
      ]
     },
     "execution_count": 3,
     "metadata": {},
     "output_type": "execute_result"
    }
   ],
   "source": [
    "moscow == Coordinate(60.765, 37.617)"
   ]
  },
  {
   "cell_type": "code",
   "execution_count": 4,
   "metadata": {},
   "outputs": [],
   "source": [
    "import typing\n",
    "\n",
    "Coordinate = typing.NamedTuple('Coordinate', [('lat', float), ('lon', float)])"
   ]
  },
  {
   "cell_type": "code",
   "execution_count": 5,
   "metadata": {},
   "outputs": [
    {
     "data": {
      "text/plain": [
       "True"
      ]
     },
     "execution_count": 5,
     "metadata": {},
     "output_type": "execute_result"
    }
   ],
   "source": [
    "issubclass(Coordinate, tuple)"
   ]
  },
  {
   "cell_type": "code",
   "execution_count": 6,
   "metadata": {},
   "outputs": [
    {
     "data": {
      "text/plain": [
       "{'lat': float, 'lon': float}"
      ]
     },
     "execution_count": 6,
     "metadata": {},
     "output_type": "execute_result"
    }
   ],
   "source": [
    "typing.get_type_hints(Coordinate)"
   ]
  },
  {
   "cell_type": "code",
   "execution_count": 7,
   "metadata": {},
   "outputs": [
    {
     "data": {
      "text/plain": [
       "__main__.Coordinate"
      ]
     },
     "execution_count": 7,
     "metadata": {},
     "output_type": "execute_result"
    }
   ],
   "source": [
    "typing.NamedTuple('Coordinate', lat=float, lon=float)"
   ]
  },
  {
   "cell_type": "code",
   "execution_count": 8,
   "metadata": {},
   "outputs": [],
   "source": [
    "class Coordinate(typing.NamedTuple):\n",
    "    lat: float\n",
    "    lon: float\n",
    "\n",
    "    def __str__(self) -> str:\n",
    "        ns = 'N' if self.lat >= 0 else 'S'\n",
    "        we = 'E' if self.lon >= 0 else 'W'\n",
    "        return f'{abs(self.lat):.1f}{ns}, {abs(self.lon):.1f}{we}'"
   ]
  },
  {
   "cell_type": "code",
   "execution_count": 10,
   "metadata": {},
   "outputs": [
    {
     "data": {
      "text/plain": [
       "True"
      ]
     },
     "execution_count": 10,
     "metadata": {},
     "output_type": "execute_result"
    }
   ],
   "source": [
    "issubclass(Coordinate, tuple)"
   ]
  },
  {
   "cell_type": "code",
   "execution_count": 11,
   "metadata": {},
   "outputs": [
    {
     "data": {
      "text/plain": [
       "False"
      ]
     },
     "execution_count": 11,
     "metadata": {},
     "output_type": "execute_result"
    }
   ],
   "source": [
    "moscow == Coordinate(60.765, 37.617)"
   ]
  },
  {
   "cell_type": "code",
   "execution_count": 12,
   "metadata": {},
   "outputs": [
    {
     "ename": "TypeError",
     "evalue": "Coordinate(lat=55.765, lon=37.617) is not a module, class, method, or function.",
     "output_type": "error",
     "traceback": [
      "\u001b[1;31m---------------------------------------------------------------------------\u001b[0m",
      "\u001b[1;31mTypeError\u001b[0m                                 Traceback (most recent call last)",
      "Input \u001b[1;32mIn [12]\u001b[0m, in \u001b[0;36m<cell line: 1>\u001b[1;34m()\u001b[0m\n\u001b[1;32m----> 1\u001b[0m \u001b[43mtyping\u001b[49m\u001b[38;5;241;43m.\u001b[39;49m\u001b[43mget_type_hints\u001b[49m\u001b[43m(\u001b[49m\u001b[43mmoscow\u001b[49m\u001b[43m)\u001b[49m\n",
      "File \u001b[1;32mc:\\Users\\sanshi\\anaconda3\\lib\\typing.py:1482\u001b[0m, in \u001b[0;36mget_type_hints\u001b[1;34m(obj, globalns, localns, include_extras)\u001b[0m\n\u001b[0;32m   1480\u001b[0m         \u001b[38;5;28;01mreturn\u001b[39;00m {}\n\u001b[0;32m   1481\u001b[0m     \u001b[38;5;28;01melse\u001b[39;00m:\n\u001b[1;32m-> 1482\u001b[0m         \u001b[38;5;28;01mraise\u001b[39;00m \u001b[38;5;167;01mTypeError\u001b[39;00m(\u001b[38;5;124m'\u001b[39m\u001b[38;5;132;01m{!r}\u001b[39;00m\u001b[38;5;124m is not a module, class, method, \u001b[39m\u001b[38;5;124m'\u001b[39m\n\u001b[0;32m   1483\u001b[0m                         \u001b[38;5;124m'\u001b[39m\u001b[38;5;124mor function.\u001b[39m\u001b[38;5;124m'\u001b[39m\u001b[38;5;241m.\u001b[39mformat(obj))\n\u001b[0;32m   1484\u001b[0m defaults \u001b[38;5;241m=\u001b[39m _get_defaults(obj)\n\u001b[0;32m   1485\u001b[0m hints \u001b[38;5;241m=\u001b[39m \u001b[38;5;28mdict\u001b[39m(hints)\n",
      "\u001b[1;31mTypeError\u001b[0m: Coordinate(lat=55.765, lon=37.617) is not a module, class, method, or function."
     ]
    }
   ],
   "source": [
    "typing.get_type_hints(moscow)"
   ]
  },
  {
   "cell_type": "code",
   "execution_count": null,
   "metadata": {},
   "outputs": [],
   "source": [
    "from dataclasses import dataclass\n",
    "\n",
    "@dataclass(frozen=True)\n",
    "class Coordinate:\n",
    "    lat: fl"
   ]
  },
  {
   "cell_type": "code",
   "execution_count": null,
   "metadata": {},
   "outputs": [],
   "source": [
    "# 具名元组\n",
    "from collections import namedtuple\n",
    "\n",
    "Coordinate = namedtuple('Coordinate', 'lat lon')\n",
    "delhi_data = ('')"
   ]
  },
  {
   "cell_type": "code",
   "execution_count": 1,
   "metadata": {},
   "outputs": [],
   "source": [
    "from typing import NamedTuple\n",
    "\n",
    "class Coordinate(NamedTuple):\n",
    "    lat: float\n",
    "    lon: float\n",
    "    reference: str = 'WGS84'"
   ]
  },
  {
   "cell_type": "code",
   "execution_count": 2,
   "metadata": {},
   "outputs": [
    {
     "data": {
      "text/plain": [
       "{'lat': float, 'lon': float, 'reference': str}"
      ]
     },
     "execution_count": 2,
     "metadata": {},
     "output_type": "execute_result"
    }
   ],
   "source": [
    "Coordinate.__annotations__"
   ]
  },
  {
   "cell_type": "code",
   "execution_count": 3,
   "metadata": {},
   "outputs": [],
   "source": [
    "t1 = (1, 2, 3)\n",
    "t2 = tuple(t1)\n",
    "t3 = t1[:]"
   ]
  },
  {
   "cell_type": "code",
   "execution_count": 4,
   "metadata": {},
   "outputs": [
    {
     "data": {
      "text/plain": [
       "(True, True)"
      ]
     },
     "execution_count": 4,
     "metadata": {},
     "output_type": "execute_result"
    }
   ],
   "source": [
    "t1 is t2, t1 is t3"
   ]
  },
  {
   "cell_type": "code",
   "execution_count": 5,
   "metadata": {},
   "outputs": [
    {
     "data": {
      "text/plain": [
       "True"
      ]
     },
     "execution_count": 5,
     "metadata": {},
     "output_type": "execute_result"
    }
   ],
   "source": [
    "s1 = 'ABC'\n",
    "s2 = 'ABC'\n",
    "s1 is s2"
   ]
  },
  {
   "cell_type": "code",
   "execution_count": 8,
   "metadata": {},
   "outputs": [
    {
     "data": {
      "text/plain": [
       "int"
      ]
     },
     "execution_count": 8,
     "metadata": {},
     "output_type": "execute_result"
    }
   ],
   "source": [
    "a = 1\n",
    "a.__class__"
   ]
  },
  {
   "cell_type": "code",
   "execution_count": 9,
   "metadata": {},
   "outputs": [
    {
     "data": {
      "text/plain": [
       "float"
      ]
     },
     "execution_count": 9,
     "metadata": {},
     "output_type": "execute_result"
    }
   ],
   "source": [
    "b = 1.0\n",
    "b.__class__"
   ]
  },
  {
   "cell_type": "code",
   "execution_count": 10,
   "metadata": {},
   "outputs": [
    {
     "ename": "TypeError",
     "evalue": "__class__ assignment only supported for heap types or ModuleType subclasses",
     "output_type": "error",
     "traceback": [
      "\u001b[1;31m---------------------------------------------------------------------------\u001b[0m",
      "\u001b[1;31mTypeError\u001b[0m                                 Traceback (most recent call last)",
      "Input \u001b[1;32mIn [10]\u001b[0m, in \u001b[0;36m<cell line: 1>\u001b[1;34m()\u001b[0m\n\u001b[1;32m----> 1\u001b[0m b\u001b[38;5;241m.\u001b[39m\u001b[38;5;18m__class__\u001b[39m \u001b[38;5;241m=\u001b[39m a\u001b[38;5;241m.\u001b[39m\u001b[38;5;18m__class__\u001b[39m\n",
      "\u001b[1;31mTypeError\u001b[0m: __class__ assignment only supported for heap types or ModuleType subclasses"
     ]
    }
   ],
   "source": [
    "b.__class__ = a.__class__"
   ]
  },
  {
   "cell_type": "code",
   "execution_count": 11,
   "metadata": {},
   "outputs": [],
   "source": [
    "def factorial(n):\n",
    "    \"\"\"返回n!\"\"\"\n",
    "    return 1 if n < 2 else n * factorial(n - 1)"
   ]
  },
  {
   "cell_type": "code",
   "execution_count": 12,
   "metadata": {},
   "outputs": [
    {
     "data": {
      "text/plain": [
       "'返回n!'"
      ]
     },
     "execution_count": 12,
     "metadata": {},
     "output_type": "execute_result"
    }
   ],
   "source": [
    "factorial.__doc__"
   ]
  },
  {
   "cell_type": "code",
   "execution_count": 13,
   "metadata": {},
   "outputs": [
    {
     "data": {
      "text/plain": [
       "function"
      ]
     },
     "execution_count": 13,
     "metadata": {},
     "output_type": "execute_result"
    }
   ],
   "source": [
    "type(factorial)"
   ]
  },
  {
   "cell_type": "code",
   "execution_count": 14,
   "metadata": {},
   "outputs": [
    {
     "data": {
      "text/plain": [
       "[1, 1, 2, 6, 24, 120]"
      ]
     },
     "execution_count": 14,
     "metadata": {},
     "output_type": "execute_result"
    }
   ],
   "source": [
    "list(map(factorial, range(6)))"
   ]
  },
  {
   "cell_type": "code",
   "execution_count": 16,
   "metadata": {},
   "outputs": [
    {
     "data": {
      "text/plain": [
       "[1, 1, 2, 6, 24, 120]"
      ]
     },
     "execution_count": 16,
     "metadata": {},
     "output_type": "execute_result"
    }
   ],
   "source": [
    "[factorial(n) for n in range(6)]"
   ]
  },
  {
   "cell_type": "code",
   "execution_count": 17,
   "metadata": {},
   "outputs": [
    {
     "data": {
      "text/plain": [
       "[1, 6, 120]"
      ]
     },
     "execution_count": 17,
     "metadata": {},
     "output_type": "execute_result"
    }
   ],
   "source": [
    "list(map(factorial, filter(lambda n: n % 2, range(6))))"
   ]
  },
  {
   "cell_type": "code",
   "execution_count": 18,
   "metadata": {},
   "outputs": [
    {
     "data": {
      "text/plain": [
       "[1, 6, 120]"
      ]
     },
     "execution_count": 18,
     "metadata": {},
     "output_type": "execute_result"
    }
   ],
   "source": [
    "[factorial(n) for n in range(6) if n % 2]"
   ]
  },
  {
   "cell_type": "code",
   "execution_count": 19,
   "metadata": {},
   "outputs": [
    {
     "data": {
      "text/plain": [
       "<map at 0x19c7fb8c970>"
      ]
     },
     "execution_count": 19,
     "metadata": {},
     "output_type": "execute_result"
    }
   ],
   "source": [
    "map(factorial, filter(lambda n: n % 2, range(6)))"
   ]
  },
  {
   "cell_type": "code",
   "execution_count": 20,
   "metadata": {},
   "outputs": [
    {
     "data": {
      "text/plain": [
       "4950"
      ]
     },
     "execution_count": 20,
     "metadata": {},
     "output_type": "execute_result"
    }
   ],
   "source": [
    "from functools import reduce\n",
    "from operator import add\n",
    "\n",
    "reduce(add, range(100))"
   ]
  },
  {
   "cell_type": "code",
   "execution_count": 21,
   "metadata": {},
   "outputs": [
    {
     "data": {
      "text/plain": [
       "4950"
      ]
     },
     "execution_count": 21,
     "metadata": {},
     "output_type": "execute_result"
    }
   ],
   "source": [
    "sum(range(100))"
   ]
  },
  {
   "cell_type": "code",
   "execution_count": 22,
   "metadata": {},
   "outputs": [
    {
     "data": {
      "text/plain": [
       "['banana', 'apple', 'fig', 'raspberry', 'strawberry', 'cherry']"
      ]
     },
     "execution_count": 22,
     "metadata": {},
     "output_type": "execute_result"
    }
   ],
   "source": [
    "fruits = ['strawberry', 'fig', 'apple', 'cherry', 'raspberry', 'banana']\n",
    "sorted(fruits, key=lambda word: word[::-1])"
   ]
  },
  {
   "cell_type": "code",
   "execution_count": 23,
   "metadata": {},
   "outputs": [
    {
     "data": {
      "text/plain": [
       "False"
      ]
     },
     "execution_count": 23,
     "metadata": {},
     "output_type": "execute_result"
    }
   ],
   "source": [
    "callable('asdfa')"
   ]
  },
  {
   "cell_type": "code",
   "execution_count": 24,
   "metadata": {},
   "outputs": [
    {
     "data": {
      "text/plain": [
       "True"
      ]
     },
     "execution_count": 24,
     "metadata": {},
     "output_type": "execute_result"
    }
   ],
   "source": [
    "callable(len)"
   ]
  },
  {
   "cell_type": "code",
   "execution_count": 5,
   "metadata": {},
   "outputs": [],
   "source": [
    "def f(a, /, *, b):\n",
    "    return a + b"
   ]
  },
  {
   "cell_type": "code",
   "execution_count": 2,
   "metadata": {},
   "outputs": [
    {
     "ename": "TypeError",
     "evalue": "f() takes 1 positional argument but 2 were given",
     "output_type": "error",
     "traceback": [
      "\u001b[1;31m---------------------------------------------------------------------------\u001b[0m",
      "\u001b[1;31mTypeError\u001b[0m                                 Traceback (most recent call last)",
      "Input \u001b[1;32mIn [2]\u001b[0m, in \u001b[0;36m<cell line: 1>\u001b[1;34m()\u001b[0m\n\u001b[1;32m----> 1\u001b[0m \u001b[43mf\u001b[49m\u001b[43m(\u001b[49m\u001b[38;5;241;43m1\u001b[39;49m\u001b[43m,\u001b[49m\u001b[43m \u001b[49m\u001b[38;5;241;43m2\u001b[39;49m\u001b[43m)\u001b[49m\n",
      "\u001b[1;31mTypeError\u001b[0m: f() takes 1 positional argument but 2 were given"
     ]
    }
   ],
   "source": [
    "f(1, 2)"
   ]
  },
  {
   "cell_type": "code",
   "execution_count": 4,
   "metadata": {},
   "outputs": [
    {
     "data": {
      "text/plain": [
       "3"
      ]
     },
     "execution_count": 4,
     "metadata": {},
     "output_type": "execute_result"
    }
   ],
   "source": [
    "f(a=1, b=2)"
   ]
  },
  {
   "cell_type": "code",
   "execution_count": 6,
   "metadata": {},
   "outputs": [
    {
     "ename": "TypeError",
     "evalue": "f() got some positional-only arguments passed as keyword arguments: 'a'",
     "output_type": "error",
     "traceback": [
      "\u001b[1;31m---------------------------------------------------------------------------\u001b[0m",
      "\u001b[1;31mTypeError\u001b[0m                                 Traceback (most recent call last)",
      "Input \u001b[1;32mIn [6]\u001b[0m, in \u001b[0;36m<cell line: 1>\u001b[1;34m()\u001b[0m\n\u001b[1;32m----> 1\u001b[0m \u001b[43mf\u001b[49m\u001b[43m(\u001b[49m\u001b[43ma\u001b[49m\u001b[38;5;241;43m=\u001b[39;49m\u001b[38;5;241;43m1\u001b[39;49m\u001b[43m,\u001b[49m\u001b[43m \u001b[49m\u001b[43mb\u001b[49m\u001b[38;5;241;43m=\u001b[39;49m\u001b[38;5;241;43m2\u001b[39;49m\u001b[43m)\u001b[49m\n",
      "\u001b[1;31mTypeError\u001b[0m: f() got some positional-only arguments passed as keyword arguments: 'a'"
     ]
    }
   ],
   "source": [
    "f(a=1, b=2)"
   ]
  },
  {
   "cell_type": "code",
   "execution_count": 7,
   "metadata": {},
   "outputs": [
    {
     "data": {
      "text/plain": [
       "3"
      ]
     },
     "execution_count": 7,
     "metadata": {},
     "output_type": "execute_result"
    }
   ],
   "source": [
    "f(1, b=2)"
   ]
  },
  {
   "cell_type": "code",
   "execution_count": 11,
   "metadata": {},
   "outputs": [],
   "source": [
    "from functools import reduce\n",
    "from operator import mul\n",
    "\n",
    "def factorial(n):\n",
    "    # return reduce(lambda a, b: a*b, range(1, n+1))\n",
    "    return reduce(mul, range(1, n+1))"
   ]
  },
  {
   "cell_type": "code",
   "execution_count": 12,
   "metadata": {},
   "outputs": [
    {
     "data": {
      "text/plain": [
       "3628800"
      ]
     },
     "execution_count": 12,
     "metadata": {},
     "output_type": "execute_result"
    }
   ],
   "source": [
    "factorial(10)"
   ]
  },
  {
   "cell_type": "code",
   "execution_count": 13,
   "metadata": {},
   "outputs": [
    {
     "data": {
      "text/plain": [
       "1"
      ]
     },
     "execution_count": 13,
     "metadata": {},
     "output_type": "execute_result"
    }
   ],
   "source": [
    "factorial(1)"
   ]
  },
  {
   "cell_type": "code",
   "execution_count": 14,
   "metadata": {},
   "outputs": [
    {
     "name": "stdout",
     "output_type": "stream",
     "text": [
      "('São Paulo', 'BR', 19.649, (-23.547778, -46.635833))\n",
      "('Delhi NCR', 'IN', 21.935, (28.613889, 77.208889))\n",
      "('Tokyo', 'JP', 36.933, (35.689722, 139.691667))\n",
      "('Mexico City', 'MX', 20.142, (19.433333, -99.133333))\n",
      "('New York-Newark', 'US', 20.104, (40.808611, -74.020386))\n"
     ]
    }
   ],
   "source": [
    "metro_data = [\n",
    "    ('Tokyo', 'JP', 36.933, (35.689722, 139.691667)),\n",
    "    ('Delhi NCR', 'IN', 21.935, (28.613889, 77.208889)),\n",
    "    ('Mexico City', 'MX', 20.142, (19.433333, -99.133333)),\n",
    "    ('New York-Newark', 'US', 20.104, (40.808611, -74.020386)),\n",
    "    ('São Paulo', 'BR', 19.649, (-23.547778, -46.635833)),\n",
    "]\n",
    "\n",
    "from operator import itemgetter, attrgetter\n",
    "\n",
    "for city in sorted(metro_data, key=itemgetter(1)):\n",
    "    print(city)"
   ]
  },
  {
   "cell_type": "code",
   "execution_count": 15,
   "metadata": {},
   "outputs": [
    {
     "name": "stdout",
     "output_type": "stream",
     "text": [
      "('JP', 'Tokyo')\n",
      "('IN', 'Delhi NCR')\n",
      "('MX', 'Mexico City')\n",
      "('US', 'New York-Newark')\n",
      "('BR', 'São Paulo')\n"
     ]
    }
   ],
   "source": [
    "cc_name = itemgetter(1, 0)\n",
    "for city in metro_data:\n",
    "    print(cc_name(city))"
   ]
  },
  {
   "cell_type": "code",
   "execution_count": 16,
   "metadata": {},
   "outputs": [
    {
     "data": {
      "text/plain": [
       "'THE TIME HAS COME'"
      ]
     },
     "execution_count": 16,
     "metadata": {},
     "output_type": "execute_result"
    }
   ],
   "source": [
    "from collections import namedtuple\n",
    "from operator import methodcaller\n",
    "\n",
    "s = 'The time has come'\n",
    "upcase = methodcaller('upper')\n",
    "upcase(s)"
   ]
  },
  {
   "cell_type": "code",
   "execution_count": 17,
   "metadata": {},
   "outputs": [
    {
     "data": {
      "text/plain": [
       "'The-time-has-come'"
      ]
     },
     "execution_count": 17,
     "metadata": {},
     "output_type": "execute_result"
    }
   ],
   "source": [
    "hyphenate = methodcaller('replace', ' ', '-')\n",
    "hyphenate(s)"
   ]
  },
  {
   "cell_type": "code",
   "execution_count": 18,
   "metadata": {},
   "outputs": [
    {
     "data": {
      "text/plain": [
       "21"
      ]
     },
     "execution_count": 18,
     "metadata": {},
     "output_type": "execute_result"
    }
   ],
   "source": [
    "from functools import partial\n",
    "from operator import mul\n",
    "\n",
    "triple = partial(mul, 3)\n",
    "triple(7)"
   ]
  },
  {
   "cell_type": "code",
   "execution_count": 19,
   "metadata": {},
   "outputs": [],
   "source": [
    "def double(x):\n",
    "    return x * 2"
   ]
  },
  {
   "cell_type": "code",
   "execution_count": 21,
   "metadata": {},
   "outputs": [],
   "source": [
    "from typing import Any\n",
    "def double(x: Any) -> Any:\n",
    "    return x * 2"
   ]
  },
  {
   "cell_type": "code",
   "execution_count": 22,
   "metadata": {},
   "outputs": [],
   "source": [
    "def double(x: object) -> object:\n",
    "    return x * 2"
   ]
  },
  {
   "cell_type": "code",
   "execution_count": 28,
   "metadata": {},
   "outputs": [],
   "source": [
    "from typing import Optional, Union\n",
    "\n",
    "x: Optional[str] = None\n",
    "x: Union[str, None] = None"
   ]
  },
  {
   "cell_type": "code",
   "execution_count": 30,
   "metadata": {},
   "outputs": [
    {
     "name": "stdout",
     "output_type": "stream",
     "text": [
      "Python 3.9.12\n"
     ]
    }
   ],
   "source": [
    "!python --version"
   ]
  },
  {
   "cell_type": "code",
   "execution_count": 25,
   "metadata": {},
   "outputs": [
    {
     "ename": "TypeError",
     "evalue": "unsupported operand type(s) for |: 'type' and 'NoneType'",
     "output_type": "error",
     "traceback": [
      "\u001b[1;31m---------------------------------------------------------------------------\u001b[0m",
      "\u001b[1;31mTypeError\u001b[0m                                 Traceback (most recent call last)",
      "Input \u001b[1;32mIn [25]\u001b[0m, in \u001b[0;36m<cell line: 1>\u001b[1;34m()\u001b[0m\n\u001b[1;32m----> 1\u001b[0m x: \u001b[38;5;28;43mstr\u001b[39;49m\u001b[43m \u001b[49m\u001b[38;5;241;43m|\u001b[39;49m\u001b[43m \u001b[49m\u001b[38;5;28;43;01mNone\u001b[39;49;00m \u001b[38;5;241m=\u001b[39m \u001b[38;5;28;01mNone\u001b[39;00m\n",
      "\u001b[1;31mTypeError\u001b[0m: unsupported operand type(s) for |: 'type' and 'NoneType'"
     ]
    }
   ],
   "source": [
    "x: str | None = None"
   ]
  },
  {
   "cell_type": "code",
   "execution_count": 31,
   "metadata": {},
   "outputs": [
    {
     "ename": "TypeError",
     "evalue": "Subscripted generics cannot be used with class and instance checks",
     "output_type": "error",
     "traceback": [
      "\u001b[1;31m---------------------------------------------------------------------------\u001b[0m",
      "\u001b[1;31mTypeError\u001b[0m                                 Traceback (most recent call last)",
      "Input \u001b[1;32mIn [31]\u001b[0m, in \u001b[0;36m<cell line: 2>\u001b[1;34m()\u001b[0m\n\u001b[0;32m      1\u001b[0m x \u001b[38;5;241m=\u001b[39m \u001b[38;5;241m1\u001b[39m\n\u001b[1;32m----> 2\u001b[0m \u001b[38;5;28;43misinstance\u001b[39;49m\u001b[43m(\u001b[49m\u001b[43mx\u001b[49m\u001b[43m \u001b[49m\u001b[43m,\u001b[49m\u001b[43m \u001b[49m\u001b[43mUnion\u001b[49m\u001b[43m[\u001b[49m\u001b[38;5;28;43mint\u001b[39;49m\u001b[43m,\u001b[49m\u001b[43m \u001b[49m\u001b[38;5;28;43mfloat\u001b[39;49m\u001b[43m]\u001b[49m\u001b[43m)\u001b[49m\n",
      "File \u001b[1;32mc:\\Users\\sanshi\\anaconda3\\lib\\typing.py:720\u001b[0m, in \u001b[0;36m_BaseGenericAlias.__instancecheck__\u001b[1;34m(self, obj)\u001b[0m\n\u001b[0;32m    719\u001b[0m \u001b[38;5;28;01mdef\u001b[39;00m \u001b[38;5;21m__instancecheck__\u001b[39m(\u001b[38;5;28mself\u001b[39m, obj):\n\u001b[1;32m--> 720\u001b[0m     \u001b[38;5;28;01mreturn\u001b[39;00m \u001b[38;5;28;43mself\u001b[39;49m\u001b[38;5;241;43m.\u001b[39;49m\u001b[38;5;21;43m__subclasscheck__\u001b[39;49m\u001b[43m(\u001b[49m\u001b[38;5;28;43mtype\u001b[39;49m\u001b[43m(\u001b[49m\u001b[43mobj\u001b[49m\u001b[43m)\u001b[49m\u001b[43m)\u001b[49m\n",
      "File \u001b[1;32mc:\\Users\\sanshi\\anaconda3\\lib\\typing.py:723\u001b[0m, in \u001b[0;36m_BaseGenericAlias.__subclasscheck__\u001b[1;34m(self, cls)\u001b[0m\n\u001b[0;32m    722\u001b[0m \u001b[38;5;28;01mdef\u001b[39;00m \u001b[38;5;21m__subclasscheck__\u001b[39m(\u001b[38;5;28mself\u001b[39m, \u001b[38;5;28mcls\u001b[39m):\n\u001b[1;32m--> 723\u001b[0m     \u001b[38;5;28;01mraise\u001b[39;00m \u001b[38;5;167;01mTypeError\u001b[39;00m(\u001b[38;5;124m\"\u001b[39m\u001b[38;5;124mSubscripted generics cannot be used with\u001b[39m\u001b[38;5;124m\"\u001b[39m\n\u001b[0;32m    724\u001b[0m                     \u001b[38;5;124m\"\u001b[39m\u001b[38;5;124m class and instance checks\u001b[39m\u001b[38;5;124m\"\u001b[39m)\n",
      "\u001b[1;31mTypeError\u001b[0m: Subscripted generics cannot be used with class and instance checks"
     ]
    }
   ],
   "source": [
    "x = 1\n",
    "isinstance(x , Union[int, float])"
   ]
  },
  {
   "cell_type": "code",
   "execution_count": 29,
   "metadata": {},
   "outputs": [
    {
     "data": {
      "text/plain": [
       "97"
      ]
     },
     "execution_count": 29,
     "metadata": {},
     "output_type": "execute_result"
    }
   ],
   "source": [
    "ord('a')"
   ]
  },
  {
   "cell_type": "code",
   "execution_count": 34,
   "metadata": {},
   "outputs": [],
   "source": [
    "def tokenize(text: str) -> list[str]:\n",
    "    return text.upper().split()\n",
    "\n"
   ]
  },
  {
   "cell_type": "code",
   "execution_count": 35,
   "metadata": {},
   "outputs": [
    {
     "data": {
      "text/plain": [
       "['ASDFAS', 'ASDFASD']"
      ]
     },
     "execution_count": 35,
     "metadata": {},
     "output_type": "execute_result"
    }
   ],
   "source": [
    "tokenize('asdfas asdfasd')"
   ]
  },
  {
   "cell_type": "code",
   "execution_count": null,
   "metadata": {},
   "outputs": [],
   "source": [
    "from __future__ import annotations\n",
    "\n",
    "def tokenize(text: str) -> list[str]:\n",
    "    return text.upper"
   ]
  },
  {
   "cell_type": "code",
   "execution_count": 36,
   "metadata": {},
   "outputs": [
    {
     "ename": "ImportError",
     "evalue": "cannot import name 'TypeAlias' from 'typing' (c:\\Users\\sanshi\\anaconda3\\lib\\typing.py)",
     "output_type": "error",
     "traceback": [
      "\u001b[1;31m---------------------------------------------------------------------------\u001b[0m",
      "\u001b[1;31mImportError\u001b[0m                               Traceback (most recent call last)",
      "Input \u001b[1;32mIn [36]\u001b[0m, in \u001b[0;36m<cell line: 1>\u001b[1;34m()\u001b[0m\n\u001b[1;32m----> 1\u001b[0m \u001b[38;5;28;01mfrom\u001b[39;00m \u001b[38;5;21;01mtyping\u001b[39;00m \u001b[38;5;28;01mimport\u001b[39;00m TypeAlias\n",
      "\u001b[1;31mImportError\u001b[0m: cannot import name 'TypeAlias' from 'typing' (c:\\Users\\sanshi\\anaconda3\\lib\\typing.py)"
     ]
    }
   ],
   "source": [
    "from typing import TypeAlias"
   ]
  },
  {
   "cell_type": "code",
   "execution_count": 44,
   "metadata": {},
   "outputs": [],
   "source": [
    "from typing import TypeVar, Protocol, Any\n",
    "from collections.abc import Iterable\n",
    "\n",
    "class SupportsLessThan(Protocol):\n",
    "    def __lt__(self, other: Any) -> bool: ...\n",
    "\n",
    "LT = TypeVar('LT', bound=SupportsLessThan)\n",
    "def top(series: Iterable[LT], length: int) -> list[LT]:\n",
    "    ordered = sorted(series, reverse=True)\n",
    "    return ordered[:length]"
   ]
  },
  {
   "cell_type": "code",
   "execution_count": null,
   "metadata": {},
   "outputs": [],
   "source": []
  },
  {
   "cell_type": "code",
   "execution_count": 38,
   "metadata": {},
   "outputs": [
    {
     "data": {
      "text/plain": [
       "[<object at 0x296168bfac0>,\n",
       " <object at 0x296168bfad0>,\n",
       " <object at 0x296168bfae0>,\n",
       " <object at 0x296168bfaf0>]"
      ]
     },
     "execution_count": 38,
     "metadata": {},
     "output_type": "execute_result"
    }
   ],
   "source": [
    "l = [object() for _ in range(4)]\n",
    "l"
   ]
  },
  {
   "cell_type": "code",
   "execution_count": 39,
   "metadata": {},
   "outputs": [
    {
     "ename": "TypeError",
     "evalue": "'<' not supported between instances of 'object' and 'object'",
     "output_type": "error",
     "traceback": [
      "\u001b[1;31m---------------------------------------------------------------------------\u001b[0m",
      "\u001b[1;31mTypeError\u001b[0m                                 Traceback (most recent call last)",
      "Input \u001b[1;32mIn [39]\u001b[0m, in \u001b[0;36m<cell line: 1>\u001b[1;34m()\u001b[0m\n\u001b[1;32m----> 1\u001b[0m \u001b[38;5;28;43msorted\u001b[39;49m\u001b[43m(\u001b[49m\u001b[43ml\u001b[49m\u001b[43m)\u001b[49m\n",
      "\u001b[1;31mTypeError\u001b[0m: '<' not supported between instances of 'object' and 'object'"
     ]
    }
   ],
   "source": [
    "sorted(l)"
   ]
  },
  {
   "cell_type": "code",
   "execution_count": 41,
   "metadata": {},
   "outputs": [],
   "source": [
    "class Spam:\n",
    "    def __init__(self, n) -> None:\n",
    "        self.n = n\n",
    "    def __lt__(self, other):\n",
    "        return self.n < other.n\n",
    "    def __repr__(self) -> str:\n",
    "        return f'Spam({self.n})'"
   ]
  },
  {
   "cell_type": "code",
   "execution_count": 42,
   "metadata": {},
   "outputs": [
    {
     "data": {
      "text/plain": [
       "[Spam(5), Spam(4), Spam(3), Spam(2), Spam(1)]"
      ]
     },
     "execution_count": 42,
     "metadata": {},
     "output_type": "execute_result"
    }
   ],
   "source": [
    "l = [Spam(n) for n in range(5, 0, -1)]\n",
    "l"
   ]
  },
  {
   "cell_type": "code",
   "execution_count": 43,
   "metadata": {},
   "outputs": [
    {
     "data": {
      "text/plain": [
       "[Spam(1), Spam(2), Spam(3), Spam(4), Spam(5)]"
      ]
     },
     "execution_count": 43,
     "metadata": {},
     "output_type": "execute_result"
    }
   ],
   "source": [
    "sorted(l)"
   ]
  },
  {
   "cell_type": "code",
   "execution_count": 45,
   "metadata": {},
   "outputs": [
    {
     "ename": "TypeError",
     "evalue": "'builtin_function_or_method' object is not subscriptable",
     "output_type": "error",
     "traceback": [
      "\u001b[1;31m---------------------------------------------------------------------------\u001b[0m",
      "\u001b[1;31mTypeError\u001b[0m                                 Traceback (most recent call last)",
      "Input \u001b[1;32mIn [45]\u001b[0m, in \u001b[0;36m<cell line: 1>\u001b[1;34m()\u001b[0m\n\u001b[1;32m----> 1\u001b[0m \u001b[38;5;28;43mcallable\u001b[39;49m\u001b[43m[\u001b[49m\u001b[43m[\u001b[49m\u001b[43mAny\u001b[49m\u001b[43m]\u001b[49m\u001b[43m,\u001b[49m\u001b[43m \u001b[49m\u001b[38;5;28;43mstr\u001b[39;49m\u001b[43m]\u001b[49m\n",
      "\u001b[1;31mTypeError\u001b[0m: 'builtin_function_or_method' object is not subscriptable"
     ]
    }
   ],
   "source": [
    "callable[[Any], str]"
   ]
  },
  {
   "cell_type": "code",
   "execution_count": 46,
   "metadata": {},
   "outputs": [
    {
     "name": "stdout",
     "output_type": "stream",
     "text": [
      "running register(<function f1 at 0x0000029616EA0D30>)\n",
      "running register(<function f2 at 0x0000029616EA09D0>)\n",
      "running register(<function f3 at 0x0000029616EA08B0>)\n"
     ]
    }
   ],
   "source": [
    "registry = []\n",
    "\n",
    "def register(func):\n",
    "    print(f'running register({func})')\n",
    "    registry.append(func)\n",
    "    return func\n",
    "\n",
    "@register\n",
    "def f1():\n",
    "    print('f1')\n",
    "\n",
    "@register\n",
    "def f2():\n",
    "    print('f2')\n",
    "\n",
    "@register\n",
    "def f3():\n",
    "    print('f3')\n"
   ]
  },
  {
   "cell_type": "code",
   "execution_count": 47,
   "metadata": {},
   "outputs": [
    {
     "data": {
      "text/plain": [
       "[<function __main__.f1()>, <function __main__.f2()>, <function __main__.f3()>]"
      ]
     },
     "execution_count": 47,
     "metadata": {},
     "output_type": "execute_result"
    }
   ],
   "source": [
    "registry"
   ]
  },
  {
   "cell_type": "code",
   "execution_count": 54,
   "metadata": {},
   "outputs": [],
   "source": [
    "b = 2\n",
    "def f1(a):\n",
    "    print(a)\n",
    "    global b\n",
    "    print(b)\n",
    "    b = 3"
   ]
  },
  {
   "cell_type": "code",
   "execution_count": 55,
   "metadata": {},
   "outputs": [
    {
     "name": "stdout",
     "output_type": "stream",
     "text": [
      "1\n",
      "2\n"
     ]
    }
   ],
   "source": [
    "f1(1)"
   ]
  },
  {
   "cell_type": "code",
   "execution_count": 56,
   "metadata": {},
   "outputs": [
    {
     "data": {
      "text/plain": [
       "3"
      ]
     },
     "execution_count": 56,
     "metadata": {},
     "output_type": "execute_result"
    }
   ],
   "source": [
    "b"
   ]
  },
  {
   "cell_type": "code",
   "execution_count": 1,
   "metadata": {},
   "outputs": [],
   "source": [
    "def f1(a):\n",
    "    print(a)\n",
    "    print(b)\n",
    "\n",
    "def f2(a):\n",
    "    print(a)\n",
    "    print(b)\n",
    "    b = 9"
   ]
  },
  {
   "cell_type": "code",
   "execution_count": 2,
   "metadata": {},
   "outputs": [
    {
     "name": "stdout",
     "output_type": "stream",
     "text": [
      "  2           0 LOAD_GLOBAL              0 (print)\n",
      "              2 LOAD_FAST                0 (a)\n",
      "              4 CALL_FUNCTION            1\n",
      "              6 POP_TOP\n",
      "\n",
      "  3           8 LOAD_GLOBAL              0 (print)\n",
      "             10 LOAD_GLOBAL              1 (b)\n",
      "             12 CALL_FUNCTION            1\n",
      "             14 POP_TOP\n",
      "             16 LOAD_CONST               0 (None)\n",
      "             18 RETURN_VALUE\n"
     ]
    }
   ],
   "source": [
    "from dis import dis\n",
    "dis(f1)"
   ]
  },
  {
   "cell_type": "code",
   "execution_count": 3,
   "metadata": {},
   "outputs": [
    {
     "name": "stdout",
     "output_type": "stream",
     "text": [
      "  6           0 LOAD_GLOBAL              0 (print)\n",
      "              2 LOAD_FAST                0 (a)\n",
      "              4 CALL_FUNCTION            1\n",
      "              6 POP_TOP\n",
      "\n",
      "  7           8 LOAD_GLOBAL              0 (print)\n",
      "             10 LOAD_FAST                1 (b)\n",
      "             12 CALL_FUNCTION            1\n",
      "             14 POP_TOP\n",
      "\n",
      "  8          16 LOAD_CONST               1 (9)\n",
      "             18 STORE_FAST               1 (b)\n",
      "             20 LOAD_CONST               0 (None)\n",
      "             22 RETURN_VALUE\n"
     ]
    }
   ],
   "source": [
    "dis(f2)"
   ]
  },
  {
   "cell_type": "code",
   "execution_count": 4,
   "metadata": {},
   "outputs": [],
   "source": [
    "def make_averager():\n",
    "    series = []\n",
    "    def averager(value):\n",
    "        series.append(value)\n",
    "        return sum(series) / len(series)\n",
    "    return averager"
   ]
  },
  {
   "cell_type": "code",
   "execution_count": 5,
   "metadata": {},
   "outputs": [
    {
     "data": {
      "text/plain": [
       "(10.0, 10.5, 11.0)"
      ]
     },
     "execution_count": 5,
     "metadata": {},
     "output_type": "execute_result"
    }
   ],
   "source": [
    "avg = make_averager()\n",
    "avg(10), avg(11), avg(12)"
   ]
  },
  {
   "cell_type": "code",
   "execution_count": 7,
   "metadata": {},
   "outputs": [
    {
     "data": {
      "text/plain": [
       "('value',)"
      ]
     },
     "execution_count": 7,
     "metadata": {},
     "output_type": "execute_result"
    }
   ],
   "source": [
    "avg.__code__.co_varnames"
   ]
  },
  {
   "cell_type": "code",
   "execution_count": 8,
   "metadata": {},
   "outputs": [
    {
     "data": {
      "text/plain": [
       "('series',)"
      ]
     },
     "execution_count": 8,
     "metadata": {},
     "output_type": "execute_result"
    }
   ],
   "source": [
    "avg.__code__.co_freevars"
   ]
  },
  {
   "cell_type": "code",
   "execution_count": 9,
   "metadata": {},
   "outputs": [
    {
     "data": {
      "text/plain": [
       "(<cell at 0x000002B632689D30: list object at 0x000002B6325B0400>,)"
      ]
     },
     "execution_count": 9,
     "metadata": {},
     "output_type": "execute_result"
    }
   ],
   "source": [
    "avg.__closure__"
   ]
  },
  {
   "cell_type": "code",
   "execution_count": 10,
   "metadata": {},
   "outputs": [
    {
     "data": {
      "text/plain": [
       "[10, 11, 12]"
      ]
     },
     "execution_count": 10,
     "metadata": {},
     "output_type": "execute_result"
    }
   ],
   "source": [
    "avg.__closure__[0].cell_contents"
   ]
  },
  {
   "cell_type": "code",
   "execution_count": 14,
   "metadata": {},
   "outputs": [],
   "source": [
    "def make_averager():\n",
    "    count = 0\n",
    "    total = 0\n",
    "\n",
    "    def averager(new_value):\n",
    "        nonlocal count, total\n",
    "        count += 1\n",
    "        total += new_value\n",
    "        return total / count\n",
    "\n",
    "    return averager"
   ]
  },
  {
   "cell_type": "code",
   "execution_count": 15,
   "metadata": {},
   "outputs": [
    {
     "name": "stdout",
     "output_type": "stream",
     "text": [
      "  2           0 LOAD_CONST               1 (0)\n",
      "              2 STORE_DEREF              0 (count)\n",
      "\n",
      "  3           4 LOAD_CONST               1 (0)\n",
      "              6 STORE_DEREF              1 (total)\n",
      "\n",
      "  5           8 LOAD_CLOSURE             0 (count)\n",
      "             10 LOAD_CLOSURE             1 (total)\n",
      "             12 BUILD_TUPLE              2\n",
      "             14 LOAD_CONST               2 (<code object averager at 0x000002B6326C7F50, file \"C:\\Users\\sanshi\\AppData\\Local\\Temp\\ipykernel_20140\\382770014.py\", line 5>)\n",
      "             16 LOAD_CONST               3 ('make_averager.<locals>.averager')\n",
      "             18 MAKE_FUNCTION            8 (closure)\n",
      "             20 STORE_FAST               0 (averager)\n",
      "\n",
      " 12          22 LOAD_FAST                0 (averager)\n",
      "             24 RETURN_VALUE\n",
      "\n",
      "Disassembly of <code object averager at 0x000002B6326C7F50, file \"C:\\Users\\sanshi\\AppData\\Local\\Temp\\ipykernel_20140\\382770014.py\", line 5>:\n",
      "  8           0 LOAD_DEREF               0 (count)\n",
      "              2 LOAD_CONST               1 (1)\n",
      "              4 INPLACE_ADD\n",
      "              6 STORE_DEREF              0 (count)\n",
      "\n",
      "  9           8 LOAD_DEREF               1 (total)\n",
      "             10 LOAD_FAST                0 (new_value)\n",
      "             12 INPLACE_ADD\n",
      "             14 STORE_DEREF              1 (total)\n",
      "\n",
      " 10          16 LOAD_DEREF               1 (total)\n",
      "             18 LOAD_DEREF               0 (count)\n",
      "             20 BINARY_TRUE_DIVIDE\n",
      "             22 RETURN_VALUE\n"
     ]
    }
   ],
   "source": [
    "dis(make_averager)"
   ]
  },
  {
   "cell_type": "code",
   "execution_count": 16,
   "metadata": {},
   "outputs": [
    {
     "data": {
      "text/plain": [
       "(10.0, 10.5, 12.0)"
      ]
     },
     "execution_count": 16,
     "metadata": {},
     "output_type": "execute_result"
    }
   ],
   "source": [
    "avg = make_averager()\n",
    "avg(10), avg(11), avg(15)"
   ]
  },
  {
   "cell_type": "code",
   "execution_count": 17,
   "metadata": {},
   "outputs": [
    {
     "data": {
      "text/plain": [
       "(<cell at 0x000002B6326899A0: int object at 0x000002B62BF36970>,\n",
       " <cell at 0x000002B632689C10: int object at 0x000002B62BF36D90>)"
      ]
     },
     "execution_count": 17,
     "metadata": {},
     "output_type": "execute_result"
    }
   ],
   "source": [
    "avg.__closure__"
   ]
  },
  {
   "cell_type": "code",
   "execution_count": 18,
   "metadata": {},
   "outputs": [
    {
     "data": {
      "text/plain": [
       "('count', 'total')"
      ]
     },
     "execution_count": 18,
     "metadata": {},
     "output_type": "execute_result"
    }
   ],
   "source": [
    "avg.__code__.co_freevars"
   ]
  },
  {
   "cell_type": "code",
   "execution_count": 23,
   "metadata": {},
   "outputs": [],
   "source": [
    "import time\n",
    "import functools\n",
    "\n",
    "def clock(func):\n",
    "    @functools.wraps(func)\n",
    "    def clocked(*args, **kwargs):\n",
    "        t0 = time.perf_counter()\n",
    "        result = func(*args)\n",
    "        elapsed = time.perf_counter() - t0\n",
    "        print(f'{elapsed:0.8f}s')\n",
    "        return result\n",
    "    return clocked"
   ]
  },
  {
   "cell_type": "code",
   "execution_count": 27,
   "metadata": {},
   "outputs": [],
   "source": [
    "@clock\n",
    "def snooze(seconds):\n",
    "    \"\"\"asfasdf\"\"\"\n",
    "    time.sleep(seconds)"
   ]
  },
  {
   "cell_type": "code",
   "execution_count": 28,
   "metadata": {},
   "outputs": [
    {
     "name": "stdout",
     "output_type": "stream",
     "text": [
      "0.13562430s\n"
     ]
    }
   ],
   "source": [
    "snooze(.123)"
   ]
  },
  {
   "cell_type": "code",
   "execution_count": 29,
   "metadata": {},
   "outputs": [
    {
     "data": {
      "text/plain": [
       "'snooze'"
      ]
     },
     "execution_count": 29,
     "metadata": {},
     "output_type": "execute_result"
    }
   ],
   "source": [
    "snooze.__name__"
   ]
  },
  {
   "cell_type": "code",
   "execution_count": 30,
   "metadata": {},
   "outputs": [
    {
     "data": {
      "text/plain": [
       "'asfasdf'"
      ]
     },
     "execution_count": 30,
     "metadata": {},
     "output_type": "execute_result"
    }
   ],
   "source": [
    "snooze.__doc__"
   ]
  },
  {
   "cell_type": "code",
   "execution_count": 33,
   "metadata": {},
   "outputs": [],
   "source": [
    "@functools.cache\n",
    "@clock\n",
    "def fibonacci(n):\n",
    "    if n < 2:\n",
    "        return n\n",
    "    return fibonacci(n - 2) + fibonacci(n - 1)"
   ]
  },
  {
   "cell_type": "code",
   "execution_count": 34,
   "metadata": {},
   "outputs": [
    {
     "name": "stdout",
     "output_type": "stream",
     "text": [
      "0.00000050s\n",
      "0.00000050s\n",
      "0.00008260s\n",
      "0.00000060s\n",
      "0.00011160s\n",
      "0.00000050s\n",
      "0.00014220s\n"
     ]
    },
    {
     "data": {
      "text/plain": [
       "8"
      ]
     },
     "execution_count": 34,
     "metadata": {},
     "output_type": "execute_result"
    }
   ],
   "source": [
    "fibonacci(6)"
   ]
  },
  {
   "cell_type": "code",
   "execution_count": 35,
   "metadata": {},
   "outputs": [],
   "source": [
    "from functools import singledispatch\n",
    "import html\n",
    "@singledispatch\n",
    "def htmlize(obj: object) -> str:\n",
    "    content = html.escape(repr(obj))\n",
    "    return f'<pre>{content}</pre>'\n",
    "@htmlize.register\n",
    "def _(text: str) -> str:\n",
    "    content = 'asdfa'\n",
    "    return 'afsa    '"
   ]
  },
  {
   "cell_type": "code",
   "execution_count": 39,
   "metadata": {},
   "outputs": [
    {
     "name": "stdout",
     "output_type": "stream",
     "text": [
      "running register(active=False)->decorate(<function f1 at 0x000002B6326BB430>)\n",
      "running register(active=True)->decorate(<function f2 at 0x000002B6326BBAF0>)\n"
     ]
    }
   ],
   "source": [
    "registry = set()\n",
    "\n",
    "def register(active=True):\n",
    "    def decorate(func):\n",
    "        print(f'running register'\n",
    "              f'(active={active})->decorate({func})')\n",
    "        if active:\n",
    "            registry.add(func)\n",
    "        else:\n",
    "            registry.discard(func)\n",
    "        return func\n",
    "    return decorate\n",
    "\n",
    "@register(active=False)\n",
    "def f1():\n",
    "    print('runing f1()')\n",
    "\n",
    "@register()\n",
    "def f2():\n",
    "    print('runing f2()')\n",
    "\n",
    "def f3():\n",
    "    print('runing f3()')\n",
    "\n",
    "# print('running main()')\n",
    "# print('registry ->', registry)\n",
    "# f1()"
   ]
  },
  {
   "cell_type": "code",
   "execution_count": 40,
   "metadata": {},
   "outputs": [
    {
     "data": {
      "text/plain": [
       "{<function __main__.f2()>}"
      ]
     },
     "execution_count": 40,
     "metadata": {},
     "output_type": "execute_result"
    }
   ],
   "source": [
    "registry"
   ]
  },
  {
   "cell_type": "code",
   "execution_count": 41,
   "metadata": {},
   "outputs": [
    {
     "name": "stdout",
     "output_type": "stream",
     "text": [
      "running register(active=True)->decorate(<function f3 at 0x000002B632569D30>)\n"
     ]
    },
    {
     "data": {
      "text/plain": [
       "<function __main__.f3()>"
      ]
     },
     "execution_count": 41,
     "metadata": {},
     "output_type": "execute_result"
    }
   ],
   "source": [
    "register()(f3)"
   ]
  },
  {
   "cell_type": "code",
   "execution_count": 42,
   "metadata": {},
   "outputs": [
    {
     "data": {
      "text/plain": [
       "{<function __main__.f2()>, <function __main__.f3()>}"
      ]
     },
     "execution_count": 42,
     "metadata": {},
     "output_type": "execute_result"
    }
   ],
   "source": [
    "registry"
   ]
  },
  {
   "cell_type": "code",
   "execution_count": 43,
   "metadata": {},
   "outputs": [
    {
     "data": {
      "text/plain": [
       "{'__name__': '__main__',\n",
       " '__doc__': 'Automatically created module for IPython interactive environment',\n",
       " '__package__': None,\n",
       " '__loader__': None,\n",
       " '__spec__': None,\n",
       " '__builtin__': <module 'builtins' (built-in)>,\n",
       " '__builtins__': <module 'builtins' (built-in)>,\n",
       " '_ih': ['',\n",
       "  'def f1(a):\\n    print(a)\\n    print(b)\\n\\ndef f2(a):\\n    print(a)\\n    print(b)\\n    b = 9',\n",
       "  'from dis import dis\\ndis(f1)',\n",
       "  'dis(f2)',\n",
       "  'def make_averager():\\n    series = []\\n    def averager(value):\\n        series.append(value)\\n        return sum(series) / len(series)\\n    return averager',\n",
       "  'avg = make_averager()\\navg(10), avg(11), avg(12)',\n",
       "  'avg.__code__',\n",
       "  'avg.__code__.co_varnames',\n",
       "  'avg.__code__.co_freevars',\n",
       "  'avg.__closure__',\n",
       "  'avg.__closure__[0].cell_contents',\n",
       "  'def make_averager():\\n    count = 0\\n    total = 0\\n\\n    def averager(new_value):\\n        nonlocal count\\n        nonlocal total\\n        count += 1\\n        total += 1\\n        return total / count\\n    \\n    return averager',\n",
       "  'dis(make_averager)',\n",
       "  'avg = make_averager()\\navg(10), avg(11), avg(15)',\n",
       "  'def make_averager():\\n    count = 0\\n    total = 0\\n\\n    def averager(new_value):\\n        nonlocal count\\n        nonlocal total\\n        count += 1\\n        total += new_value\\n        return total / count\\n\\n    return averager',\n",
       "  'dis(make_averager)',\n",
       "  'avg = make_averager()\\navg(10), avg(11), avg(15)',\n",
       "  'avg.__closure__',\n",
       "  'avg.__code__.co_freevars',\n",
       "  \"import time\\n\\ndef clock(func):\\n    def clocked(*args):\\n        t0 = time.perf_counter()\\n        result = func(*args)\\n        elapsed = time.perf_counter() - t0\\n        print(f'{elapsed:0.8f}s')\\n        return result\\n    return clocked\",\n",
       "  '@clock\\ndef snooze(seconds):\\n    time.sleep(seconds)',\n",
       "  'snooze(.123)',\n",
       "  'snooze.__name__',\n",
       "  \"import time\\nimport functools\\n\\ndef clock(func):\\n    @functools.wraps(func)\\n    def clocked(*args, **kwargs):\\n        t0 = time.perf_counter()\\n        result = func(*args)\\n        elapsed = time.perf_counter() - t0\\n        print(f'{elapsed:0.8f}s')\\n        return result\\n    return clocked\",\n",
       "  '@clock\\ndef snooze(seconds):\\n    time.sleep(seconds)',\n",
       "  'snooze(.123)',\n",
       "  'snooze.__name__',\n",
       "  '@clock\\ndef snooze(seconds):\\n    \"\"\"asfasdf\"\"\"\\n    time.sleep(seconds)',\n",
       "  'snooze(.123)',\n",
       "  'snooze.__name__',\n",
       "  'snooze.__doc__',\n",
       "  '@clock\\ndef fibonacci(n):\\n    if n < 2:\\n        return n\\n    return fibonacci(n - 2) + fibonacci(n - 1)',\n",
       "  'fibonacci(6)',\n",
       "  '@functools.cache\\n@clock\\ndef fibonacci(n):\\n    if n < 2:\\n        return n\\n    return fibonacci(n - 2) + fibonacci(n - 1)',\n",
       "  'fibonacci(6)',\n",
       "  \"from functools import singledispatch\\nimport html\\n@singledispatch\\ndef htmlize(obj: object) -> str:\\n    content = html.escape(repr(obj))\\n    return f'<pre>{content}</pre>'\\n@htmlize.register\\ndef _(text: str) -> str:\\n    content = 'asdfa'\\n    return 'afsa    '\",\n",
       "  \"registry = []\\n\\ndef register(func):\\n    print(f'running register({func})')\\n    registry.append(func)\\n    return func\\n\\n@register\\ndef f1():\\n    print('runing f1()')\\n\\nprint('running main()')\\nprint('registry ->', registry)\\nf1()\",\n",
       "  \"registry = set()\\n\\ndef register(active=True):\\n    def decorate(func):\\n        print(f'running register'\\n              f'(active={active})->decorate({func})')\\n        if active:\\n            registry.add(func)\\n        else:\\n            registry.discard(func)\\n        return func\\n    return decorate\\n\\n@register(active=True)\\ndef f1():\\n    print('runing f1()')\\n\\n@register()\\ndef f2():\\n    print('runing f2()')\\n\\ndef f3():\\n    print('runing f3()')\\n\\n# print('running main()')\\n# print('registry ->', registry)\\n# f1()\",\n",
       "  'registry',\n",
       "  \"registry = set()\\n\\ndef register(active=True):\\n    def decorate(func):\\n        print(f'running register'\\n              f'(active={active})->decorate({func})')\\n        if active:\\n            registry.add(func)\\n        else:\\n            registry.discard(func)\\n        return func\\n    return decorate\\n\\n@register(active=False)\\ndef f1():\\n    print('runing f1()')\\n\\n@register()\\ndef f2():\\n    print('runing f2()')\\n\\ndef f3():\\n    print('runing f3()')\\n\\n# print('running main()')\\n# print('registry ->', registry)\\n# f1()\",\n",
       "  'registry',\n",
       "  'register()(f3)',\n",
       "  'registry',\n",
       "  'locals()'],\n",
       " '_oh': {5: (10.0, 10.5, 11.0),\n",
       "  6: <code object averager at 0x000002B6326A1450, file \"C:\\Users\\sanshi\\AppData\\Local\\Temp\\ipykernel_20140\\994023343.py\", line 3>,\n",
       "  7: ('value',),\n",
       "  8: ('series',),\n",
       "  9: (<cell at 0x000002B632689D30: list object at 0x000002B6325B0400>,),\n",
       "  10: [10, 11, 12],\n",
       "  13: (1.0, 1.0, 1.0),\n",
       "  16: (10.0, 10.5, 12.0),\n",
       "  17: (<cell at 0x000002B6326899A0: int object at 0x000002B62BF36970>,\n",
       "   <cell at 0x000002B632689C10: int object at 0x000002B62BF36D90>),\n",
       "  18: ('count', 'total'),\n",
       "  22: 'clocked',\n",
       "  26: 'snooze',\n",
       "  29: 'snooze',\n",
       "  30: 'asfasdf',\n",
       "  32: 8,\n",
       "  34: 8,\n",
       "  38: {<function __main__.f1()>, <function __main__.f2()>},\n",
       "  40: {<function __main__.f2()>, <function __main__.f3()>},\n",
       "  41: <function __main__.f3()>,\n",
       "  42: {<function __main__.f2()>, <function __main__.f3()>}},\n",
       " '_dh': [WindowsPath('c:/study/Python')],\n",
       " 'In': ['',\n",
       "  'def f1(a):\\n    print(a)\\n    print(b)\\n\\ndef f2(a):\\n    print(a)\\n    print(b)\\n    b = 9',\n",
       "  'from dis import dis\\ndis(f1)',\n",
       "  'dis(f2)',\n",
       "  'def make_averager():\\n    series = []\\n    def averager(value):\\n        series.append(value)\\n        return sum(series) / len(series)\\n    return averager',\n",
       "  'avg = make_averager()\\navg(10), avg(11), avg(12)',\n",
       "  'avg.__code__',\n",
       "  'avg.__code__.co_varnames',\n",
       "  'avg.__code__.co_freevars',\n",
       "  'avg.__closure__',\n",
       "  'avg.__closure__[0].cell_contents',\n",
       "  'def make_averager():\\n    count = 0\\n    total = 0\\n\\n    def averager(new_value):\\n        nonlocal count\\n        nonlocal total\\n        count += 1\\n        total += 1\\n        return total / count\\n    \\n    return averager',\n",
       "  'dis(make_averager)',\n",
       "  'avg = make_averager()\\navg(10), avg(11), avg(15)',\n",
       "  'def make_averager():\\n    count = 0\\n    total = 0\\n\\n    def averager(new_value):\\n        nonlocal count\\n        nonlocal total\\n        count += 1\\n        total += new_value\\n        return total / count\\n\\n    return averager',\n",
       "  'dis(make_averager)',\n",
       "  'avg = make_averager()\\navg(10), avg(11), avg(15)',\n",
       "  'avg.__closure__',\n",
       "  'avg.__code__.co_freevars',\n",
       "  \"import time\\n\\ndef clock(func):\\n    def clocked(*args):\\n        t0 = time.perf_counter()\\n        result = func(*args)\\n        elapsed = time.perf_counter() - t0\\n        print(f'{elapsed:0.8f}s')\\n        return result\\n    return clocked\",\n",
       "  '@clock\\ndef snooze(seconds):\\n    time.sleep(seconds)',\n",
       "  'snooze(.123)',\n",
       "  'snooze.__name__',\n",
       "  \"import time\\nimport functools\\n\\ndef clock(func):\\n    @functools.wraps(func)\\n    def clocked(*args, **kwargs):\\n        t0 = time.perf_counter()\\n        result = func(*args)\\n        elapsed = time.perf_counter() - t0\\n        print(f'{elapsed:0.8f}s')\\n        return result\\n    return clocked\",\n",
       "  '@clock\\ndef snooze(seconds):\\n    time.sleep(seconds)',\n",
       "  'snooze(.123)',\n",
       "  'snooze.__name__',\n",
       "  '@clock\\ndef snooze(seconds):\\n    \"\"\"asfasdf\"\"\"\\n    time.sleep(seconds)',\n",
       "  'snooze(.123)',\n",
       "  'snooze.__name__',\n",
       "  'snooze.__doc__',\n",
       "  '@clock\\ndef fibonacci(n):\\n    if n < 2:\\n        return n\\n    return fibonacci(n - 2) + fibonacci(n - 1)',\n",
       "  'fibonacci(6)',\n",
       "  '@functools.cache\\n@clock\\ndef fibonacci(n):\\n    if n < 2:\\n        return n\\n    return fibonacci(n - 2) + fibonacci(n - 1)',\n",
       "  'fibonacci(6)',\n",
       "  \"from functools import singledispatch\\nimport html\\n@singledispatch\\ndef htmlize(obj: object) -> str:\\n    content = html.escape(repr(obj))\\n    return f'<pre>{content}</pre>'\\n@htmlize.register\\ndef _(text: str) -> str:\\n    content = 'asdfa'\\n    return 'afsa    '\",\n",
       "  \"registry = []\\n\\ndef register(func):\\n    print(f'running register({func})')\\n    registry.append(func)\\n    return func\\n\\n@register\\ndef f1():\\n    print('runing f1()')\\n\\nprint('running main()')\\nprint('registry ->', registry)\\nf1()\",\n",
       "  \"registry = set()\\n\\ndef register(active=True):\\n    def decorate(func):\\n        print(f'running register'\\n              f'(active={active})->decorate({func})')\\n        if active:\\n            registry.add(func)\\n        else:\\n            registry.discard(func)\\n        return func\\n    return decorate\\n\\n@register(active=True)\\ndef f1():\\n    print('runing f1()')\\n\\n@register()\\ndef f2():\\n    print('runing f2()')\\n\\ndef f3():\\n    print('runing f3()')\\n\\n# print('running main()')\\n# print('registry ->', registry)\\n# f1()\",\n",
       "  'registry',\n",
       "  \"registry = set()\\n\\ndef register(active=True):\\n    def decorate(func):\\n        print(f'running register'\\n              f'(active={active})->decorate({func})')\\n        if active:\\n            registry.add(func)\\n        else:\\n            registry.discard(func)\\n        return func\\n    return decorate\\n\\n@register(active=False)\\ndef f1():\\n    print('runing f1()')\\n\\n@register()\\ndef f2():\\n    print('runing f2()')\\n\\ndef f3():\\n    print('runing f3()')\\n\\n# print('running main()')\\n# print('registry ->', registry)\\n# f1()\",\n",
       "  'registry',\n",
       "  'register()(f3)',\n",
       "  'registry',\n",
       "  'locals()'],\n",
       " 'Out': {5: (10.0, 10.5, 11.0),\n",
       "  6: <code object averager at 0x000002B6326A1450, file \"C:\\Users\\sanshi\\AppData\\Local\\Temp\\ipykernel_20140\\994023343.py\", line 3>,\n",
       "  7: ('value',),\n",
       "  8: ('series',),\n",
       "  9: (<cell at 0x000002B632689D30: list object at 0x000002B6325B0400>,),\n",
       "  10: [10, 11, 12],\n",
       "  13: (1.0, 1.0, 1.0),\n",
       "  16: (10.0, 10.5, 12.0),\n",
       "  17: (<cell at 0x000002B6326899A0: int object at 0x000002B62BF36970>,\n",
       "   <cell at 0x000002B632689C10: int object at 0x000002B62BF36D90>),\n",
       "  18: ('count', 'total'),\n",
       "  22: 'clocked',\n",
       "  26: 'snooze',\n",
       "  29: 'snooze',\n",
       "  30: 'asfasdf',\n",
       "  32: 8,\n",
       "  34: 8,\n",
       "  38: {<function __main__.f1()>, <function __main__.f2()>},\n",
       "  40: {<function __main__.f2()>, <function __main__.f3()>},\n",
       "  41: <function __main__.f3()>,\n",
       "  42: {<function __main__.f2()>, <function __main__.f3()>}},\n",
       " 'get_ipython': <bound method InteractiveShell.get_ipython of <ipykernel.zmqshell.ZMQInteractiveShell object at 0x000002B6325218E0>>,\n",
       " 'exit': <IPython.core.autocall.ZMQExitAutocall at 0x2b6325383d0>,\n",
       " 'quit': <IPython.core.autocall.ZMQExitAutocall at 0x2b6325383d0>,\n",
       " '_': <function __main__._(text: str) -> str>,\n",
       " '__': 8,\n",
       " '___': 'asfasdf',\n",
       " '__vsc_ipynb_file__': 'c:\\\\study\\\\Python\\\\Python学习.ipynb',\n",
       " '_i': 'registry',\n",
       " '_ii': 'register()(f3)',\n",
       " '_iii': 'registry',\n",
       " '_i1': 'def f1(a):\\n    print(a)\\n    print(b)\\n\\ndef f2(a):\\n    print(a)\\n    print(b)\\n    b = 9',\n",
       " 'f1': <function __main__.f1()>,\n",
       " 'f2': <function __main__.f2()>,\n",
       " '_i2': 'from dis import dis\\ndis(f1)',\n",
       " 'dis': <function dis.dis(x=None, *, file=None, depth=None)>,\n",
       " '_i3': 'dis(f2)',\n",
       " '_i4': 'def make_averager():\\n    series = []\\n    def averager(value):\\n        series.append(value)\\n        return sum(series) / len(series)\\n    return averager',\n",
       " 'make_averager': <function __main__.make_averager()>,\n",
       " '_i5': 'avg = make_averager()\\navg(10), avg(11), avg(12)',\n",
       " 'avg': <function __main__.make_averager.<locals>.averager(new_value)>,\n",
       " '_5': (10.0, 10.5, 11.0),\n",
       " '_i6': 'avg.__code__',\n",
       " '_6': <code object averager at 0x000002B6326A1450, file \"C:\\Users\\sanshi\\AppData\\Local\\Temp\\ipykernel_20140\\994023343.py\", line 3>,\n",
       " '_i7': 'avg.__code__.co_varnames',\n",
       " '_7': ('value',),\n",
       " '_i8': 'avg.__code__.co_freevars',\n",
       " '_8': ('series',),\n",
       " '_i9': 'avg.__closure__',\n",
       " '_9': (<cell at 0x000002B632689D30: list object at 0x000002B6325B0400>,),\n",
       " '_i10': 'avg.__closure__[0].cell_contents',\n",
       " '_10': [10, 11, 12],\n",
       " '_i11': 'def make_averager():\\n    count = 0\\n    total = 0\\n\\n    def averager(new_value):\\n        nonlocal count\\n        nonlocal total\\n        count += 1\\n        total += 1\\n        return total / count\\n    \\n    return averager',\n",
       " '_i12': 'dis(make_averager)',\n",
       " '_i13': 'avg = make_averager()\\navg(10), avg(11), avg(15)',\n",
       " '_13': (1.0, 1.0, 1.0),\n",
       " '_i14': 'def make_averager():\\n    count = 0\\n    total = 0\\n\\n    def averager(new_value):\\n        nonlocal count\\n        nonlocal total\\n        count += 1\\n        total += new_value\\n        return total / count\\n\\n    return averager',\n",
       " '_i15': 'dis(make_averager)',\n",
       " '_i16': 'avg = make_averager()\\navg(10), avg(11), avg(15)',\n",
       " '_16': (10.0, 10.5, 12.0),\n",
       " '_i17': 'avg.__closure__',\n",
       " '_17': (<cell at 0x000002B6326899A0: int object at 0x000002B62BF36970>,\n",
       "  <cell at 0x000002B632689C10: int object at 0x000002B62BF36D90>),\n",
       " '_i18': 'avg.__code__.co_freevars',\n",
       " '_18': ('count', 'total'),\n",
       " '_i19': \"import time\\n\\ndef clock(func):\\n    def clocked(*args):\\n        t0 = time.perf_counter()\\n        result = func(*args)\\n        elapsed = time.perf_counter() - t0\\n        print(f'{elapsed:0.8f}s')\\n        return result\\n    return clocked\",\n",
       " 'time': <module 'time' (built-in)>,\n",
       " 'clock': <function __main__.clock(func)>,\n",
       " '_i20': '@clock\\ndef snooze(seconds):\\n    time.sleep(seconds)',\n",
       " 'snooze': <function __main__.snooze(seconds)>,\n",
       " '_i21': 'snooze(.123)',\n",
       " '_i22': 'snooze.__name__',\n",
       " '_22': 'clocked',\n",
       " '_i23': \"import time\\nimport functools\\n\\ndef clock(func):\\n    @functools.wraps(func)\\n    def clocked(*args, **kwargs):\\n        t0 = time.perf_counter()\\n        result = func(*args)\\n        elapsed = time.perf_counter() - t0\\n        print(f'{elapsed:0.8f}s')\\n        return result\\n    return clocked\",\n",
       " 'functools': <module 'functools' from 'c:\\\\Users\\\\sanshi\\\\anaconda3\\\\lib\\\\functools.py'>,\n",
       " '_i24': '@clock\\ndef snooze(seconds):\\n    time.sleep(seconds)',\n",
       " '_i25': 'snooze(.123)',\n",
       " '_i26': 'snooze.__name__',\n",
       " '_26': 'snooze',\n",
       " '_i27': '@clock\\ndef snooze(seconds):\\n    \"\"\"asfasdf\"\"\"\\n    time.sleep(seconds)',\n",
       " '_i28': 'snooze(.123)',\n",
       " '_i29': 'snooze.__name__',\n",
       " '_29': 'snooze',\n",
       " '_i30': 'snooze.__doc__',\n",
       " '_30': 'asfasdf',\n",
       " '_i31': '@clock\\ndef fibonacci(n):\\n    if n < 2:\\n        return n\\n    return fibonacci(n - 2) + fibonacci(n - 1)',\n",
       " 'fibonacci': <functools._lru_cache_wrapper at 0x2b632650ae0>,\n",
       " '_i32': 'fibonacci(6)',\n",
       " '_32': 8,\n",
       " '_i33': '@functools.cache\\n@clock\\ndef fibonacci(n):\\n    if n < 2:\\n        return n\\n    return fibonacci(n - 2) + fibonacci(n - 1)',\n",
       " '_i34': 'fibonacci(6)',\n",
       " '_34': 8,\n",
       " '_i35': \"from functools import singledispatch\\nimport html\\n@singledispatch\\ndef htmlize(obj: object) -> str:\\n    content = html.escape(repr(obj))\\n    return f'<pre>{content}</pre>'\\n@htmlize.register\\ndef _(text: str) -> str:\\n    content = 'asdfa'\\n    return 'afsa    '\",\n",
       " 'singledispatch': <function functools.singledispatch(func)>,\n",
       " 'html': <module 'html' from 'c:\\\\Users\\\\sanshi\\\\anaconda3\\\\lib\\\\html\\\\__init__.py'>,\n",
       " 'htmlize': <function __main__.htmlize(obj: object) -> str>,\n",
       " '_i36': \"registry = []\\n\\ndef register(func):\\n    print(f'running register({func})')\\n    registry.append(func)\\n    return func\\n\\n@register\\ndef f1():\\n    print('runing f1()')\\n\\nprint('running main()')\\nprint('registry ->', registry)\\nf1()\",\n",
       " 'registry': {<function __main__.f2()>, <function __main__.f3()>},\n",
       " 'register': <function __main__.register(active=True)>,\n",
       " '_i37': \"registry = set()\\n\\ndef register(active=True):\\n    def decorate(func):\\n        print(f'running register'\\n              f'(active={active})->decorate({func})')\\n        if active:\\n            registry.add(func)\\n        else:\\n            registry.discard(func)\\n        return func\\n    return decorate\\n\\n@register(active=True)\\ndef f1():\\n    print('runing f1()')\\n\\n@register()\\ndef f2():\\n    print('runing f2()')\\n\\ndef f3():\\n    print('runing f3()')\\n\\n# print('running main()')\\n# print('registry ->', registry)\\n# f1()\",\n",
       " 'f3': <function __main__.f3()>,\n",
       " '_i38': 'registry',\n",
       " '_38': {<function __main__.f1()>, <function __main__.f2()>},\n",
       " '_i39': \"registry = set()\\n\\ndef register(active=True):\\n    def decorate(func):\\n        print(f'running register'\\n              f'(active={active})->decorate({func})')\\n        if active:\\n            registry.add(func)\\n        else:\\n            registry.discard(func)\\n        return func\\n    return decorate\\n\\n@register(active=False)\\ndef f1():\\n    print('runing f1()')\\n\\n@register()\\ndef f2():\\n    print('runing f2()')\\n\\ndef f3():\\n    print('runing f3()')\\n\\n# print('running main()')\\n# print('registry ->', registry)\\n# f1()\",\n",
       " '_i40': 'registry',\n",
       " '_40': {<function __main__.f2()>, <function __main__.f3()>},\n",
       " '_i41': 'register()(f3)',\n",
       " '_41': <function __main__.f3()>,\n",
       " '_i42': 'registry',\n",
       " '_42': {<function __main__.f2()>, <function __main__.f3()>},\n",
       " '_i43': 'locals()'}"
      ]
     },
     "execution_count": 43,
     "metadata": {},
     "output_type": "execute_result"
    }
   ],
   "source": [
    "locals()"
   ]
  },
  {
   "cell_type": "code",
   "execution_count": 44,
   "metadata": {},
   "outputs": [
    {
     "data": {
      "text/plain": [
       "\"'as'\""
      ]
     },
     "execution_count": 44,
     "metadata": {},
     "output_type": "execute_result"
    }
   ],
   "source": [
    "repr('as')"
   ]
  },
  {
   "cell_type": "code",
   "execution_count": 45,
   "metadata": {},
   "outputs": [
    {
     "data": {
      "text/plain": [
       "{'__name__': '__main__',\n",
       " '__doc__': 'Automatically created module for IPython interactive environment',\n",
       " '__package__': None,\n",
       " '__loader__': None,\n",
       " '__spec__': None,\n",
       " '__builtin__': <module 'builtins' (built-in)>,\n",
       " '__builtins__': <module 'builtins' (built-in)>,\n",
       " '_ih': ['',\n",
       "  'def f1(a):\\n    print(a)\\n    print(b)\\n\\ndef f2(a):\\n    print(a)\\n    print(b)\\n    b = 9',\n",
       "  'from dis import dis\\ndis(f1)',\n",
       "  'dis(f2)',\n",
       "  'def make_averager():\\n    series = []\\n    def averager(value):\\n        series.append(value)\\n        return sum(series) / len(series)\\n    return averager',\n",
       "  'avg = make_averager()\\navg(10), avg(11), avg(12)',\n",
       "  'avg.__code__',\n",
       "  'avg.__code__.co_varnames',\n",
       "  'avg.__code__.co_freevars',\n",
       "  'avg.__closure__',\n",
       "  'avg.__closure__[0].cell_contents',\n",
       "  'def make_averager():\\n    count = 0\\n    total = 0\\n\\n    def averager(new_value):\\n        nonlocal count\\n        nonlocal total\\n        count += 1\\n        total += 1\\n        return total / count\\n    \\n    return averager',\n",
       "  'dis(make_averager)',\n",
       "  'avg = make_averager()\\navg(10), avg(11), avg(15)',\n",
       "  'def make_averager():\\n    count = 0\\n    total = 0\\n\\n    def averager(new_value):\\n        nonlocal count\\n        nonlocal total\\n        count += 1\\n        total += new_value\\n        return total / count\\n\\n    return averager',\n",
       "  'dis(make_averager)',\n",
       "  'avg = make_averager()\\navg(10), avg(11), avg(15)',\n",
       "  'avg.__closure__',\n",
       "  'avg.__code__.co_freevars',\n",
       "  \"import time\\n\\ndef clock(func):\\n    def clocked(*args):\\n        t0 = time.perf_counter()\\n        result = func(*args)\\n        elapsed = time.perf_counter() - t0\\n        print(f'{elapsed:0.8f}s')\\n        return result\\n    return clocked\",\n",
       "  '@clock\\ndef snooze(seconds):\\n    time.sleep(seconds)',\n",
       "  'snooze(.123)',\n",
       "  'snooze.__name__',\n",
       "  \"import time\\nimport functools\\n\\ndef clock(func):\\n    @functools.wraps(func)\\n    def clocked(*args, **kwargs):\\n        t0 = time.perf_counter()\\n        result = func(*args)\\n        elapsed = time.perf_counter() - t0\\n        print(f'{elapsed:0.8f}s')\\n        return result\\n    return clocked\",\n",
       "  '@clock\\ndef snooze(seconds):\\n    time.sleep(seconds)',\n",
       "  'snooze(.123)',\n",
       "  'snooze.__name__',\n",
       "  '@clock\\ndef snooze(seconds):\\n    \"\"\"asfasdf\"\"\"\\n    time.sleep(seconds)',\n",
       "  'snooze(.123)',\n",
       "  'snooze.__name__',\n",
       "  'snooze.__doc__',\n",
       "  '@clock\\ndef fibonacci(n):\\n    if n < 2:\\n        return n\\n    return fibonacci(n - 2) + fibonacci(n - 1)',\n",
       "  'fibonacci(6)',\n",
       "  '@functools.cache\\n@clock\\ndef fibonacci(n):\\n    if n < 2:\\n        return n\\n    return fibonacci(n - 2) + fibonacci(n - 1)',\n",
       "  'fibonacci(6)',\n",
       "  \"from functools import singledispatch\\nimport html\\n@singledispatch\\ndef htmlize(obj: object) -> str:\\n    content = html.escape(repr(obj))\\n    return f'<pre>{content}</pre>'\\n@htmlize.register\\ndef _(text: str) -> str:\\n    content = 'asdfa'\\n    return 'afsa    '\",\n",
       "  \"registry = []\\n\\ndef register(func):\\n    print(f'running register({func})')\\n    registry.append(func)\\n    return func\\n\\n@register\\ndef f1():\\n    print('runing f1()')\\n\\nprint('running main()')\\nprint('registry ->', registry)\\nf1()\",\n",
       "  \"registry = set()\\n\\ndef register(active=True):\\n    def decorate(func):\\n        print(f'running register'\\n              f'(active={active})->decorate({func})')\\n        if active:\\n            registry.add(func)\\n        else:\\n            registry.discard(func)\\n        return func\\n    return decorate\\n\\n@register(active=True)\\ndef f1():\\n    print('runing f1()')\\n\\n@register()\\ndef f2():\\n    print('runing f2()')\\n\\ndef f3():\\n    print('runing f3()')\\n\\n# print('running main()')\\n# print('registry ->', registry)\\n# f1()\",\n",
       "  'registry',\n",
       "  \"registry = set()\\n\\ndef register(active=True):\\n    def decorate(func):\\n        print(f'running register'\\n              f'(active={active})->decorate({func})')\\n        if active:\\n            registry.add(func)\\n        else:\\n            registry.discard(func)\\n        return func\\n    return decorate\\n\\n@register(active=False)\\ndef f1():\\n    print('runing f1()')\\n\\n@register()\\ndef f2():\\n    print('runing f2()')\\n\\ndef f3():\\n    print('runing f3()')\\n\\n# print('running main()')\\n# print('registry ->', registry)\\n# f1()\",\n",
       "  'registry',\n",
       "  'register()(f3)',\n",
       "  'registry',\n",
       "  'locals()',\n",
       "  \"repr('as')\",\n",
       "  'globals()'],\n",
       " '_oh': {5: (10.0, 10.5, 11.0),\n",
       "  6: <code object averager at 0x000002B6326A1450, file \"C:\\Users\\sanshi\\AppData\\Local\\Temp\\ipykernel_20140\\994023343.py\", line 3>,\n",
       "  7: ('value',),\n",
       "  8: ('series',),\n",
       "  9: (<cell at 0x000002B632689D30: list object at 0x000002B6325B0400>,),\n",
       "  10: [10, 11, 12],\n",
       "  13: (1.0, 1.0, 1.0),\n",
       "  16: (10.0, 10.5, 12.0),\n",
       "  17: (<cell at 0x000002B6326899A0: int object at 0x000002B62BF36970>,\n",
       "   <cell at 0x000002B632689C10: int object at 0x000002B62BF36D90>),\n",
       "  18: ('count', 'total'),\n",
       "  22: 'clocked',\n",
       "  26: 'snooze',\n",
       "  29: 'snooze',\n",
       "  30: 'asfasdf',\n",
       "  32: 8,\n",
       "  34: 8,\n",
       "  38: {<function __main__.f1()>, <function __main__.f2()>},\n",
       "  40: {<function __main__.f2()>, <function __main__.f3()>},\n",
       "  41: <function __main__.f3()>,\n",
       "  42: {<function __main__.f2()>, <function __main__.f3()>},\n",
       "  43: {...},\n",
       "  44: \"'as'\"},\n",
       " '_dh': [WindowsPath('c:/study/Python')],\n",
       " 'In': ['',\n",
       "  'def f1(a):\\n    print(a)\\n    print(b)\\n\\ndef f2(a):\\n    print(a)\\n    print(b)\\n    b = 9',\n",
       "  'from dis import dis\\ndis(f1)',\n",
       "  'dis(f2)',\n",
       "  'def make_averager():\\n    series = []\\n    def averager(value):\\n        series.append(value)\\n        return sum(series) / len(series)\\n    return averager',\n",
       "  'avg = make_averager()\\navg(10), avg(11), avg(12)',\n",
       "  'avg.__code__',\n",
       "  'avg.__code__.co_varnames',\n",
       "  'avg.__code__.co_freevars',\n",
       "  'avg.__closure__',\n",
       "  'avg.__closure__[0].cell_contents',\n",
       "  'def make_averager():\\n    count = 0\\n    total = 0\\n\\n    def averager(new_value):\\n        nonlocal count\\n        nonlocal total\\n        count += 1\\n        total += 1\\n        return total / count\\n    \\n    return averager',\n",
       "  'dis(make_averager)',\n",
       "  'avg = make_averager()\\navg(10), avg(11), avg(15)',\n",
       "  'def make_averager():\\n    count = 0\\n    total = 0\\n\\n    def averager(new_value):\\n        nonlocal count\\n        nonlocal total\\n        count += 1\\n        total += new_value\\n        return total / count\\n\\n    return averager',\n",
       "  'dis(make_averager)',\n",
       "  'avg = make_averager()\\navg(10), avg(11), avg(15)',\n",
       "  'avg.__closure__',\n",
       "  'avg.__code__.co_freevars',\n",
       "  \"import time\\n\\ndef clock(func):\\n    def clocked(*args):\\n        t0 = time.perf_counter()\\n        result = func(*args)\\n        elapsed = time.perf_counter() - t0\\n        print(f'{elapsed:0.8f}s')\\n        return result\\n    return clocked\",\n",
       "  '@clock\\ndef snooze(seconds):\\n    time.sleep(seconds)',\n",
       "  'snooze(.123)',\n",
       "  'snooze.__name__',\n",
       "  \"import time\\nimport functools\\n\\ndef clock(func):\\n    @functools.wraps(func)\\n    def clocked(*args, **kwargs):\\n        t0 = time.perf_counter()\\n        result = func(*args)\\n        elapsed = time.perf_counter() - t0\\n        print(f'{elapsed:0.8f}s')\\n        return result\\n    return clocked\",\n",
       "  '@clock\\ndef snooze(seconds):\\n    time.sleep(seconds)',\n",
       "  'snooze(.123)',\n",
       "  'snooze.__name__',\n",
       "  '@clock\\ndef snooze(seconds):\\n    \"\"\"asfasdf\"\"\"\\n    time.sleep(seconds)',\n",
       "  'snooze(.123)',\n",
       "  'snooze.__name__',\n",
       "  'snooze.__doc__',\n",
       "  '@clock\\ndef fibonacci(n):\\n    if n < 2:\\n        return n\\n    return fibonacci(n - 2) + fibonacci(n - 1)',\n",
       "  'fibonacci(6)',\n",
       "  '@functools.cache\\n@clock\\ndef fibonacci(n):\\n    if n < 2:\\n        return n\\n    return fibonacci(n - 2) + fibonacci(n - 1)',\n",
       "  'fibonacci(6)',\n",
       "  \"from functools import singledispatch\\nimport html\\n@singledispatch\\ndef htmlize(obj: object) -> str:\\n    content = html.escape(repr(obj))\\n    return f'<pre>{content}</pre>'\\n@htmlize.register\\ndef _(text: str) -> str:\\n    content = 'asdfa'\\n    return 'afsa    '\",\n",
       "  \"registry = []\\n\\ndef register(func):\\n    print(f'running register({func})')\\n    registry.append(func)\\n    return func\\n\\n@register\\ndef f1():\\n    print('runing f1()')\\n\\nprint('running main()')\\nprint('registry ->', registry)\\nf1()\",\n",
       "  \"registry = set()\\n\\ndef register(active=True):\\n    def decorate(func):\\n        print(f'running register'\\n              f'(active={active})->decorate({func})')\\n        if active:\\n            registry.add(func)\\n        else:\\n            registry.discard(func)\\n        return func\\n    return decorate\\n\\n@register(active=True)\\ndef f1():\\n    print('runing f1()')\\n\\n@register()\\ndef f2():\\n    print('runing f2()')\\n\\ndef f3():\\n    print('runing f3()')\\n\\n# print('running main()')\\n# print('registry ->', registry)\\n# f1()\",\n",
       "  'registry',\n",
       "  \"registry = set()\\n\\ndef register(active=True):\\n    def decorate(func):\\n        print(f'running register'\\n              f'(active={active})->decorate({func})')\\n        if active:\\n            registry.add(func)\\n        else:\\n            registry.discard(func)\\n        return func\\n    return decorate\\n\\n@register(active=False)\\ndef f1():\\n    print('runing f1()')\\n\\n@register()\\ndef f2():\\n    print('runing f2()')\\n\\ndef f3():\\n    print('runing f3()')\\n\\n# print('running main()')\\n# print('registry ->', registry)\\n# f1()\",\n",
       "  'registry',\n",
       "  'register()(f3)',\n",
       "  'registry',\n",
       "  'locals()',\n",
       "  \"repr('as')\",\n",
       "  'globals()'],\n",
       " 'Out': {5: (10.0, 10.5, 11.0),\n",
       "  6: <code object averager at 0x000002B6326A1450, file \"C:\\Users\\sanshi\\AppData\\Local\\Temp\\ipykernel_20140\\994023343.py\", line 3>,\n",
       "  7: ('value',),\n",
       "  8: ('series',),\n",
       "  9: (<cell at 0x000002B632689D30: list object at 0x000002B6325B0400>,),\n",
       "  10: [10, 11, 12],\n",
       "  13: (1.0, 1.0, 1.0),\n",
       "  16: (10.0, 10.5, 12.0),\n",
       "  17: (<cell at 0x000002B6326899A0: int object at 0x000002B62BF36970>,\n",
       "   <cell at 0x000002B632689C10: int object at 0x000002B62BF36D90>),\n",
       "  18: ('count', 'total'),\n",
       "  22: 'clocked',\n",
       "  26: 'snooze',\n",
       "  29: 'snooze',\n",
       "  30: 'asfasdf',\n",
       "  32: 8,\n",
       "  34: 8,\n",
       "  38: {<function __main__.f1()>, <function __main__.f2()>},\n",
       "  40: {<function __main__.f2()>, <function __main__.f3()>},\n",
       "  41: <function __main__.f3()>,\n",
       "  42: {<function __main__.f2()>, <function __main__.f3()>},\n",
       "  43: {...},\n",
       "  44: \"'as'\"},\n",
       " 'get_ipython': <bound method InteractiveShell.get_ipython of <ipykernel.zmqshell.ZMQInteractiveShell object at 0x000002B6325218E0>>,\n",
       " 'exit': <IPython.core.autocall.ZMQExitAutocall at 0x2b6325383d0>,\n",
       " 'quit': <IPython.core.autocall.ZMQExitAutocall at 0x2b6325383d0>,\n",
       " '_': <function __main__._(text: str) -> str>,\n",
       " '__': 8,\n",
       " '___': 'asfasdf',\n",
       " '__vsc_ipynb_file__': 'c:\\\\study\\\\Python\\\\Python学习.ipynb',\n",
       " '_i': \"repr('as')\",\n",
       " '_ii': 'locals()',\n",
       " '_iii': 'registry',\n",
       " '_i1': 'def f1(a):\\n    print(a)\\n    print(b)\\n\\ndef f2(a):\\n    print(a)\\n    print(b)\\n    b = 9',\n",
       " 'f1': <function __main__.f1()>,\n",
       " 'f2': <function __main__.f2()>,\n",
       " '_i2': 'from dis import dis\\ndis(f1)',\n",
       " 'dis': <function dis.dis(x=None, *, file=None, depth=None)>,\n",
       " '_i3': 'dis(f2)',\n",
       " '_i4': 'def make_averager():\\n    series = []\\n    def averager(value):\\n        series.append(value)\\n        return sum(series) / len(series)\\n    return averager',\n",
       " 'make_averager': <function __main__.make_averager()>,\n",
       " '_i5': 'avg = make_averager()\\navg(10), avg(11), avg(12)',\n",
       " 'avg': <function __main__.make_averager.<locals>.averager(new_value)>,\n",
       " '_5': (10.0, 10.5, 11.0),\n",
       " '_i6': 'avg.__code__',\n",
       " '_6': <code object averager at 0x000002B6326A1450, file \"C:\\Users\\sanshi\\AppData\\Local\\Temp\\ipykernel_20140\\994023343.py\", line 3>,\n",
       " '_i7': 'avg.__code__.co_varnames',\n",
       " '_7': ('value',),\n",
       " '_i8': 'avg.__code__.co_freevars',\n",
       " '_8': ('series',),\n",
       " '_i9': 'avg.__closure__',\n",
       " '_9': (<cell at 0x000002B632689D30: list object at 0x000002B6325B0400>,),\n",
       " '_i10': 'avg.__closure__[0].cell_contents',\n",
       " '_10': [10, 11, 12],\n",
       " '_i11': 'def make_averager():\\n    count = 0\\n    total = 0\\n\\n    def averager(new_value):\\n        nonlocal count\\n        nonlocal total\\n        count += 1\\n        total += 1\\n        return total / count\\n    \\n    return averager',\n",
       " '_i12': 'dis(make_averager)',\n",
       " '_i13': 'avg = make_averager()\\navg(10), avg(11), avg(15)',\n",
       " '_13': (1.0, 1.0, 1.0),\n",
       " '_i14': 'def make_averager():\\n    count = 0\\n    total = 0\\n\\n    def averager(new_value):\\n        nonlocal count\\n        nonlocal total\\n        count += 1\\n        total += new_value\\n        return total / count\\n\\n    return averager',\n",
       " '_i15': 'dis(make_averager)',\n",
       " '_i16': 'avg = make_averager()\\navg(10), avg(11), avg(15)',\n",
       " '_16': (10.0, 10.5, 12.0),\n",
       " '_i17': 'avg.__closure__',\n",
       " '_17': (<cell at 0x000002B6326899A0: int object at 0x000002B62BF36970>,\n",
       "  <cell at 0x000002B632689C10: int object at 0x000002B62BF36D90>),\n",
       " '_i18': 'avg.__code__.co_freevars',\n",
       " '_18': ('count', 'total'),\n",
       " '_i19': \"import time\\n\\ndef clock(func):\\n    def clocked(*args):\\n        t0 = time.perf_counter()\\n        result = func(*args)\\n        elapsed = time.perf_counter() - t0\\n        print(f'{elapsed:0.8f}s')\\n        return result\\n    return clocked\",\n",
       " 'time': <module 'time' (built-in)>,\n",
       " 'clock': <function __main__.clock(func)>,\n",
       " '_i20': '@clock\\ndef snooze(seconds):\\n    time.sleep(seconds)',\n",
       " 'snooze': <function __main__.snooze(seconds)>,\n",
       " '_i21': 'snooze(.123)',\n",
       " '_i22': 'snooze.__name__',\n",
       " '_22': 'clocked',\n",
       " '_i23': \"import time\\nimport functools\\n\\ndef clock(func):\\n    @functools.wraps(func)\\n    def clocked(*args, **kwargs):\\n        t0 = time.perf_counter()\\n        result = func(*args)\\n        elapsed = time.perf_counter() - t0\\n        print(f'{elapsed:0.8f}s')\\n        return result\\n    return clocked\",\n",
       " 'functools': <module 'functools' from 'c:\\\\Users\\\\sanshi\\\\anaconda3\\\\lib\\\\functools.py'>,\n",
       " '_i24': '@clock\\ndef snooze(seconds):\\n    time.sleep(seconds)',\n",
       " '_i25': 'snooze(.123)',\n",
       " '_i26': 'snooze.__name__',\n",
       " '_26': 'snooze',\n",
       " '_i27': '@clock\\ndef snooze(seconds):\\n    \"\"\"asfasdf\"\"\"\\n    time.sleep(seconds)',\n",
       " '_i28': 'snooze(.123)',\n",
       " '_i29': 'snooze.__name__',\n",
       " '_29': 'snooze',\n",
       " '_i30': 'snooze.__doc__',\n",
       " '_30': 'asfasdf',\n",
       " '_i31': '@clock\\ndef fibonacci(n):\\n    if n < 2:\\n        return n\\n    return fibonacci(n - 2) + fibonacci(n - 1)',\n",
       " 'fibonacci': <functools._lru_cache_wrapper at 0x2b632650ae0>,\n",
       " '_i32': 'fibonacci(6)',\n",
       " '_32': 8,\n",
       " '_i33': '@functools.cache\\n@clock\\ndef fibonacci(n):\\n    if n < 2:\\n        return n\\n    return fibonacci(n - 2) + fibonacci(n - 1)',\n",
       " '_i34': 'fibonacci(6)',\n",
       " '_34': 8,\n",
       " '_i35': \"from functools import singledispatch\\nimport html\\n@singledispatch\\ndef htmlize(obj: object) -> str:\\n    content = html.escape(repr(obj))\\n    return f'<pre>{content}</pre>'\\n@htmlize.register\\ndef _(text: str) -> str:\\n    content = 'asdfa'\\n    return 'afsa    '\",\n",
       " 'singledispatch': <function functools.singledispatch(func)>,\n",
       " 'html': <module 'html' from 'c:\\\\Users\\\\sanshi\\\\anaconda3\\\\lib\\\\html\\\\__init__.py'>,\n",
       " 'htmlize': <function __main__.htmlize(obj: object) -> str>,\n",
       " '_i36': \"registry = []\\n\\ndef register(func):\\n    print(f'running register({func})')\\n    registry.append(func)\\n    return func\\n\\n@register\\ndef f1():\\n    print('runing f1()')\\n\\nprint('running main()')\\nprint('registry ->', registry)\\nf1()\",\n",
       " 'registry': {<function __main__.f2()>, <function __main__.f3()>},\n",
       " 'register': <function __main__.register(active=True)>,\n",
       " '_i37': \"registry = set()\\n\\ndef register(active=True):\\n    def decorate(func):\\n        print(f'running register'\\n              f'(active={active})->decorate({func})')\\n        if active:\\n            registry.add(func)\\n        else:\\n            registry.discard(func)\\n        return func\\n    return decorate\\n\\n@register(active=True)\\ndef f1():\\n    print('runing f1()')\\n\\n@register()\\ndef f2():\\n    print('runing f2()')\\n\\ndef f3():\\n    print('runing f3()')\\n\\n# print('running main()')\\n# print('registry ->', registry)\\n# f1()\",\n",
       " 'f3': <function __main__.f3()>,\n",
       " '_i38': 'registry',\n",
       " '_38': {<function __main__.f1()>, <function __main__.f2()>},\n",
       " '_i39': \"registry = set()\\n\\ndef register(active=True):\\n    def decorate(func):\\n        print(f'running register'\\n              f'(active={active})->decorate({func})')\\n        if active:\\n            registry.add(func)\\n        else:\\n            registry.discard(func)\\n        return func\\n    return decorate\\n\\n@register(active=False)\\ndef f1():\\n    print('runing f1()')\\n\\n@register()\\ndef f2():\\n    print('runing f2()')\\n\\ndef f3():\\n    print('runing f3()')\\n\\n# print('running main()')\\n# print('registry ->', registry)\\n# f1()\",\n",
       " '_i40': 'registry',\n",
       " '_40': {<function __main__.f2()>, <function __main__.f3()>},\n",
       " '_i41': 'register()(f3)',\n",
       " '_41': <function __main__.f3()>,\n",
       " '_i42': 'registry',\n",
       " '_42': {<function __main__.f2()>, <function __main__.f3()>},\n",
       " '_i43': 'locals()',\n",
       " '_43': {...},\n",
       " '_i44': \"repr('as')\",\n",
       " '_44': \"'as'\",\n",
       " '_i45': 'globals()'}"
      ]
     },
     "execution_count": 45,
     "metadata": {},
     "output_type": "execute_result"
    }
   ],
   "source": [
    "globals()"
   ]
  },
  {
   "cell_type": "code",
   "execution_count": 46,
   "metadata": {},
   "outputs": [
    {
     "data": {
      "text/plain": [
       "dict_items([('__name__', '__main__'), ('__doc__', 'Automatically created module for IPython interactive environment'), ('__package__', None), ('__loader__', None), ('__spec__', None), ('__builtin__', <module 'builtins' (built-in)>), ('__builtins__', <module 'builtins' (built-in)>), ('_ih', ['', 'def f1(a):\\n    print(a)\\n    print(b)\\n\\ndef f2(a):\\n    print(a)\\n    print(b)\\n    b = 9', 'from dis import dis\\ndis(f1)', 'dis(f2)', 'def make_averager():\\n    series = []\\n    def averager(value):\\n        series.append(value)\\n        return sum(series) / len(series)\\n    return averager', 'avg = make_averager()\\navg(10), avg(11), avg(12)', 'avg.__code__', 'avg.__code__.co_varnames', 'avg.__code__.co_freevars', 'avg.__closure__', 'avg.__closure__[0].cell_contents', 'def make_averager():\\n    count = 0\\n    total = 0\\n\\n    def averager(new_value):\\n        nonlocal count\\n        nonlocal total\\n        count += 1\\n        total += 1\\n        return total / count\\n    \\n    return averager', 'dis(make_averager)', 'avg = make_averager()\\navg(10), avg(11), avg(15)', 'def make_averager():\\n    count = 0\\n    total = 0\\n\\n    def averager(new_value):\\n        nonlocal count\\n        nonlocal total\\n        count += 1\\n        total += new_value\\n        return total / count\\n\\n    return averager', 'dis(make_averager)', 'avg = make_averager()\\navg(10), avg(11), avg(15)', 'avg.__closure__', 'avg.__code__.co_freevars', \"import time\\n\\ndef clock(func):\\n    def clocked(*args):\\n        t0 = time.perf_counter()\\n        result = func(*args)\\n        elapsed = time.perf_counter() - t0\\n        print(f'{elapsed:0.8f}s')\\n        return result\\n    return clocked\", '@clock\\ndef snooze(seconds):\\n    time.sleep(seconds)', 'snooze(.123)', 'snooze.__name__', \"import time\\nimport functools\\n\\ndef clock(func):\\n    @functools.wraps(func)\\n    def clocked(*args, **kwargs):\\n        t0 = time.perf_counter()\\n        result = func(*args)\\n        elapsed = time.perf_counter() - t0\\n        print(f'{elapsed:0.8f}s')\\n        return result\\n    return clocked\", '@clock\\ndef snooze(seconds):\\n    time.sleep(seconds)', 'snooze(.123)', 'snooze.__name__', '@clock\\ndef snooze(seconds):\\n    \"\"\"asfasdf\"\"\"\\n    time.sleep(seconds)', 'snooze(.123)', 'snooze.__name__', 'snooze.__doc__', '@clock\\ndef fibonacci(n):\\n    if n < 2:\\n        return n\\n    return fibonacci(n - 2) + fibonacci(n - 1)', 'fibonacci(6)', '@functools.cache\\n@clock\\ndef fibonacci(n):\\n    if n < 2:\\n        return n\\n    return fibonacci(n - 2) + fibonacci(n - 1)', 'fibonacci(6)', \"from functools import singledispatch\\nimport html\\n@singledispatch\\ndef htmlize(obj: object) -> str:\\n    content = html.escape(repr(obj))\\n    return f'<pre>{content}</pre>'\\n@htmlize.register\\ndef _(text: str) -> str:\\n    content = 'asdfa'\\n    return 'afsa    '\", \"registry = []\\n\\ndef register(func):\\n    print(f'running register({func})')\\n    registry.append(func)\\n    return func\\n\\n@register\\ndef f1():\\n    print('runing f1()')\\n\\nprint('running main()')\\nprint('registry ->', registry)\\nf1()\", \"registry = set()\\n\\ndef register(active=True):\\n    def decorate(func):\\n        print(f'running register'\\n              f'(active={active})->decorate({func})')\\n        if active:\\n            registry.add(func)\\n        else:\\n            registry.discard(func)\\n        return func\\n    return decorate\\n\\n@register(active=True)\\ndef f1():\\n    print('runing f1()')\\n\\n@register()\\ndef f2():\\n    print('runing f2()')\\n\\ndef f3():\\n    print('runing f3()')\\n\\n# print('running main()')\\n# print('registry ->', registry)\\n# f1()\", 'registry', \"registry = set()\\n\\ndef register(active=True):\\n    def decorate(func):\\n        print(f'running register'\\n              f'(active={active})->decorate({func})')\\n        if active:\\n            registry.add(func)\\n        else:\\n            registry.discard(func)\\n        return func\\n    return decorate\\n\\n@register(active=False)\\ndef f1():\\n    print('runing f1()')\\n\\n@register()\\ndef f2():\\n    print('runing f2()')\\n\\ndef f3():\\n    print('runing f3()')\\n\\n# print('running main()')\\n# print('registry ->', registry)\\n# f1()\", 'registry', 'register()(f3)', 'registry', 'locals()', \"repr('as')\", 'globals()', 'globals().items()']), ('_oh', {5: (10.0, 10.5, 11.0), 6: <code object averager at 0x000002B6326A1450, file \"C:\\Users\\sanshi\\AppData\\Local\\Temp\\ipykernel_20140\\994023343.py\", line 3>, 7: ('value',), 8: ('series',), 9: (<cell at 0x000002B632689D30: list object at 0x000002B6325B0400>,), 10: [10, 11, 12], 13: (1.0, 1.0, 1.0), 16: (10.0, 10.5, 12.0), 17: (<cell at 0x000002B6326899A0: int object at 0x000002B62BF36970>, <cell at 0x000002B632689C10: int object at 0x000002B62BF36D90>), 18: ('count', 'total'), 22: 'clocked', 26: 'snooze', 29: 'snooze', 30: 'asfasdf', 32: 8, 34: 8, 38: {<function f1 at 0x000002B632569CA0>, <function f2 at 0x000002B632676F70>}, 40: {<function f3 at 0x000002B632569D30>, <function f2 at 0x000002B6326BBAF0>}, 41: <function f3 at 0x000002B632569D30>, 42: {<function f3 at 0x000002B632569D30>, <function f2 at 0x000002B6326BBAF0>}, 43: {'__name__': '__main__', '__doc__': 'Automatically created module for IPython interactive environment', '__package__': None, '__loader__': None, '__spec__': None, '__builtin__': <module 'builtins' (built-in)>, '__builtins__': <module 'builtins' (built-in)>, '_ih': ['', 'def f1(a):\\n    print(a)\\n    print(b)\\n\\ndef f2(a):\\n    print(a)\\n    print(b)\\n    b = 9', 'from dis import dis\\ndis(f1)', 'dis(f2)', 'def make_averager():\\n    series = []\\n    def averager(value):\\n        series.append(value)\\n        return sum(series) / len(series)\\n    return averager', 'avg = make_averager()\\navg(10), avg(11), avg(12)', 'avg.__code__', 'avg.__code__.co_varnames', 'avg.__code__.co_freevars', 'avg.__closure__', 'avg.__closure__[0].cell_contents', 'def make_averager():\\n    count = 0\\n    total = 0\\n\\n    def averager(new_value):\\n        nonlocal count\\n        nonlocal total\\n        count += 1\\n        total += 1\\n        return total / count\\n    \\n    return averager', 'dis(make_averager)', 'avg = make_averager()\\navg(10), avg(11), avg(15)', 'def make_averager():\\n    count = 0\\n    total = 0\\n\\n    def averager(new_value):\\n        nonlocal count\\n        nonlocal total\\n        count += 1\\n        total += new_value\\n        return total / count\\n\\n    return averager', 'dis(make_averager)', 'avg = make_averager()\\navg(10), avg(11), avg(15)', 'avg.__closure__', 'avg.__code__.co_freevars', \"import time\\n\\ndef clock(func):\\n    def clocked(*args):\\n        t0 = time.perf_counter()\\n        result = func(*args)\\n        elapsed = time.perf_counter() - t0\\n        print(f'{elapsed:0.8f}s')\\n        return result\\n    return clocked\", '@clock\\ndef snooze(seconds):\\n    time.sleep(seconds)', 'snooze(.123)', 'snooze.__name__', \"import time\\nimport functools\\n\\ndef clock(func):\\n    @functools.wraps(func)\\n    def clocked(*args, **kwargs):\\n        t0 = time.perf_counter()\\n        result = func(*args)\\n        elapsed = time.perf_counter() - t0\\n        print(f'{elapsed:0.8f}s')\\n        return result\\n    return clocked\", '@clock\\ndef snooze(seconds):\\n    time.sleep(seconds)', 'snooze(.123)', 'snooze.__name__', '@clock\\ndef snooze(seconds):\\n    \"\"\"asfasdf\"\"\"\\n    time.sleep(seconds)', 'snooze(.123)', 'snooze.__name__', 'snooze.__doc__', '@clock\\ndef fibonacci(n):\\n    if n < 2:\\n        return n\\n    return fibonacci(n - 2) + fibonacci(n - 1)', 'fibonacci(6)', '@functools.cache\\n@clock\\ndef fibonacci(n):\\n    if n < 2:\\n        return n\\n    return fibonacci(n - 2) + fibonacci(n - 1)', 'fibonacci(6)', \"from functools import singledispatch\\nimport html\\n@singledispatch\\ndef htmlize(obj: object) -> str:\\n    content = html.escape(repr(obj))\\n    return f'<pre>{content}</pre>'\\n@htmlize.register\\ndef _(text: str) -> str:\\n    content = 'asdfa'\\n    return 'afsa    '\", \"registry = []\\n\\ndef register(func):\\n    print(f'running register({func})')\\n    registry.append(func)\\n    return func\\n\\n@register\\ndef f1():\\n    print('runing f1()')\\n\\nprint('running main()')\\nprint('registry ->', registry)\\nf1()\", \"registry = set()\\n\\ndef register(active=True):\\n    def decorate(func):\\n        print(f'running register'\\n              f'(active={active})->decorate({func})')\\n        if active:\\n            registry.add(func)\\n        else:\\n            registry.discard(func)\\n        return func\\n    return decorate\\n\\n@register(active=True)\\ndef f1():\\n    print('runing f1()')\\n\\n@register()\\ndef f2():\\n    print('runing f2()')\\n\\ndef f3():\\n    print('runing f3()')\\n\\n# print('running main()')\\n# print('registry ->', registry)\\n# f1()\", 'registry', \"registry = set()\\n\\ndef register(active=True):\\n    def decorate(func):\\n        print(f'running register'\\n              f'(active={active})->decorate({func})')\\n        if active:\\n            registry.add(func)\\n        else:\\n            registry.discard(func)\\n        return func\\n    return decorate\\n\\n@register(active=False)\\ndef f1():\\n    print('runing f1()')\\n\\n@register()\\ndef f2():\\n    print('runing f2()')\\n\\ndef f3():\\n    print('runing f3()')\\n\\n# print('running main()')\\n# print('registry ->', registry)\\n# f1()\", 'registry', 'register()(f3)', 'registry', 'locals()', \"repr('as')\", 'globals()', 'globals().items()'], '_oh': {...}, '_dh': [WindowsPath('c:/study/Python')], 'In': ['', 'def f1(a):\\n    print(a)\\n    print(b)\\n\\ndef f2(a):\\n    print(a)\\n    print(b)\\n    b = 9', 'from dis import dis\\ndis(f1)', 'dis(f2)', 'def make_averager():\\n    series = []\\n    def averager(value):\\n        series.append(value)\\n        return sum(series) / len(series)\\n    return averager', 'avg = make_averager()\\navg(10), avg(11), avg(12)', 'avg.__code__', 'avg.__code__.co_varnames', 'avg.__code__.co_freevars', 'avg.__closure__', 'avg.__closure__[0].cell_contents', 'def make_averager():\\n    count = 0\\n    total = 0\\n\\n    def averager(new_value):\\n        nonlocal count\\n        nonlocal total\\n        count += 1\\n        total += 1\\n        return total / count\\n    \\n    return averager', 'dis(make_averager)', 'avg = make_averager()\\navg(10), avg(11), avg(15)', 'def make_averager():\\n    count = 0\\n    total = 0\\n\\n    def averager(new_value):\\n        nonlocal count\\n        nonlocal total\\n        count += 1\\n        total += new_value\\n        return total / count\\n\\n    return averager', 'dis(make_averager)', 'avg = make_averager()\\navg(10), avg(11), avg(15)', 'avg.__closure__', 'avg.__code__.co_freevars', \"import time\\n\\ndef clock(func):\\n    def clocked(*args):\\n        t0 = time.perf_counter()\\n        result = func(*args)\\n        elapsed = time.perf_counter() - t0\\n        print(f'{elapsed:0.8f}s')\\n        return result\\n    return clocked\", '@clock\\ndef snooze(seconds):\\n    time.sleep(seconds)', 'snooze(.123)', 'snooze.__name__', \"import time\\nimport functools\\n\\ndef clock(func):\\n    @functools.wraps(func)\\n    def clocked(*args, **kwargs):\\n        t0 = time.perf_counter()\\n        result = func(*args)\\n        elapsed = time.perf_counter() - t0\\n        print(f'{elapsed:0.8f}s')\\n        return result\\n    return clocked\", '@clock\\ndef snooze(seconds):\\n    time.sleep(seconds)', 'snooze(.123)', 'snooze.__name__', '@clock\\ndef snooze(seconds):\\n    \"\"\"asfasdf\"\"\"\\n    time.sleep(seconds)', 'snooze(.123)', 'snooze.__name__', 'snooze.__doc__', '@clock\\ndef fibonacci(n):\\n    if n < 2:\\n        return n\\n    return fibonacci(n - 2) + fibonacci(n - 1)', 'fibonacci(6)', '@functools.cache\\n@clock\\ndef fibonacci(n):\\n    if n < 2:\\n        return n\\n    return fibonacci(n - 2) + fibonacci(n - 1)', 'fibonacci(6)', \"from functools import singledispatch\\nimport html\\n@singledispatch\\ndef htmlize(obj: object) -> str:\\n    content = html.escape(repr(obj))\\n    return f'<pre>{content}</pre>'\\n@htmlize.register\\ndef _(text: str) -> str:\\n    content = 'asdfa'\\n    return 'afsa    '\", \"registry = []\\n\\ndef register(func):\\n    print(f'running register({func})')\\n    registry.append(func)\\n    return func\\n\\n@register\\ndef f1():\\n    print('runing f1()')\\n\\nprint('running main()')\\nprint('registry ->', registry)\\nf1()\", \"registry = set()\\n\\ndef register(active=True):\\n    def decorate(func):\\n        print(f'running register'\\n              f'(active={active})->decorate({func})')\\n        if active:\\n            registry.add(func)\\n        else:\\n            registry.discard(func)\\n        return func\\n    return decorate\\n\\n@register(active=True)\\ndef f1():\\n    print('runing f1()')\\n\\n@register()\\ndef f2():\\n    print('runing f2()')\\n\\ndef f3():\\n    print('runing f3()')\\n\\n# print('running main()')\\n# print('registry ->', registry)\\n# f1()\", 'registry', \"registry = set()\\n\\ndef register(active=True):\\n    def decorate(func):\\n        print(f'running register'\\n              f'(active={active})->decorate({func})')\\n        if active:\\n            registry.add(func)\\n        else:\\n            registry.discard(func)\\n        return func\\n    return decorate\\n\\n@register(active=False)\\ndef f1():\\n    print('runing f1()')\\n\\n@register()\\ndef f2():\\n    print('runing f2()')\\n\\ndef f3():\\n    print('runing f3()')\\n\\n# print('running main()')\\n# print('registry ->', registry)\\n# f1()\", 'registry', 'register()(f3)', 'registry', 'locals()', \"repr('as')\", 'globals()', 'globals().items()'], 'Out': {...}, 'get_ipython': <bound method InteractiveShell.get_ipython of <ipykernel.zmqshell.ZMQInteractiveShell object at 0x000002B6325218E0>>, 'exit': <IPython.core.autocall.ZMQExitAutocall object at 0x000002B6325383D0>, 'quit': <IPython.core.autocall.ZMQExitAutocall object at 0x000002B6325383D0>, '_': <function _ at 0x000002B6326BB0D0>, '__': 8, '___': 'asfasdf', '__vsc_ipynb_file__': 'c:\\\\study\\\\Python\\\\Python学习.ipynb', '_i': 'globals()', '_ii': \"repr('as')\", '_iii': 'locals()', '_i1': 'def f1(a):\\n    print(a)\\n    print(b)\\n\\ndef f2(a):\\n    print(a)\\n    print(b)\\n    b = 9', 'f1': <function f1 at 0x000002B6326BB430>, 'f2': <function f2 at 0x000002B6326BBAF0>, '_i2': 'from dis import dis\\ndis(f1)', 'dis': <function dis at 0x000002B62CE97C10>, '_i3': 'dis(f2)', '_i4': 'def make_averager():\\n    series = []\\n    def averager(value):\\n        series.append(value)\\n        return sum(series) / len(series)\\n    return averager', 'make_averager': <function make_averager at 0x000002B632654A60>, '_i5': 'avg = make_averager()\\navg(10), avg(11), avg(12)', 'avg': <function make_averager.<locals>.averager at 0x000002B6326BBB80>, '_5': (10.0, 10.5, 11.0), '_i6': 'avg.__code__', '_6': <code object averager at 0x000002B6326A1450, file \"C:\\Users\\sanshi\\AppData\\Local\\Temp\\ipykernel_20140\\994023343.py\", line 3>, '_i7': 'avg.__code__.co_varnames', '_7': ('value',), '_i8': 'avg.__code__.co_freevars', '_8': ('series',), '_i9': 'avg.__closure__', '_9': (<cell at 0x000002B632689D30: list object at 0x000002B6325B0400>,), '_i10': 'avg.__closure__[0].cell_contents', '_10': [10, 11, 12], '_i11': 'def make_averager():\\n    count = 0\\n    total = 0\\n\\n    def averager(new_value):\\n        nonlocal count\\n        nonlocal total\\n        count += 1\\n        total += 1\\n        return total / count\\n    \\n    return averager', '_i12': 'dis(make_averager)', '_i13': 'avg = make_averager()\\navg(10), avg(11), avg(15)', '_13': (1.0, 1.0, 1.0), '_i14': 'def make_averager():\\n    count = 0\\n    total = 0\\n\\n    def averager(new_value):\\n        nonlocal count\\n        nonlocal total\\n        count += 1\\n        total += new_value\\n        return total / count\\n\\n    return averager', '_i15': 'dis(make_averager)', '_i16': 'avg = make_averager()\\navg(10), avg(11), avg(15)', '_16': (10.0, 10.5, 12.0), '_i17': 'avg.__closure__', '_17': (<cell at 0x000002B6326899A0: int object at 0x000002B62BF36970>, <cell at 0x000002B632689C10: int object at 0x000002B62BF36D90>), '_i18': 'avg.__code__.co_freevars', '_18': ('count', 'total'), '_i19': \"import time\\n\\ndef clock(func):\\n    def clocked(*args):\\n        t0 = time.perf_counter()\\n        result = func(*args)\\n        elapsed = time.perf_counter() - t0\\n        print(f'{elapsed:0.8f}s')\\n        return result\\n    return clocked\", 'time': <module 'time' (built-in)>, 'clock': <function clock at 0x000002B6326BB1F0>, '_i20': '@clock\\ndef snooze(seconds):\\n    time.sleep(seconds)', 'snooze': <function snooze at 0x000002B6326BBC10>, '_i21': 'snooze(.123)', '_i22': 'snooze.__name__', '_22': 'clocked', '_i23': \"import time\\nimport functools\\n\\ndef clock(func):\\n    @functools.wraps(func)\\n    def clocked(*args, **kwargs):\\n        t0 = time.perf_counter()\\n        result = func(*args)\\n        elapsed = time.perf_counter() - t0\\n        print(f'{elapsed:0.8f}s')\\n        return result\\n    return clocked\", 'functools': <module 'functools' from 'c:\\\\Users\\\\sanshi\\\\anaconda3\\\\lib\\\\functools.py'>, '_i24': '@clock\\ndef snooze(seconds):\\n    time.sleep(seconds)', '_i25': 'snooze(.123)', '_i26': 'snooze.__name__', '_26': 'snooze', '_i27': '@clock\\ndef snooze(seconds):\\n    \"\"\"asfasdf\"\"\"\\n    time.sleep(seconds)', '_i28': 'snooze(.123)', '_i29': 'snooze.__name__', '_29': 'snooze', '_i30': 'snooze.__doc__', '_30': 'asfasdf', '_i31': '@clock\\ndef fibonacci(n):\\n    if n < 2:\\n        return n\\n    return fibonacci(n - 2) + fibonacci(n - 1)', 'fibonacci': <functools._lru_cache_wrapper object at 0x000002B632650AE0>, '_i32': 'fibonacci(6)', '_32': 8, '_i33': '@functools.cache\\n@clock\\ndef fibonacci(n):\\n    if n < 2:\\n        return n\\n    return fibonacci(n - 2) + fibonacci(n - 1)', '_i34': 'fibonacci(6)', '_34': 8, '_i35': \"from functools import singledispatch\\nimport html\\n@singledispatch\\ndef htmlize(obj: object) -> str:\\n    content = html.escape(repr(obj))\\n    return f'<pre>{content}</pre>'\\n@htmlize.register\\ndef _(text: str) -> str:\\n    content = 'asdfa'\\n    return 'afsa    '\", 'singledispatch': <function singledispatch at 0x000002B62C91C790>, 'html': <module 'html' from 'c:\\\\Users\\\\sanshi\\\\anaconda3\\\\lib\\\\html\\\\__init__.py'>, 'htmlize': <function htmlize at 0x000002B6326BB790>, '_i36': \"registry = []\\n\\ndef register(func):\\n    print(f'running register({func})')\\n    registry.append(func)\\n    return func\\n\\n@register\\ndef f1():\\n    print('runing f1()')\\n\\nprint('running main()')\\nprint('registry ->', registry)\\nf1()\", 'registry': {<function f3 at 0x000002B632569D30>, <function f2 at 0x000002B6326BBAF0>}, 'register': <function register at 0x000002B6326BB550>, '_i37': \"registry = set()\\n\\ndef register(active=True):\\n    def decorate(func):\\n        print(f'running register'\\n              f'(active={active})->decorate({func})')\\n        if active:\\n            registry.add(func)\\n        else:\\n            registry.discard(func)\\n        return func\\n    return decorate\\n\\n@register(active=True)\\ndef f1():\\n    print('runing f1()')\\n\\n@register()\\ndef f2():\\n    print('runing f2()')\\n\\ndef f3():\\n    print('runing f3()')\\n\\n# print('running main()')\\n# print('registry ->', registry)\\n# f1()\", 'f3': <function f3 at 0x000002B632569D30>, '_i38': 'registry', '_38': {<function f1 at 0x000002B632569CA0>, <function f2 at 0x000002B632676F70>}, '_i39': \"registry = set()\\n\\ndef register(active=True):\\n    def decorate(func):\\n        print(f'running register'\\n              f'(active={active})->decorate({func})')\\n        if active:\\n            registry.add(func)\\n        else:\\n            registry.discard(func)\\n        return func\\n    return decorate\\n\\n@register(active=False)\\ndef f1():\\n    print('runing f1()')\\n\\n@register()\\ndef f2():\\n    print('runing f2()')\\n\\ndef f3():\\n    print('runing f3()')\\n\\n# print('running main()')\\n# print('registry ->', registry)\\n# f1()\", '_i40': 'registry', '_40': {<function f3 at 0x000002B632569D30>, <function f2 at 0x000002B6326BBAF0>}, '_i41': 'register()(f3)', '_41': <function f3 at 0x000002B632569D30>, '_i42': 'registry', '_42': {<function f3 at 0x000002B632569D30>, <function f2 at 0x000002B6326BBAF0>}, '_i43': 'locals()', '_43': {...}, '_i44': \"repr('as')\", '_44': \"'as'\", '_i45': 'globals()', '_45': {...}, '_i46': 'globals().items()'}, 44: \"'as'\", 45: {'__name__': '__main__', '__doc__': 'Automatically created module for IPython interactive environment', '__package__': None, '__loader__': None, '__spec__': None, '__builtin__': <module 'builtins' (built-in)>, '__builtins__': <module 'builtins' (built-in)>, '_ih': ['', 'def f1(a):\\n    print(a)\\n    print(b)\\n\\ndef f2(a):\\n    print(a)\\n    print(b)\\n    b = 9', 'from dis import dis\\ndis(f1)', 'dis(f2)', 'def make_averager():\\n    series = []\\n    def averager(value):\\n        series.append(value)\\n        return sum(series) / len(series)\\n    return averager', 'avg = make_averager()\\navg(10), avg(11), avg(12)', 'avg.__code__', 'avg.__code__.co_varnames', 'avg.__code__.co_freevars', 'avg.__closure__', 'avg.__closure__[0].cell_contents', 'def make_averager():\\n    count = 0\\n    total = 0\\n\\n    def averager(new_value):\\n        nonlocal count\\n        nonlocal total\\n        count += 1\\n        total += 1\\n        return total / count\\n    \\n    return averager', 'dis(make_averager)', 'avg = make_averager()\\navg(10), avg(11), avg(15)', 'def make_averager():\\n    count = 0\\n    total = 0\\n\\n    def averager(new_value):\\n        nonlocal count\\n        nonlocal total\\n        count += 1\\n        total += new_value\\n        return total / count\\n\\n    return averager', 'dis(make_averager)', 'avg = make_averager()\\navg(10), avg(11), avg(15)', 'avg.__closure__', 'avg.__code__.co_freevars', \"import time\\n\\ndef clock(func):\\n    def clocked(*args):\\n        t0 = time.perf_counter()\\n        result = func(*args)\\n        elapsed = time.perf_counter() - t0\\n        print(f'{elapsed:0.8f}s')\\n        return result\\n    return clocked\", '@clock\\ndef snooze(seconds):\\n    time.sleep(seconds)', 'snooze(.123)', 'snooze.__name__', \"import time\\nimport functools\\n\\ndef clock(func):\\n    @functools.wraps(func)\\n    def clocked(*args, **kwargs):\\n        t0 = time.perf_counter()\\n        result = func(*args)\\n        elapsed = time.perf_counter() - t0\\n        print(f'{elapsed:0.8f}s')\\n        return result\\n    return clocked\", '@clock\\ndef snooze(seconds):\\n    time.sleep(seconds)', 'snooze(.123)', 'snooze.__name__', '@clock\\ndef snooze(seconds):\\n    \"\"\"asfasdf\"\"\"\\n    time.sleep(seconds)', 'snooze(.123)', 'snooze.__name__', 'snooze.__doc__', '@clock\\ndef fibonacci(n):\\n    if n < 2:\\n        return n\\n    return fibonacci(n - 2) + fibonacci(n - 1)', 'fibonacci(6)', '@functools.cache\\n@clock\\ndef fibonacci(n):\\n    if n < 2:\\n        return n\\n    return fibonacci(n - 2) + fibonacci(n - 1)', 'fibonacci(6)', \"from functools import singledispatch\\nimport html\\n@singledispatch\\ndef htmlize(obj: object) -> str:\\n    content = html.escape(repr(obj))\\n    return f'<pre>{content}</pre>'\\n@htmlize.register\\ndef _(text: str) -> str:\\n    content = 'asdfa'\\n    return 'afsa    '\", \"registry = []\\n\\ndef register(func):\\n    print(f'running register({func})')\\n    registry.append(func)\\n    return func\\n\\n@register\\ndef f1():\\n    print('runing f1()')\\n\\nprint('running main()')\\nprint('registry ->', registry)\\nf1()\", \"registry = set()\\n\\ndef register(active=True):\\n    def decorate(func):\\n        print(f'running register'\\n              f'(active={active})->decorate({func})')\\n        if active:\\n            registry.add(func)\\n        else:\\n            registry.discard(func)\\n        return func\\n    return decorate\\n\\n@register(active=True)\\ndef f1():\\n    print('runing f1()')\\n\\n@register()\\ndef f2():\\n    print('runing f2()')\\n\\ndef f3():\\n    print('runing f3()')\\n\\n# print('running main()')\\n# print('registry ->', registry)\\n# f1()\", 'registry', \"registry = set()\\n\\ndef register(active=True):\\n    def decorate(func):\\n        print(f'running register'\\n              f'(active={active})->decorate({func})')\\n        if active:\\n            registry.add(func)\\n        else:\\n            registry.discard(func)\\n        return func\\n    return decorate\\n\\n@register(active=False)\\ndef f1():\\n    print('runing f1()')\\n\\n@register()\\ndef f2():\\n    print('runing f2()')\\n\\ndef f3():\\n    print('runing f3()')\\n\\n# print('running main()')\\n# print('registry ->', registry)\\n# f1()\", 'registry', 'register()(f3)', 'registry', 'locals()', \"repr('as')\", 'globals()', 'globals().items()'], '_oh': {...}, '_dh': [WindowsPath('c:/study/Python')], 'In': ['', 'def f1(a):\\n    print(a)\\n    print(b)\\n\\ndef f2(a):\\n    print(a)\\n    print(b)\\n    b = 9', 'from dis import dis\\ndis(f1)', 'dis(f2)', 'def make_averager():\\n    series = []\\n    def averager(value):\\n        series.append(value)\\n        return sum(series) / len(series)\\n    return averager', 'avg = make_averager()\\navg(10), avg(11), avg(12)', 'avg.__code__', 'avg.__code__.co_varnames', 'avg.__code__.co_freevars', 'avg.__closure__', 'avg.__closure__[0].cell_contents', 'def make_averager():\\n    count = 0\\n    total = 0\\n\\n    def averager(new_value):\\n        nonlocal count\\n        nonlocal total\\n        count += 1\\n        total += 1\\n        return total / count\\n    \\n    return averager', 'dis(make_averager)', 'avg = make_averager()\\navg(10), avg(11), avg(15)', 'def make_averager():\\n    count = 0\\n    total = 0\\n\\n    def averager(new_value):\\n        nonlocal count\\n        nonlocal total\\n        count += 1\\n        total += new_value\\n        return total / count\\n\\n    return averager', 'dis(make_averager)', 'avg = make_averager()\\navg(10), avg(11), avg(15)', 'avg.__closure__', 'avg.__code__.co_freevars', \"import time\\n\\ndef clock(func):\\n    def clocked(*args):\\n        t0 = time.perf_counter()\\n        result = func(*args)\\n        elapsed = time.perf_counter() - t0\\n        print(f'{elapsed:0.8f}s')\\n        return result\\n    return clocked\", '@clock\\ndef snooze(seconds):\\n    time.sleep(seconds)', 'snooze(.123)', 'snooze.__name__', \"import time\\nimport functools\\n\\ndef clock(func):\\n    @functools.wraps(func)\\n    def clocked(*args, **kwargs):\\n        t0 = time.perf_counter()\\n        result = func(*args)\\n        elapsed = time.perf_counter() - t0\\n        print(f'{elapsed:0.8f}s')\\n        return result\\n    return clocked\", '@clock\\ndef snooze(seconds):\\n    time.sleep(seconds)', 'snooze(.123)', 'snooze.__name__', '@clock\\ndef snooze(seconds):\\n    \"\"\"asfasdf\"\"\"\\n    time.sleep(seconds)', 'snooze(.123)', 'snooze.__name__', 'snooze.__doc__', '@clock\\ndef fibonacci(n):\\n    if n < 2:\\n        return n\\n    return fibonacci(n - 2) + fibonacci(n - 1)', 'fibonacci(6)', '@functools.cache\\n@clock\\ndef fibonacci(n):\\n    if n < 2:\\n        return n\\n    return fibonacci(n - 2) + fibonacci(n - 1)', 'fibonacci(6)', \"from functools import singledispatch\\nimport html\\n@singledispatch\\ndef htmlize(obj: object) -> str:\\n    content = html.escape(repr(obj))\\n    return f'<pre>{content}</pre>'\\n@htmlize.register\\ndef _(text: str) -> str:\\n    content = 'asdfa'\\n    return 'afsa    '\", \"registry = []\\n\\ndef register(func):\\n    print(f'running register({func})')\\n    registry.append(func)\\n    return func\\n\\n@register\\ndef f1():\\n    print('runing f1()')\\n\\nprint('running main()')\\nprint('registry ->', registry)\\nf1()\", \"registry = set()\\n\\ndef register(active=True):\\n    def decorate(func):\\n        print(f'running register'\\n              f'(active={active})->decorate({func})')\\n        if active:\\n            registry.add(func)\\n        else:\\n            registry.discard(func)\\n        return func\\n    return decorate\\n\\n@register(active=True)\\ndef f1():\\n    print('runing f1()')\\n\\n@register()\\ndef f2():\\n    print('runing f2()')\\n\\ndef f3():\\n    print('runing f3()')\\n\\n# print('running main()')\\n# print('registry ->', registry)\\n# f1()\", 'registry', \"registry = set()\\n\\ndef register(active=True):\\n    def decorate(func):\\n        print(f'running register'\\n              f'(active={active})->decorate({func})')\\n        if active:\\n            registry.add(func)\\n        else:\\n            registry.discard(func)\\n        return func\\n    return decorate\\n\\n@register(active=False)\\ndef f1():\\n    print('runing f1()')\\n\\n@register()\\ndef f2():\\n    print('runing f2()')\\n\\ndef f3():\\n    print('runing f3()')\\n\\n# print('running main()')\\n# print('registry ->', registry)\\n# f1()\", 'registry', 'register()(f3)', 'registry', 'locals()', \"repr('as')\", 'globals()', 'globals().items()'], 'Out': {...}, 'get_ipython': <bound method InteractiveShell.get_ipython of <ipykernel.zmqshell.ZMQInteractiveShell object at 0x000002B6325218E0>>, 'exit': <IPython.core.autocall.ZMQExitAutocall object at 0x000002B6325383D0>, 'quit': <IPython.core.autocall.ZMQExitAutocall object at 0x000002B6325383D0>, '_': <function _ at 0x000002B6326BB0D0>, '__': 8, '___': 'asfasdf', '__vsc_ipynb_file__': 'c:\\\\study\\\\Python\\\\Python学习.ipynb', '_i': 'globals()', '_ii': \"repr('as')\", '_iii': 'locals()', '_i1': 'def f1(a):\\n    print(a)\\n    print(b)\\n\\ndef f2(a):\\n    print(a)\\n    print(b)\\n    b = 9', 'f1': <function f1 at 0x000002B6326BB430>, 'f2': <function f2 at 0x000002B6326BBAF0>, '_i2': 'from dis import dis\\ndis(f1)', 'dis': <function dis at 0x000002B62CE97C10>, '_i3': 'dis(f2)', '_i4': 'def make_averager():\\n    series = []\\n    def averager(value):\\n        series.append(value)\\n        return sum(series) / len(series)\\n    return averager', 'make_averager': <function make_averager at 0x000002B632654A60>, '_i5': 'avg = make_averager()\\navg(10), avg(11), avg(12)', 'avg': <function make_averager.<locals>.averager at 0x000002B6326BBB80>, '_5': (10.0, 10.5, 11.0), '_i6': 'avg.__code__', '_6': <code object averager at 0x000002B6326A1450, file \"C:\\Users\\sanshi\\AppData\\Local\\Temp\\ipykernel_20140\\994023343.py\", line 3>, '_i7': 'avg.__code__.co_varnames', '_7': ('value',), '_i8': 'avg.__code__.co_freevars', '_8': ('series',), '_i9': 'avg.__closure__', '_9': (<cell at 0x000002B632689D30: list object at 0x000002B6325B0400>,), '_i10': 'avg.__closure__[0].cell_contents', '_10': [10, 11, 12], '_i11': 'def make_averager():\\n    count = 0\\n    total = 0\\n\\n    def averager(new_value):\\n        nonlocal count\\n        nonlocal total\\n        count += 1\\n        total += 1\\n        return total / count\\n    \\n    return averager', '_i12': 'dis(make_averager)', '_i13': 'avg = make_averager()\\navg(10), avg(11), avg(15)', '_13': (1.0, 1.0, 1.0), '_i14': 'def make_averager():\\n    count = 0\\n    total = 0\\n\\n    def averager(new_value):\\n        nonlocal count\\n        nonlocal total\\n        count += 1\\n        total += new_value\\n        return total / count\\n\\n    return averager', '_i15': 'dis(make_averager)', '_i16': 'avg = make_averager()\\navg(10), avg(11), avg(15)', '_16': (10.0, 10.5, 12.0), '_i17': 'avg.__closure__', '_17': (<cell at 0x000002B6326899A0: int object at 0x000002B62BF36970>, <cell at 0x000002B632689C10: int object at 0x000002B62BF36D90>), '_i18': 'avg.__code__.co_freevars', '_18': ('count', 'total'), '_i19': \"import time\\n\\ndef clock(func):\\n    def clocked(*args):\\n        t0 = time.perf_counter()\\n        result = func(*args)\\n        elapsed = time.perf_counter() - t0\\n        print(f'{elapsed:0.8f}s')\\n        return result\\n    return clocked\", 'time': <module 'time' (built-in)>, 'clock': <function clock at 0x000002B6326BB1F0>, '_i20': '@clock\\ndef snooze(seconds):\\n    time.sleep(seconds)', 'snooze': <function snooze at 0x000002B6326BBC10>, '_i21': 'snooze(.123)', '_i22': 'snooze.__name__', '_22': 'clocked', '_i23': \"import time\\nimport functools\\n\\ndef clock(func):\\n    @functools.wraps(func)\\n    def clocked(*args, **kwargs):\\n        t0 = time.perf_counter()\\n        result = func(*args)\\n        elapsed = time.perf_counter() - t0\\n        print(f'{elapsed:0.8f}s')\\n        return result\\n    return clocked\", 'functools': <module 'functools' from 'c:\\\\Users\\\\sanshi\\\\anaconda3\\\\lib\\\\functools.py'>, '_i24': '@clock\\ndef snooze(seconds):\\n    time.sleep(seconds)', '_i25': 'snooze(.123)', '_i26': 'snooze.__name__', '_26': 'snooze', '_i27': '@clock\\ndef snooze(seconds):\\n    \"\"\"asfasdf\"\"\"\\n    time.sleep(seconds)', '_i28': 'snooze(.123)', '_i29': 'snooze.__name__', '_29': 'snooze', '_i30': 'snooze.__doc__', '_30': 'asfasdf', '_i31': '@clock\\ndef fibonacci(n):\\n    if n < 2:\\n        return n\\n    return fibonacci(n - 2) + fibonacci(n - 1)', 'fibonacci': <functools._lru_cache_wrapper object at 0x000002B632650AE0>, '_i32': 'fibonacci(6)', '_32': 8, '_i33': '@functools.cache\\n@clock\\ndef fibonacci(n):\\n    if n < 2:\\n        return n\\n    return fibonacci(n - 2) + fibonacci(n - 1)', '_i34': 'fibonacci(6)', '_34': 8, '_i35': \"from functools import singledispatch\\nimport html\\n@singledispatch\\ndef htmlize(obj: object) -> str:\\n    content = html.escape(repr(obj))\\n    return f'<pre>{content}</pre>'\\n@htmlize.register\\ndef _(text: str) -> str:\\n    content = 'asdfa'\\n    return 'afsa    '\", 'singledispatch': <function singledispatch at 0x000002B62C91C790>, 'html': <module 'html' from 'c:\\\\Users\\\\sanshi\\\\anaconda3\\\\lib\\\\html\\\\__init__.py'>, 'htmlize': <function htmlize at 0x000002B6326BB790>, '_i36': \"registry = []\\n\\ndef register(func):\\n    print(f'running register({func})')\\n    registry.append(func)\\n    return func\\n\\n@register\\ndef f1():\\n    print('runing f1()')\\n\\nprint('running main()')\\nprint('registry ->', registry)\\nf1()\", 'registry': {<function f3 at 0x000002B632569D30>, <function f2 at 0x000002B6326BBAF0>}, 'register': <function register at 0x000002B6326BB550>, '_i37': \"registry = set()\\n\\ndef register(active=True):\\n    def decorate(func):\\n        print(f'running register'\\n              f'(active={active})->decorate({func})')\\n        if active:\\n            registry.add(func)\\n        else:\\n            registry.discard(func)\\n        return func\\n    return decorate\\n\\n@register(active=True)\\ndef f1():\\n    print('runing f1()')\\n\\n@register()\\ndef f2():\\n    print('runing f2()')\\n\\ndef f3():\\n    print('runing f3()')\\n\\n# print('running main()')\\n# print('registry ->', registry)\\n# f1()\", 'f3': <function f3 at 0x000002B632569D30>, '_i38': 'registry', '_38': {<function f1 at 0x000002B632569CA0>, <function f2 at 0x000002B632676F70>}, '_i39': \"registry = set()\\n\\ndef register(active=True):\\n    def decorate(func):\\n        print(f'running register'\\n              f'(active={active})->decorate({func})')\\n        if active:\\n            registry.add(func)\\n        else:\\n            registry.discard(func)\\n        return func\\n    return decorate\\n\\n@register(active=False)\\ndef f1():\\n    print('runing f1()')\\n\\n@register()\\ndef f2():\\n    print('runing f2()')\\n\\ndef f3():\\n    print('runing f3()')\\n\\n# print('running main()')\\n# print('registry ->', registry)\\n# f1()\", '_i40': 'registry', '_40': {<function f3 at 0x000002B632569D30>, <function f2 at 0x000002B6326BBAF0>}, '_i41': 'register()(f3)', '_41': <function f3 at 0x000002B632569D30>, '_i42': 'registry', '_42': {<function f3 at 0x000002B632569D30>, <function f2 at 0x000002B6326BBAF0>}, '_i43': 'locals()', '_43': {...}, '_i44': \"repr('as')\", '_44': \"'as'\", '_i45': 'globals()', '_45': {...}, '_i46': 'globals().items()'}}), ('_dh', [WindowsPath('c:/study/Python')]), ('In', ['', 'def f1(a):\\n    print(a)\\n    print(b)\\n\\ndef f2(a):\\n    print(a)\\n    print(b)\\n    b = 9', 'from dis import dis\\ndis(f1)', 'dis(f2)', 'def make_averager():\\n    series = []\\n    def averager(value):\\n        series.append(value)\\n        return sum(series) / len(series)\\n    return averager', 'avg = make_averager()\\navg(10), avg(11), avg(12)', 'avg.__code__', 'avg.__code__.co_varnames', 'avg.__code__.co_freevars', 'avg.__closure__', 'avg.__closure__[0].cell_contents', 'def make_averager():\\n    count = 0\\n    total = 0\\n\\n    def averager(new_value):\\n        nonlocal count\\n        nonlocal total\\n        count += 1\\n        total += 1\\n        return total / count\\n    \\n    return averager', 'dis(make_averager)', 'avg = make_averager()\\navg(10), avg(11), avg(15)', 'def make_averager():\\n    count = 0\\n    total = 0\\n\\n    def averager(new_value):\\n        nonlocal count\\n        nonlocal total\\n        count += 1\\n        total += new_value\\n        return total / count\\n\\n    return averager', 'dis(make_averager)', 'avg = make_averager()\\navg(10), avg(11), avg(15)', 'avg.__closure__', 'avg.__code__.co_freevars', \"import time\\n\\ndef clock(func):\\n    def clocked(*args):\\n        t0 = time.perf_counter()\\n        result = func(*args)\\n        elapsed = time.perf_counter() - t0\\n        print(f'{elapsed:0.8f}s')\\n        return result\\n    return clocked\", '@clock\\ndef snooze(seconds):\\n    time.sleep(seconds)', 'snooze(.123)', 'snooze.__name__', \"import time\\nimport functools\\n\\ndef clock(func):\\n    @functools.wraps(func)\\n    def clocked(*args, **kwargs):\\n        t0 = time.perf_counter()\\n        result = func(*args)\\n        elapsed = time.perf_counter() - t0\\n        print(f'{elapsed:0.8f}s')\\n        return result\\n    return clocked\", '@clock\\ndef snooze(seconds):\\n    time.sleep(seconds)', 'snooze(.123)', 'snooze.__name__', '@clock\\ndef snooze(seconds):\\n    \"\"\"asfasdf\"\"\"\\n    time.sleep(seconds)', 'snooze(.123)', 'snooze.__name__', 'snooze.__doc__', '@clock\\ndef fibonacci(n):\\n    if n < 2:\\n        return n\\n    return fibonacci(n - 2) + fibonacci(n - 1)', 'fibonacci(6)', '@functools.cache\\n@clock\\ndef fibonacci(n):\\n    if n < 2:\\n        return n\\n    return fibonacci(n - 2) + fibonacci(n - 1)', 'fibonacci(6)', \"from functools import singledispatch\\nimport html\\n@singledispatch\\ndef htmlize(obj: object) -> str:\\n    content = html.escape(repr(obj))\\n    return f'<pre>{content}</pre>'\\n@htmlize.register\\ndef _(text: str) -> str:\\n    content = 'asdfa'\\n    return 'afsa    '\", \"registry = []\\n\\ndef register(func):\\n    print(f'running register({func})')\\n    registry.append(func)\\n    return func\\n\\n@register\\ndef f1():\\n    print('runing f1()')\\n\\nprint('running main()')\\nprint('registry ->', registry)\\nf1()\", \"registry = set()\\n\\ndef register(active=True):\\n    def decorate(func):\\n        print(f'running register'\\n              f'(active={active})->decorate({func})')\\n        if active:\\n            registry.add(func)\\n        else:\\n            registry.discard(func)\\n        return func\\n    return decorate\\n\\n@register(active=True)\\ndef f1():\\n    print('runing f1()')\\n\\n@register()\\ndef f2():\\n    print('runing f2()')\\n\\ndef f3():\\n    print('runing f3()')\\n\\n# print('running main()')\\n# print('registry ->', registry)\\n# f1()\", 'registry', \"registry = set()\\n\\ndef register(active=True):\\n    def decorate(func):\\n        print(f'running register'\\n              f'(active={active})->decorate({func})')\\n        if active:\\n            registry.add(func)\\n        else:\\n            registry.discard(func)\\n        return func\\n    return decorate\\n\\n@register(active=False)\\ndef f1():\\n    print('runing f1()')\\n\\n@register()\\ndef f2():\\n    print('runing f2()')\\n\\ndef f3():\\n    print('runing f3()')\\n\\n# print('running main()')\\n# print('registry ->', registry)\\n# f1()\", 'registry', 'register()(f3)', 'registry', 'locals()', \"repr('as')\", 'globals()', 'globals().items()']), ('Out', {5: (10.0, 10.5, 11.0), 6: <code object averager at 0x000002B6326A1450, file \"C:\\Users\\sanshi\\AppData\\Local\\Temp\\ipykernel_20140\\994023343.py\", line 3>, 7: ('value',), 8: ('series',), 9: (<cell at 0x000002B632689D30: list object at 0x000002B6325B0400>,), 10: [10, 11, 12], 13: (1.0, 1.0, 1.0), 16: (10.0, 10.5, 12.0), 17: (<cell at 0x000002B6326899A0: int object at 0x000002B62BF36970>, <cell at 0x000002B632689C10: int object at 0x000002B62BF36D90>), 18: ('count', 'total'), 22: 'clocked', 26: 'snooze', 29: 'snooze', 30: 'asfasdf', 32: 8, 34: 8, 38: {<function f1 at 0x000002B632569CA0>, <function f2 at 0x000002B632676F70>}, 40: {<function f3 at 0x000002B632569D30>, <function f2 at 0x000002B6326BBAF0>}, 41: <function f3 at 0x000002B632569D30>, 42: {<function f3 at 0x000002B632569D30>, <function f2 at 0x000002B6326BBAF0>}, 43: {'__name__': '__main__', '__doc__': 'Automatically created module for IPython interactive environment', '__package__': None, '__loader__': None, '__spec__': None, '__builtin__': <module 'builtins' (built-in)>, '__builtins__': <module 'builtins' (built-in)>, '_ih': ['', 'def f1(a):\\n    print(a)\\n    print(b)\\n\\ndef f2(a):\\n    print(a)\\n    print(b)\\n    b = 9', 'from dis import dis\\ndis(f1)', 'dis(f2)', 'def make_averager():\\n    series = []\\n    def averager(value):\\n        series.append(value)\\n        return sum(series) / len(series)\\n    return averager', 'avg = make_averager()\\navg(10), avg(11), avg(12)', 'avg.__code__', 'avg.__code__.co_varnames', 'avg.__code__.co_freevars', 'avg.__closure__', 'avg.__closure__[0].cell_contents', 'def make_averager():\\n    count = 0\\n    total = 0\\n\\n    def averager(new_value):\\n        nonlocal count\\n        nonlocal total\\n        count += 1\\n        total += 1\\n        return total / count\\n    \\n    return averager', 'dis(make_averager)', 'avg = make_averager()\\navg(10), avg(11), avg(15)', 'def make_averager():\\n    count = 0\\n    total = 0\\n\\n    def averager(new_value):\\n        nonlocal count\\n        nonlocal total\\n        count += 1\\n        total += new_value\\n        return total / count\\n\\n    return averager', 'dis(make_averager)', 'avg = make_averager()\\navg(10), avg(11), avg(15)', 'avg.__closure__', 'avg.__code__.co_freevars', \"import time\\n\\ndef clock(func):\\n    def clocked(*args):\\n        t0 = time.perf_counter()\\n        result = func(*args)\\n        elapsed = time.perf_counter() - t0\\n        print(f'{elapsed:0.8f}s')\\n        return result\\n    return clocked\", '@clock\\ndef snooze(seconds):\\n    time.sleep(seconds)', 'snooze(.123)', 'snooze.__name__', \"import time\\nimport functools\\n\\ndef clock(func):\\n    @functools.wraps(func)\\n    def clocked(*args, **kwargs):\\n        t0 = time.perf_counter()\\n        result = func(*args)\\n        elapsed = time.perf_counter() - t0\\n        print(f'{elapsed:0.8f}s')\\n        return result\\n    return clocked\", '@clock\\ndef snooze(seconds):\\n    time.sleep(seconds)', 'snooze(.123)', 'snooze.__name__', '@clock\\ndef snooze(seconds):\\n    \"\"\"asfasdf\"\"\"\\n    time.sleep(seconds)', 'snooze(.123)', 'snooze.__name__', 'snooze.__doc__', '@clock\\ndef fibonacci(n):\\n    if n < 2:\\n        return n\\n    return fibonacci(n - 2) + fibonacci(n - 1)', 'fibonacci(6)', '@functools.cache\\n@clock\\ndef fibonacci(n):\\n    if n < 2:\\n        return n\\n    return fibonacci(n - 2) + fibonacci(n - 1)', 'fibonacci(6)', \"from functools import singledispatch\\nimport html\\n@singledispatch\\ndef htmlize(obj: object) -> str:\\n    content = html.escape(repr(obj))\\n    return f'<pre>{content}</pre>'\\n@htmlize.register\\ndef _(text: str) -> str:\\n    content = 'asdfa'\\n    return 'afsa    '\", \"registry = []\\n\\ndef register(func):\\n    print(f'running register({func})')\\n    registry.append(func)\\n    return func\\n\\n@register\\ndef f1():\\n    print('runing f1()')\\n\\nprint('running main()')\\nprint('registry ->', registry)\\nf1()\", \"registry = set()\\n\\ndef register(active=True):\\n    def decorate(func):\\n        print(f'running register'\\n              f'(active={active})->decorate({func})')\\n        if active:\\n            registry.add(func)\\n        else:\\n            registry.discard(func)\\n        return func\\n    return decorate\\n\\n@register(active=True)\\ndef f1():\\n    print('runing f1()')\\n\\n@register()\\ndef f2():\\n    print('runing f2()')\\n\\ndef f3():\\n    print('runing f3()')\\n\\n# print('running main()')\\n# print('registry ->', registry)\\n# f1()\", 'registry', \"registry = set()\\n\\ndef register(active=True):\\n    def decorate(func):\\n        print(f'running register'\\n              f'(active={active})->decorate({func})')\\n        if active:\\n            registry.add(func)\\n        else:\\n            registry.discard(func)\\n        return func\\n    return decorate\\n\\n@register(active=False)\\ndef f1():\\n    print('runing f1()')\\n\\n@register()\\ndef f2():\\n    print('runing f2()')\\n\\ndef f3():\\n    print('runing f3()')\\n\\n# print('running main()')\\n# print('registry ->', registry)\\n# f1()\", 'registry', 'register()(f3)', 'registry', 'locals()', \"repr('as')\", 'globals()', 'globals().items()'], '_oh': {...}, '_dh': [WindowsPath('c:/study/Python')], 'In': ['', 'def f1(a):\\n    print(a)\\n    print(b)\\n\\ndef f2(a):\\n    print(a)\\n    print(b)\\n    b = 9', 'from dis import dis\\ndis(f1)', 'dis(f2)', 'def make_averager():\\n    series = []\\n    def averager(value):\\n        series.append(value)\\n        return sum(series) / len(series)\\n    return averager', 'avg = make_averager()\\navg(10), avg(11), avg(12)', 'avg.__code__', 'avg.__code__.co_varnames', 'avg.__code__.co_freevars', 'avg.__closure__', 'avg.__closure__[0].cell_contents', 'def make_averager():\\n    count = 0\\n    total = 0\\n\\n    def averager(new_value):\\n        nonlocal count\\n        nonlocal total\\n        count += 1\\n        total += 1\\n        return total / count\\n    \\n    return averager', 'dis(make_averager)', 'avg = make_averager()\\navg(10), avg(11), avg(15)', 'def make_averager():\\n    count = 0\\n    total = 0\\n\\n    def averager(new_value):\\n        nonlocal count\\n        nonlocal total\\n        count += 1\\n        total += new_value\\n        return total / count\\n\\n    return averager', 'dis(make_averager)', 'avg = make_averager()\\navg(10), avg(11), avg(15)', 'avg.__closure__', 'avg.__code__.co_freevars', \"import time\\n\\ndef clock(func):\\n    def clocked(*args):\\n        t0 = time.perf_counter()\\n        result = func(*args)\\n        elapsed = time.perf_counter() - t0\\n        print(f'{elapsed:0.8f}s')\\n        return result\\n    return clocked\", '@clock\\ndef snooze(seconds):\\n    time.sleep(seconds)', 'snooze(.123)', 'snooze.__name__', \"import time\\nimport functools\\n\\ndef clock(func):\\n    @functools.wraps(func)\\n    def clocked(*args, **kwargs):\\n        t0 = time.perf_counter()\\n        result = func(*args)\\n        elapsed = time.perf_counter() - t0\\n        print(f'{elapsed:0.8f}s')\\n        return result\\n    return clocked\", '@clock\\ndef snooze(seconds):\\n    time.sleep(seconds)', 'snooze(.123)', 'snooze.__name__', '@clock\\ndef snooze(seconds):\\n    \"\"\"asfasdf\"\"\"\\n    time.sleep(seconds)', 'snooze(.123)', 'snooze.__name__', 'snooze.__doc__', '@clock\\ndef fibonacci(n):\\n    if n < 2:\\n        return n\\n    return fibonacci(n - 2) + fibonacci(n - 1)', 'fibonacci(6)', '@functools.cache\\n@clock\\ndef fibonacci(n):\\n    if n < 2:\\n        return n\\n    return fibonacci(n - 2) + fibonacci(n - 1)', 'fibonacci(6)', \"from functools import singledispatch\\nimport html\\n@singledispatch\\ndef htmlize(obj: object) -> str:\\n    content = html.escape(repr(obj))\\n    return f'<pre>{content}</pre>'\\n@htmlize.register\\ndef _(text: str) -> str:\\n    content = 'asdfa'\\n    return 'afsa    '\", \"registry = []\\n\\ndef register(func):\\n    print(f'running register({func})')\\n    registry.append(func)\\n    return func\\n\\n@register\\ndef f1():\\n    print('runing f1()')\\n\\nprint('running main()')\\nprint('registry ->', registry)\\nf1()\", \"registry = set()\\n\\ndef register(active=True):\\n    def decorate(func):\\n        print(f'running register'\\n              f'(active={active})->decorate({func})')\\n        if active:\\n            registry.add(func)\\n        else:\\n            registry.discard(func)\\n        return func\\n    return decorate\\n\\n@register(active=True)\\ndef f1():\\n    print('runing f1()')\\n\\n@register()\\ndef f2():\\n    print('runing f2()')\\n\\ndef f3():\\n    print('runing f3()')\\n\\n# print('running main()')\\n# print('registry ->', registry)\\n# f1()\", 'registry', \"registry = set()\\n\\ndef register(active=True):\\n    def decorate(func):\\n        print(f'running register'\\n              f'(active={active})->decorate({func})')\\n        if active:\\n            registry.add(func)\\n        else:\\n            registry.discard(func)\\n        return func\\n    return decorate\\n\\n@register(active=False)\\ndef f1():\\n    print('runing f1()')\\n\\n@register()\\ndef f2():\\n    print('runing f2()')\\n\\ndef f3():\\n    print('runing f3()')\\n\\n# print('running main()')\\n# print('registry ->', registry)\\n# f1()\", 'registry', 'register()(f3)', 'registry', 'locals()', \"repr('as')\", 'globals()', 'globals().items()'], 'Out': {...}, 'get_ipython': <bound method InteractiveShell.get_ipython of <ipykernel.zmqshell.ZMQInteractiveShell object at 0x000002B6325218E0>>, 'exit': <IPython.core.autocall.ZMQExitAutocall object at 0x000002B6325383D0>, 'quit': <IPython.core.autocall.ZMQExitAutocall object at 0x000002B6325383D0>, '_': <function _ at 0x000002B6326BB0D0>, '__': 8, '___': 'asfasdf', '__vsc_ipynb_file__': 'c:\\\\study\\\\Python\\\\Python学习.ipynb', '_i': 'globals()', '_ii': \"repr('as')\", '_iii': 'locals()', '_i1': 'def f1(a):\\n    print(a)\\n    print(b)\\n\\ndef f2(a):\\n    print(a)\\n    print(b)\\n    b = 9', 'f1': <function f1 at 0x000002B6326BB430>, 'f2': <function f2 at 0x000002B6326BBAF0>, '_i2': 'from dis import dis\\ndis(f1)', 'dis': <function dis at 0x000002B62CE97C10>, '_i3': 'dis(f2)', '_i4': 'def make_averager():\\n    series = []\\n    def averager(value):\\n        series.append(value)\\n        return sum(series) / len(series)\\n    return averager', 'make_averager': <function make_averager at 0x000002B632654A60>, '_i5': 'avg = make_averager()\\navg(10), avg(11), avg(12)', 'avg': <function make_averager.<locals>.averager at 0x000002B6326BBB80>, '_5': (10.0, 10.5, 11.0), '_i6': 'avg.__code__', '_6': <code object averager at 0x000002B6326A1450, file \"C:\\Users\\sanshi\\AppData\\Local\\Temp\\ipykernel_20140\\994023343.py\", line 3>, '_i7': 'avg.__code__.co_varnames', '_7': ('value',), '_i8': 'avg.__code__.co_freevars', '_8': ('series',), '_i9': 'avg.__closure__', '_9': (<cell at 0x000002B632689D30: list object at 0x000002B6325B0400>,), '_i10': 'avg.__closure__[0].cell_contents', '_10': [10, 11, 12], '_i11': 'def make_averager():\\n    count = 0\\n    total = 0\\n\\n    def averager(new_value):\\n        nonlocal count\\n        nonlocal total\\n        count += 1\\n        total += 1\\n        return total / count\\n    \\n    return averager', '_i12': 'dis(make_averager)', '_i13': 'avg = make_averager()\\navg(10), avg(11), avg(15)', '_13': (1.0, 1.0, 1.0), '_i14': 'def make_averager():\\n    count = 0\\n    total = 0\\n\\n    def averager(new_value):\\n        nonlocal count\\n        nonlocal total\\n        count += 1\\n        total += new_value\\n        return total / count\\n\\n    return averager', '_i15': 'dis(make_averager)', '_i16': 'avg = make_averager()\\navg(10), avg(11), avg(15)', '_16': (10.0, 10.5, 12.0), '_i17': 'avg.__closure__', '_17': (<cell at 0x000002B6326899A0: int object at 0x000002B62BF36970>, <cell at 0x000002B632689C10: int object at 0x000002B62BF36D90>), '_i18': 'avg.__code__.co_freevars', '_18': ('count', 'total'), '_i19': \"import time\\n\\ndef clock(func):\\n    def clocked(*args):\\n        t0 = time.perf_counter()\\n        result = func(*args)\\n        elapsed = time.perf_counter() - t0\\n        print(f'{elapsed:0.8f}s')\\n        return result\\n    return clocked\", 'time': <module 'time' (built-in)>, 'clock': <function clock at 0x000002B6326BB1F0>, '_i20': '@clock\\ndef snooze(seconds):\\n    time.sleep(seconds)', 'snooze': <function snooze at 0x000002B6326BBC10>, '_i21': 'snooze(.123)', '_i22': 'snooze.__name__', '_22': 'clocked', '_i23': \"import time\\nimport functools\\n\\ndef clock(func):\\n    @functools.wraps(func)\\n    def clocked(*args, **kwargs):\\n        t0 = time.perf_counter()\\n        result = func(*args)\\n        elapsed = time.perf_counter() - t0\\n        print(f'{elapsed:0.8f}s')\\n        return result\\n    return clocked\", 'functools': <module 'functools' from 'c:\\\\Users\\\\sanshi\\\\anaconda3\\\\lib\\\\functools.py'>, '_i24': '@clock\\ndef snooze(seconds):\\n    time.sleep(seconds)', '_i25': 'snooze(.123)', '_i26': 'snooze.__name__', '_26': 'snooze', '_i27': '@clock\\ndef snooze(seconds):\\n    \"\"\"asfasdf\"\"\"\\n    time.sleep(seconds)', '_i28': 'snooze(.123)', '_i29': 'snooze.__name__', '_29': 'snooze', '_i30': 'snooze.__doc__', '_30': 'asfasdf', '_i31': '@clock\\ndef fibonacci(n):\\n    if n < 2:\\n        return n\\n    return fibonacci(n - 2) + fibonacci(n - 1)', 'fibonacci': <functools._lru_cache_wrapper object at 0x000002B632650AE0>, '_i32': 'fibonacci(6)', '_32': 8, '_i33': '@functools.cache\\n@clock\\ndef fibonacci(n):\\n    if n < 2:\\n        return n\\n    return fibonacci(n - 2) + fibonacci(n - 1)', '_i34': 'fibonacci(6)', '_34': 8, '_i35': \"from functools import singledispatch\\nimport html\\n@singledispatch\\ndef htmlize(obj: object) -> str:\\n    content = html.escape(repr(obj))\\n    return f'<pre>{content}</pre>'\\n@htmlize.register\\ndef _(text: str) -> str:\\n    content = 'asdfa'\\n    return 'afsa    '\", 'singledispatch': <function singledispatch at 0x000002B62C91C790>, 'html': <module 'html' from 'c:\\\\Users\\\\sanshi\\\\anaconda3\\\\lib\\\\html\\\\__init__.py'>, 'htmlize': <function htmlize at 0x000002B6326BB790>, '_i36': \"registry = []\\n\\ndef register(func):\\n    print(f'running register({func})')\\n    registry.append(func)\\n    return func\\n\\n@register\\ndef f1():\\n    print('runing f1()')\\n\\nprint('running main()')\\nprint('registry ->', registry)\\nf1()\", 'registry': {<function f3 at 0x000002B632569D30>, <function f2 at 0x000002B6326BBAF0>}, 'register': <function register at 0x000002B6326BB550>, '_i37': \"registry = set()\\n\\ndef register(active=True):\\n    def decorate(func):\\n        print(f'running register'\\n              f'(active={active})->decorate({func})')\\n        if active:\\n            registry.add(func)\\n        else:\\n            registry.discard(func)\\n        return func\\n    return decorate\\n\\n@register(active=True)\\ndef f1():\\n    print('runing f1()')\\n\\n@register()\\ndef f2():\\n    print('runing f2()')\\n\\ndef f3():\\n    print('runing f3()')\\n\\n# print('running main()')\\n# print('registry ->', registry)\\n# f1()\", 'f3': <function f3 at 0x000002B632569D30>, '_i38': 'registry', '_38': {<function f1 at 0x000002B632569CA0>, <function f2 at 0x000002B632676F70>}, '_i39': \"registry = set()\\n\\ndef register(active=True):\\n    def decorate(func):\\n        print(f'running register'\\n              f'(active={active})->decorate({func})')\\n        if active:\\n            registry.add(func)\\n        else:\\n            registry.discard(func)\\n        return func\\n    return decorate\\n\\n@register(active=False)\\ndef f1():\\n    print('runing f1()')\\n\\n@register()\\ndef f2():\\n    print('runing f2()')\\n\\ndef f3():\\n    print('runing f3()')\\n\\n# print('running main()')\\n# print('registry ->', registry)\\n# f1()\", '_i40': 'registry', '_40': {<function f3 at 0x000002B632569D30>, <function f2 at 0x000002B6326BBAF0>}, '_i41': 'register()(f3)', '_41': <function f3 at 0x000002B632569D30>, '_i42': 'registry', '_42': {<function f3 at 0x000002B632569D30>, <function f2 at 0x000002B6326BBAF0>}, '_i43': 'locals()', '_43': {...}, '_i44': \"repr('as')\", '_44': \"'as'\", '_i45': 'globals()', '_45': {...}, '_i46': 'globals().items()'}, 44: \"'as'\", 45: {'__name__': '__main__', '__doc__': 'Automatically created module for IPython interactive environment', '__package__': None, '__loader__': None, '__spec__': None, '__builtin__': <module 'builtins' (built-in)>, '__builtins__': <module 'builtins' (built-in)>, '_ih': ['', 'def f1(a):\\n    print(a)\\n    print(b)\\n\\ndef f2(a):\\n    print(a)\\n    print(b)\\n    b = 9', 'from dis import dis\\ndis(f1)', 'dis(f2)', 'def make_averager():\\n    series = []\\n    def averager(value):\\n        series.append(value)\\n        return sum(series) / len(series)\\n    return averager', 'avg = make_averager()\\navg(10), avg(11), avg(12)', 'avg.__code__', 'avg.__code__.co_varnames', 'avg.__code__.co_freevars', 'avg.__closure__', 'avg.__closure__[0].cell_contents', 'def make_averager():\\n    count = 0\\n    total = 0\\n\\n    def averager(new_value):\\n        nonlocal count\\n        nonlocal total\\n        count += 1\\n        total += 1\\n        return total / count\\n    \\n    return averager', 'dis(make_averager)', 'avg = make_averager()\\navg(10), avg(11), avg(15)', 'def make_averager():\\n    count = 0\\n    total = 0\\n\\n    def averager(new_value):\\n        nonlocal count\\n        nonlocal total\\n        count += 1\\n        total += new_value\\n        return total / count\\n\\n    return averager', 'dis(make_averager)', 'avg = make_averager()\\navg(10), avg(11), avg(15)', 'avg.__closure__', 'avg.__code__.co_freevars', \"import time\\n\\ndef clock(func):\\n    def clocked(*args):\\n        t0 = time.perf_counter()\\n        result = func(*args)\\n        elapsed = time.perf_counter() - t0\\n        print(f'{elapsed:0.8f}s')\\n        return result\\n    return clocked\", '@clock\\ndef snooze(seconds):\\n    time.sleep(seconds)', 'snooze(.123)', 'snooze.__name__', \"import time\\nimport functools\\n\\ndef clock(func):\\n    @functools.wraps(func)\\n    def clocked(*args, **kwargs):\\n        t0 = time.perf_counter()\\n        result = func(*args)\\n        elapsed = time.perf_counter() - t0\\n        print(f'{elapsed:0.8f}s')\\n        return result\\n    return clocked\", '@clock\\ndef snooze(seconds):\\n    time.sleep(seconds)', 'snooze(.123)', 'snooze.__name__', '@clock\\ndef snooze(seconds):\\n    \"\"\"asfasdf\"\"\"\\n    time.sleep(seconds)', 'snooze(.123)', 'snooze.__name__', 'snooze.__doc__', '@clock\\ndef fibonacci(n):\\n    if n < 2:\\n        return n\\n    return fibonacci(n - 2) + fibonacci(n - 1)', 'fibonacci(6)', '@functools.cache\\n@clock\\ndef fibonacci(n):\\n    if n < 2:\\n        return n\\n    return fibonacci(n - 2) + fibonacci(n - 1)', 'fibonacci(6)', \"from functools import singledispatch\\nimport html\\n@singledispatch\\ndef htmlize(obj: object) -> str:\\n    content = html.escape(repr(obj))\\n    return f'<pre>{content}</pre>'\\n@htmlize.register\\ndef _(text: str) -> str:\\n    content = 'asdfa'\\n    return 'afsa    '\", \"registry = []\\n\\ndef register(func):\\n    print(f'running register({func})')\\n    registry.append(func)\\n    return func\\n\\n@register\\ndef f1():\\n    print('runing f1()')\\n\\nprint('running main()')\\nprint('registry ->', registry)\\nf1()\", \"registry = set()\\n\\ndef register(active=True):\\n    def decorate(func):\\n        print(f'running register'\\n              f'(active={active})->decorate({func})')\\n        if active:\\n            registry.add(func)\\n        else:\\n            registry.discard(func)\\n        return func\\n    return decorate\\n\\n@register(active=True)\\ndef f1():\\n    print('runing f1()')\\n\\n@register()\\ndef f2():\\n    print('runing f2()')\\n\\ndef f3():\\n    print('runing f3()')\\n\\n# print('running main()')\\n# print('registry ->', registry)\\n# f1()\", 'registry', \"registry = set()\\n\\ndef register(active=True):\\n    def decorate(func):\\n        print(f'running register'\\n              f'(active={active})->decorate({func})')\\n        if active:\\n            registry.add(func)\\n        else:\\n            registry.discard(func)\\n        return func\\n    return decorate\\n\\n@register(active=False)\\ndef f1():\\n    print('runing f1()')\\n\\n@register()\\ndef f2():\\n    print('runing f2()')\\n\\ndef f3():\\n    print('runing f3()')\\n\\n# print('running main()')\\n# print('registry ->', registry)\\n# f1()\", 'registry', 'register()(f3)', 'registry', 'locals()', \"repr('as')\", 'globals()', 'globals().items()'], '_oh': {...}, '_dh': [WindowsPath('c:/study/Python')], 'In': ['', 'def f1(a):\\n    print(a)\\n    print(b)\\n\\ndef f2(a):\\n    print(a)\\n    print(b)\\n    b = 9', 'from dis import dis\\ndis(f1)', 'dis(f2)', 'def make_averager():\\n    series = []\\n    def averager(value):\\n        series.append(value)\\n        return sum(series) / len(series)\\n    return averager', 'avg = make_averager()\\navg(10), avg(11), avg(12)', 'avg.__code__', 'avg.__code__.co_varnames', 'avg.__code__.co_freevars', 'avg.__closure__', 'avg.__closure__[0].cell_contents', 'def make_averager():\\n    count = 0\\n    total = 0\\n\\n    def averager(new_value):\\n        nonlocal count\\n        nonlocal total\\n        count += 1\\n        total += 1\\n        return total / count\\n    \\n    return averager', 'dis(make_averager)', 'avg = make_averager()\\navg(10), avg(11), avg(15)', 'def make_averager():\\n    count = 0\\n    total = 0\\n\\n    def averager(new_value):\\n        nonlocal count\\n        nonlocal total\\n        count += 1\\n        total += new_value\\n        return total / count\\n\\n    return averager', 'dis(make_averager)', 'avg = make_averager()\\navg(10), avg(11), avg(15)', 'avg.__closure__', 'avg.__code__.co_freevars', \"import time\\n\\ndef clock(func):\\n    def clocked(*args):\\n        t0 = time.perf_counter()\\n        result = func(*args)\\n        elapsed = time.perf_counter() - t0\\n        print(f'{elapsed:0.8f}s')\\n        return result\\n    return clocked\", '@clock\\ndef snooze(seconds):\\n    time.sleep(seconds)', 'snooze(.123)', 'snooze.__name__', \"import time\\nimport functools\\n\\ndef clock(func):\\n    @functools.wraps(func)\\n    def clocked(*args, **kwargs):\\n        t0 = time.perf_counter()\\n        result = func(*args)\\n        elapsed = time.perf_counter() - t0\\n        print(f'{elapsed:0.8f}s')\\n        return result\\n    return clocked\", '@clock\\ndef snooze(seconds):\\n    time.sleep(seconds)', 'snooze(.123)', 'snooze.__name__', '@clock\\ndef snooze(seconds):\\n    \"\"\"asfasdf\"\"\"\\n    time.sleep(seconds)', 'snooze(.123)', 'snooze.__name__', 'snooze.__doc__', '@clock\\ndef fibonacci(n):\\n    if n < 2:\\n        return n\\n    return fibonacci(n - 2) + fibonacci(n - 1)', 'fibonacci(6)', '@functools.cache\\n@clock\\ndef fibonacci(n):\\n    if n < 2:\\n        return n\\n    return fibonacci(n - 2) + fibonacci(n - 1)', 'fibonacci(6)', \"from functools import singledispatch\\nimport html\\n@singledispatch\\ndef htmlize(obj: object) -> str:\\n    content = html.escape(repr(obj))\\n    return f'<pre>{content}</pre>'\\n@htmlize.register\\ndef _(text: str) -> str:\\n    content = 'asdfa'\\n    return 'afsa    '\", \"registry = []\\n\\ndef register(func):\\n    print(f'running register({func})')\\n    registry.append(func)\\n    return func\\n\\n@register\\ndef f1():\\n    print('runing f1()')\\n\\nprint('running main()')\\nprint('registry ->', registry)\\nf1()\", \"registry = set()\\n\\ndef register(active=True):\\n    def decorate(func):\\n        print(f'running register'\\n              f'(active={active})->decorate({func})')\\n        if active:\\n            registry.add(func)\\n        else:\\n            registry.discard(func)\\n        return func\\n    return decorate\\n\\n@register(active=True)\\ndef f1():\\n    print('runing f1()')\\n\\n@register()\\ndef f2():\\n    print('runing f2()')\\n\\ndef f3():\\n    print('runing f3()')\\n\\n# print('running main()')\\n# print('registry ->', registry)\\n# f1()\", 'registry', \"registry = set()\\n\\ndef register(active=True):\\n    def decorate(func):\\n        print(f'running register'\\n              f'(active={active})->decorate({func})')\\n        if active:\\n            registry.add(func)\\n        else:\\n            registry.discard(func)\\n        return func\\n    return decorate\\n\\n@register(active=False)\\ndef f1():\\n    print('runing f1()')\\n\\n@register()\\ndef f2():\\n    print('runing f2()')\\n\\ndef f3():\\n    print('runing f3()')\\n\\n# print('running main()')\\n# print('registry ->', registry)\\n# f1()\", 'registry', 'register()(f3)', 'registry', 'locals()', \"repr('as')\", 'globals()', 'globals().items()'], 'Out': {...}, 'get_ipython': <bound method InteractiveShell.get_ipython of <ipykernel.zmqshell.ZMQInteractiveShell object at 0x000002B6325218E0>>, 'exit': <IPython.core.autocall.ZMQExitAutocall object at 0x000002B6325383D0>, 'quit': <IPython.core.autocall.ZMQExitAutocall object at 0x000002B6325383D0>, '_': <function _ at 0x000002B6326BB0D0>, '__': 8, '___': 'asfasdf', '__vsc_ipynb_file__': 'c:\\\\study\\\\Python\\\\Python学习.ipynb', '_i': 'globals()', '_ii': \"repr('as')\", '_iii': 'locals()', '_i1': 'def f1(a):\\n    print(a)\\n    print(b)\\n\\ndef f2(a):\\n    print(a)\\n    print(b)\\n    b = 9', 'f1': <function f1 at 0x000002B6326BB430>, 'f2': <function f2 at 0x000002B6326BBAF0>, '_i2': 'from dis import dis\\ndis(f1)', 'dis': <function dis at 0x000002B62CE97C10>, '_i3': 'dis(f2)', '_i4': 'def make_averager():\\n    series = []\\n    def averager(value):\\n        series.append(value)\\n        return sum(series) / len(series)\\n    return averager', 'make_averager': <function make_averager at 0x000002B632654A60>, '_i5': 'avg = make_averager()\\navg(10), avg(11), avg(12)', 'avg': <function make_averager.<locals>.averager at 0x000002B6326BBB80>, '_5': (10.0, 10.5, 11.0), '_i6': 'avg.__code__', '_6': <code object averager at 0x000002B6326A1450, file \"C:\\Users\\sanshi\\AppData\\Local\\Temp\\ipykernel_20140\\994023343.py\", line 3>, '_i7': 'avg.__code__.co_varnames', '_7': ('value',), '_i8': 'avg.__code__.co_freevars', '_8': ('series',), '_i9': 'avg.__closure__', '_9': (<cell at 0x000002B632689D30: list object at 0x000002B6325B0400>,), '_i10': 'avg.__closure__[0].cell_contents', '_10': [10, 11, 12], '_i11': 'def make_averager():\\n    count = 0\\n    total = 0\\n\\n    def averager(new_value):\\n        nonlocal count\\n        nonlocal total\\n        count += 1\\n        total += 1\\n        return total / count\\n    \\n    return averager', '_i12': 'dis(make_averager)', '_i13': 'avg = make_averager()\\navg(10), avg(11), avg(15)', '_13': (1.0, 1.0, 1.0), '_i14': 'def make_averager():\\n    count = 0\\n    total = 0\\n\\n    def averager(new_value):\\n        nonlocal count\\n        nonlocal total\\n        count += 1\\n        total += new_value\\n        return total / count\\n\\n    return averager', '_i15': 'dis(make_averager)', '_i16': 'avg = make_averager()\\navg(10), avg(11), avg(15)', '_16': (10.0, 10.5, 12.0), '_i17': 'avg.__closure__', '_17': (<cell at 0x000002B6326899A0: int object at 0x000002B62BF36970>, <cell at 0x000002B632689C10: int object at 0x000002B62BF36D90>), '_i18': 'avg.__code__.co_freevars', '_18': ('count', 'total'), '_i19': \"import time\\n\\ndef clock(func):\\n    def clocked(*args):\\n        t0 = time.perf_counter()\\n        result = func(*args)\\n        elapsed = time.perf_counter() - t0\\n        print(f'{elapsed:0.8f}s')\\n        return result\\n    return clocked\", 'time': <module 'time' (built-in)>, 'clock': <function clock at 0x000002B6326BB1F0>, '_i20': '@clock\\ndef snooze(seconds):\\n    time.sleep(seconds)', 'snooze': <function snooze at 0x000002B6326BBC10>, '_i21': 'snooze(.123)', '_i22': 'snooze.__name__', '_22': 'clocked', '_i23': \"import time\\nimport functools\\n\\ndef clock(func):\\n    @functools.wraps(func)\\n    def clocked(*args, **kwargs):\\n        t0 = time.perf_counter()\\n        result = func(*args)\\n        elapsed = time.perf_counter() - t0\\n        print(f'{elapsed:0.8f}s')\\n        return result\\n    return clocked\", 'functools': <module 'functools' from 'c:\\\\Users\\\\sanshi\\\\anaconda3\\\\lib\\\\functools.py'>, '_i24': '@clock\\ndef snooze(seconds):\\n    time.sleep(seconds)', '_i25': 'snooze(.123)', '_i26': 'snooze.__name__', '_26': 'snooze', '_i27': '@clock\\ndef snooze(seconds):\\n    \"\"\"asfasdf\"\"\"\\n    time.sleep(seconds)', '_i28': 'snooze(.123)', '_i29': 'snooze.__name__', '_29': 'snooze', '_i30': 'snooze.__doc__', '_30': 'asfasdf', '_i31': '@clock\\ndef fibonacci(n):\\n    if n < 2:\\n        return n\\n    return fibonacci(n - 2) + fibonacci(n - 1)', 'fibonacci': <functools._lru_cache_wrapper object at 0x000002B632650AE0>, '_i32': 'fibonacci(6)', '_32': 8, '_i33': '@functools.cache\\n@clock\\ndef fibonacci(n):\\n    if n < 2:\\n        return n\\n    return fibonacci(n - 2) + fibonacci(n - 1)', '_i34': 'fibonacci(6)', '_34': 8, '_i35': \"from functools import singledispatch\\nimport html\\n@singledispatch\\ndef htmlize(obj: object) -> str:\\n    content = html.escape(repr(obj))\\n    return f'<pre>{content}</pre>'\\n@htmlize.register\\ndef _(text: str) -> str:\\n    content = 'asdfa'\\n    return 'afsa    '\", 'singledispatch': <function singledispatch at 0x000002B62C91C790>, 'html': <module 'html' from 'c:\\\\Users\\\\sanshi\\\\anaconda3\\\\lib\\\\html\\\\__init__.py'>, 'htmlize': <function htmlize at 0x000002B6326BB790>, '_i36': \"registry = []\\n\\ndef register(func):\\n    print(f'running register({func})')\\n    registry.append(func)\\n    return func\\n\\n@register\\ndef f1():\\n    print('runing f1()')\\n\\nprint('running main()')\\nprint('registry ->', registry)\\nf1()\", 'registry': {<function f3 at 0x000002B632569D30>, <function f2 at 0x000002B6326BBAF0>}, 'register': <function register at 0x000002B6326BB550>, '_i37': \"registry = set()\\n\\ndef register(active=True):\\n    def decorate(func):\\n        print(f'running register'\\n              f'(active={active})->decorate({func})')\\n        if active:\\n            registry.add(func)\\n        else:\\n            registry.discard(func)\\n        return func\\n    return decorate\\n\\n@register(active=True)\\ndef f1():\\n    print('runing f1()')\\n\\n@register()\\ndef f2():\\n    print('runing f2()')\\n\\ndef f3():\\n    print('runing f3()')\\n\\n# print('running main()')\\n# print('registry ->', registry)\\n# f1()\", 'f3': <function f3 at 0x000002B632569D30>, '_i38': 'registry', '_38': {<function f1 at 0x000002B632569CA0>, <function f2 at 0x000002B632676F70>}, '_i39': \"registry = set()\\n\\ndef register(active=True):\\n    def decorate(func):\\n        print(f'running register'\\n              f'(active={active})->decorate({func})')\\n        if active:\\n            registry.add(func)\\n        else:\\n            registry.discard(func)\\n        return func\\n    return decorate\\n\\n@register(active=False)\\ndef f1():\\n    print('runing f1()')\\n\\n@register()\\ndef f2():\\n    print('runing f2()')\\n\\ndef f3():\\n    print('runing f3()')\\n\\n# print('running main()')\\n# print('registry ->', registry)\\n# f1()\", '_i40': 'registry', '_40': {<function f3 at 0x000002B632569D30>, <function f2 at 0x000002B6326BBAF0>}, '_i41': 'register()(f3)', '_41': <function f3 at 0x000002B632569D30>, '_i42': 'registry', '_42': {<function f3 at 0x000002B632569D30>, <function f2 at 0x000002B6326BBAF0>}, '_i43': 'locals()', '_43': {...}, '_i44': \"repr('as')\", '_44': \"'as'\", '_i45': 'globals()', '_45': {...}, '_i46': 'globals().items()'}}), ('get_ipython', <bound method InteractiveShell.get_ipython of <ipykernel.zmqshell.ZMQInteractiveShell object at 0x000002B6325218E0>>), ('exit', <IPython.core.autocall.ZMQExitAutocall object at 0x000002B6325383D0>), ('quit', <IPython.core.autocall.ZMQExitAutocall object at 0x000002B6325383D0>), ('_', <function _ at 0x000002B6326BB0D0>), ('__', 8), ('___', 'asfasdf'), ('__vsc_ipynb_file__', 'c:\\\\study\\\\Python\\\\Python学习.ipynb'), ('_i', 'globals()'), ('_ii', \"repr('as')\"), ('_iii', 'locals()'), ('_i1', 'def f1(a):\\n    print(a)\\n    print(b)\\n\\ndef f2(a):\\n    print(a)\\n    print(b)\\n    b = 9'), ('f1', <function f1 at 0x000002B6326BB430>), ('f2', <function f2 at 0x000002B6326BBAF0>), ('_i2', 'from dis import dis\\ndis(f1)'), ('dis', <function dis at 0x000002B62CE97C10>), ('_i3', 'dis(f2)'), ('_i4', 'def make_averager():\\n    series = []\\n    def averager(value):\\n        series.append(value)\\n        return sum(series) / len(series)\\n    return averager'), ('make_averager', <function make_averager at 0x000002B632654A60>), ('_i5', 'avg = make_averager()\\navg(10), avg(11), avg(12)'), ('avg', <function make_averager.<locals>.averager at 0x000002B6326BBB80>), ('_5', (10.0, 10.5, 11.0)), ('_i6', 'avg.__code__'), ('_6', <code object averager at 0x000002B6326A1450, file \"C:\\Users\\sanshi\\AppData\\Local\\Temp\\ipykernel_20140\\994023343.py\", line 3>), ('_i7', 'avg.__code__.co_varnames'), ('_7', ('value',)), ('_i8', 'avg.__code__.co_freevars'), ('_8', ('series',)), ('_i9', 'avg.__closure__'), ('_9', (<cell at 0x000002B632689D30: list object at 0x000002B6325B0400>,)), ('_i10', 'avg.__closure__[0].cell_contents'), ('_10', [10, 11, 12]), ('_i11', 'def make_averager():\\n    count = 0\\n    total = 0\\n\\n    def averager(new_value):\\n        nonlocal count\\n        nonlocal total\\n        count += 1\\n        total += 1\\n        return total / count\\n    \\n    return averager'), ('_i12', 'dis(make_averager)'), ('_i13', 'avg = make_averager()\\navg(10), avg(11), avg(15)'), ('_13', (1.0, 1.0, 1.0)), ('_i14', 'def make_averager():\\n    count = 0\\n    total = 0\\n\\n    def averager(new_value):\\n        nonlocal count\\n        nonlocal total\\n        count += 1\\n        total += new_value\\n        return total / count\\n\\n    return averager'), ('_i15', 'dis(make_averager)'), ('_i16', 'avg = make_averager()\\navg(10), avg(11), avg(15)'), ('_16', (10.0, 10.5, 12.0)), ('_i17', 'avg.__closure__'), ('_17', (<cell at 0x000002B6326899A0: int object at 0x000002B62BF36970>, <cell at 0x000002B632689C10: int object at 0x000002B62BF36D90>)), ('_i18', 'avg.__code__.co_freevars'), ('_18', ('count', 'total')), ('_i19', \"import time\\n\\ndef clock(func):\\n    def clocked(*args):\\n        t0 = time.perf_counter()\\n        result = func(*args)\\n        elapsed = time.perf_counter() - t0\\n        print(f'{elapsed:0.8f}s')\\n        return result\\n    return clocked\"), ('time', <module 'time' (built-in)>), ('clock', <function clock at 0x000002B6326BB1F0>), ('_i20', '@clock\\ndef snooze(seconds):\\n    time.sleep(seconds)'), ('snooze', <function snooze at 0x000002B6326BBC10>), ('_i21', 'snooze(.123)'), ('_i22', 'snooze.__name__'), ('_22', 'clocked'), ('_i23', \"import time\\nimport functools\\n\\ndef clock(func):\\n    @functools.wraps(func)\\n    def clocked(*args, **kwargs):\\n        t0 = time.perf_counter()\\n        result = func(*args)\\n        elapsed = time.perf_counter() - t0\\n        print(f'{elapsed:0.8f}s')\\n        return result\\n    return clocked\"), ('functools', <module 'functools' from 'c:\\\\Users\\\\sanshi\\\\anaconda3\\\\lib\\\\functools.py'>), ('_i24', '@clock\\ndef snooze(seconds):\\n    time.sleep(seconds)'), ('_i25', 'snooze(.123)'), ('_i26', 'snooze.__name__'), ('_26', 'snooze'), ('_i27', '@clock\\ndef snooze(seconds):\\n    \"\"\"asfasdf\"\"\"\\n    time.sleep(seconds)'), ('_i28', 'snooze(.123)'), ('_i29', 'snooze.__name__'), ('_29', 'snooze'), ('_i30', 'snooze.__doc__'), ('_30', 'asfasdf'), ('_i31', '@clock\\ndef fibonacci(n):\\n    if n < 2:\\n        return n\\n    return fibonacci(n - 2) + fibonacci(n - 1)'), ('fibonacci', <functools._lru_cache_wrapper object at 0x000002B632650AE0>), ('_i32', 'fibonacci(6)'), ('_32', 8), ('_i33', '@functools.cache\\n@clock\\ndef fibonacci(n):\\n    if n < 2:\\n        return n\\n    return fibonacci(n - 2) + fibonacci(n - 1)'), ('_i34', 'fibonacci(6)'), ('_34', 8), ('_i35', \"from functools import singledispatch\\nimport html\\n@singledispatch\\ndef htmlize(obj: object) -> str:\\n    content = html.escape(repr(obj))\\n    return f'<pre>{content}</pre>'\\n@htmlize.register\\ndef _(text: str) -> str:\\n    content = 'asdfa'\\n    return 'afsa    '\"), ('singledispatch', <function singledispatch at 0x000002B62C91C790>), ('html', <module 'html' from 'c:\\\\Users\\\\sanshi\\\\anaconda3\\\\lib\\\\html\\\\__init__.py'>), ('htmlize', <function htmlize at 0x000002B6326BB790>), ('_i36', \"registry = []\\n\\ndef register(func):\\n    print(f'running register({func})')\\n    registry.append(func)\\n    return func\\n\\n@register\\ndef f1():\\n    print('runing f1()')\\n\\nprint('running main()')\\nprint('registry ->', registry)\\nf1()\"), ('registry', {<function f3 at 0x000002B632569D30>, <function f2 at 0x000002B6326BBAF0>}), ('register', <function register at 0x000002B6326BB550>), ('_i37', \"registry = set()\\n\\ndef register(active=True):\\n    def decorate(func):\\n        print(f'running register'\\n              f'(active={active})->decorate({func})')\\n        if active:\\n            registry.add(func)\\n        else:\\n            registry.discard(func)\\n        return func\\n    return decorate\\n\\n@register(active=True)\\ndef f1():\\n    print('runing f1()')\\n\\n@register()\\ndef f2():\\n    print('runing f2()')\\n\\ndef f3():\\n    print('runing f3()')\\n\\n# print('running main()')\\n# print('registry ->', registry)\\n# f1()\"), ('f3', <function f3 at 0x000002B632569D30>), ('_i38', 'registry'), ('_38', {<function f1 at 0x000002B632569CA0>, <function f2 at 0x000002B632676F70>}), ('_i39', \"registry = set()\\n\\ndef register(active=True):\\n    def decorate(func):\\n        print(f'running register'\\n              f'(active={active})->decorate({func})')\\n        if active:\\n            registry.add(func)\\n        else:\\n            registry.discard(func)\\n        return func\\n    return decorate\\n\\n@register(active=False)\\ndef f1():\\n    print('runing f1()')\\n\\n@register()\\ndef f2():\\n    print('runing f2()')\\n\\ndef f3():\\n    print('runing f3()')\\n\\n# print('running main()')\\n# print('registry ->', registry)\\n# f1()\"), ('_i40', 'registry'), ('_40', {<function f3 at 0x000002B632569D30>, <function f2 at 0x000002B6326BBAF0>}), ('_i41', 'register()(f3)'), ('_41', <function f3 at 0x000002B632569D30>), ('_i42', 'registry'), ('_42', {<function f3 at 0x000002B632569D30>, <function f2 at 0x000002B6326BBAF0>}), ('_i43', 'locals()'), ('_43', {'__name__': '__main__', '__doc__': 'Automatically created module for IPython interactive environment', '__package__': None, '__loader__': None, '__spec__': None, '__builtin__': <module 'builtins' (built-in)>, '__builtins__': <module 'builtins' (built-in)>, '_ih': ['', 'def f1(a):\\n    print(a)\\n    print(b)\\n\\ndef f2(a):\\n    print(a)\\n    print(b)\\n    b = 9', 'from dis import dis\\ndis(f1)', 'dis(f2)', 'def make_averager():\\n    series = []\\n    def averager(value):\\n        series.append(value)\\n        return sum(series) / len(series)\\n    return averager', 'avg = make_averager()\\navg(10), avg(11), avg(12)', 'avg.__code__', 'avg.__code__.co_varnames', 'avg.__code__.co_freevars', 'avg.__closure__', 'avg.__closure__[0].cell_contents', 'def make_averager():\\n    count = 0\\n    total = 0\\n\\n    def averager(new_value):\\n        nonlocal count\\n        nonlocal total\\n        count += 1\\n        total += 1\\n        return total / count\\n    \\n    return averager', 'dis(make_averager)', 'avg = make_averager()\\navg(10), avg(11), avg(15)', 'def make_averager():\\n    count = 0\\n    total = 0\\n\\n    def averager(new_value):\\n        nonlocal count\\n        nonlocal total\\n        count += 1\\n        total += new_value\\n        return total / count\\n\\n    return averager', 'dis(make_averager)', 'avg = make_averager()\\navg(10), avg(11), avg(15)', 'avg.__closure__', 'avg.__code__.co_freevars', \"import time\\n\\ndef clock(func):\\n    def clocked(*args):\\n        t0 = time.perf_counter()\\n        result = func(*args)\\n        elapsed = time.perf_counter() - t0\\n        print(f'{elapsed:0.8f}s')\\n        return result\\n    return clocked\", '@clock\\ndef snooze(seconds):\\n    time.sleep(seconds)', 'snooze(.123)', 'snooze.__name__', \"import time\\nimport functools\\n\\ndef clock(func):\\n    @functools.wraps(func)\\n    def clocked(*args, **kwargs):\\n        t0 = time.perf_counter()\\n        result = func(*args)\\n        elapsed = time.perf_counter() - t0\\n        print(f'{elapsed:0.8f}s')\\n        return result\\n    return clocked\", '@clock\\ndef snooze(seconds):\\n    time.sleep(seconds)', 'snooze(.123)', 'snooze.__name__', '@clock\\ndef snooze(seconds):\\n    \"\"\"asfasdf\"\"\"\\n    time.sleep(seconds)', 'snooze(.123)', 'snooze.__name__', 'snooze.__doc__', '@clock\\ndef fibonacci(n):\\n    if n < 2:\\n        return n\\n    return fibonacci(n - 2) + fibonacci(n - 1)', 'fibonacci(6)', '@functools.cache\\n@clock\\ndef fibonacci(n):\\n    if n < 2:\\n        return n\\n    return fibonacci(n - 2) + fibonacci(n - 1)', 'fibonacci(6)', \"from functools import singledispatch\\nimport html\\n@singledispatch\\ndef htmlize(obj: object) -> str:\\n    content = html.escape(repr(obj))\\n    return f'<pre>{content}</pre>'\\n@htmlize.register\\ndef _(text: str) -> str:\\n    content = 'asdfa'\\n    return 'afsa    '\", \"registry = []\\n\\ndef register(func):\\n    print(f'running register({func})')\\n    registry.append(func)\\n    return func\\n\\n@register\\ndef f1():\\n    print('runing f1()')\\n\\nprint('running main()')\\nprint('registry ->', registry)\\nf1()\", \"registry = set()\\n\\ndef register(active=True):\\n    def decorate(func):\\n        print(f'running register'\\n              f'(active={active})->decorate({func})')\\n        if active:\\n            registry.add(func)\\n        else:\\n            registry.discard(func)\\n        return func\\n    return decorate\\n\\n@register(active=True)\\ndef f1():\\n    print('runing f1()')\\n\\n@register()\\ndef f2():\\n    print('runing f2()')\\n\\ndef f3():\\n    print('runing f3()')\\n\\n# print('running main()')\\n# print('registry ->', registry)\\n# f1()\", 'registry', \"registry = set()\\n\\ndef register(active=True):\\n    def decorate(func):\\n        print(f'running register'\\n              f'(active={active})->decorate({func})')\\n        if active:\\n            registry.add(func)\\n        else:\\n            registry.discard(func)\\n        return func\\n    return decorate\\n\\n@register(active=False)\\ndef f1():\\n    print('runing f1()')\\n\\n@register()\\ndef f2():\\n    print('runing f2()')\\n\\ndef f3():\\n    print('runing f3()')\\n\\n# print('running main()')\\n# print('registry ->', registry)\\n# f1()\", 'registry', 'register()(f3)', 'registry', 'locals()', \"repr('as')\", 'globals()', 'globals().items()'], '_oh': {5: (10.0, 10.5, 11.0), 6: <code object averager at 0x000002B6326A1450, file \"C:\\Users\\sanshi\\AppData\\Local\\Temp\\ipykernel_20140\\994023343.py\", line 3>, 7: ('value',), 8: ('series',), 9: (<cell at 0x000002B632689D30: list object at 0x000002B6325B0400>,), 10: [10, 11, 12], 13: (1.0, 1.0, 1.0), 16: (10.0, 10.5, 12.0), 17: (<cell at 0x000002B6326899A0: int object at 0x000002B62BF36970>, <cell at 0x000002B632689C10: int object at 0x000002B62BF36D90>), 18: ('count', 'total'), 22: 'clocked', 26: 'snooze', 29: 'snooze', 30: 'asfasdf', 32: 8, 34: 8, 38: {<function f1 at 0x000002B632569CA0>, <function f2 at 0x000002B632676F70>}, 40: {<function f3 at 0x000002B632569D30>, <function f2 at 0x000002B6326BBAF0>}, 41: <function f3 at 0x000002B632569D30>, 42: {<function f3 at 0x000002B632569D30>, <function f2 at 0x000002B6326BBAF0>}, 43: {...}, 44: \"'as'\", 45: {...}}, '_dh': [WindowsPath('c:/study/Python')], 'In': ['', 'def f1(a):\\n    print(a)\\n    print(b)\\n\\ndef f2(a):\\n    print(a)\\n    print(b)\\n    b = 9', 'from dis import dis\\ndis(f1)', 'dis(f2)', 'def make_averager():\\n    series = []\\n    def averager(value):\\n        series.append(value)\\n        return sum(series) / len(series)\\n    return averager', 'avg = make_averager()\\navg(10), avg(11), avg(12)', 'avg.__code__', 'avg.__code__.co_varnames', 'avg.__code__.co_freevars', 'avg.__closure__', 'avg.__closure__[0].cell_contents', 'def make_averager():\\n    count = 0\\n    total = 0\\n\\n    def averager(new_value):\\n        nonlocal count\\n        nonlocal total\\n        count += 1\\n        total += 1\\n        return total / count\\n    \\n    return averager', 'dis(make_averager)', 'avg = make_averager()\\navg(10), avg(11), avg(15)', 'def make_averager():\\n    count = 0\\n    total = 0\\n\\n    def averager(new_value):\\n        nonlocal count\\n        nonlocal total\\n        count += 1\\n        total += new_value\\n        return total / count\\n\\n    return averager', 'dis(make_averager)', 'avg = make_averager()\\navg(10), avg(11), avg(15)', 'avg.__closure__', 'avg.__code__.co_freevars', \"import time\\n\\ndef clock(func):\\n    def clocked(*args):\\n        t0 = time.perf_counter()\\n        result = func(*args)\\n        elapsed = time.perf_counter() - t0\\n        print(f'{elapsed:0.8f}s')\\n        return result\\n    return clocked\", '@clock\\ndef snooze(seconds):\\n    time.sleep(seconds)', 'snooze(.123)', 'snooze.__name__', \"import time\\nimport functools\\n\\ndef clock(func):\\n    @functools.wraps(func)\\n    def clocked(*args, **kwargs):\\n        t0 = time.perf_counter()\\n        result = func(*args)\\n        elapsed = time.perf_counter() - t0\\n        print(f'{elapsed:0.8f}s')\\n        return result\\n    return clocked\", '@clock\\ndef snooze(seconds):\\n    time.sleep(seconds)', 'snooze(.123)', 'snooze.__name__', '@clock\\ndef snooze(seconds):\\n    \"\"\"asfasdf\"\"\"\\n    time.sleep(seconds)', 'snooze(.123)', 'snooze.__name__', 'snooze.__doc__', '@clock\\ndef fibonacci(n):\\n    if n < 2:\\n        return n\\n    return fibonacci(n - 2) + fibonacci(n - 1)', 'fibonacci(6)', '@functools.cache\\n@clock\\ndef fibonacci(n):\\n    if n < 2:\\n        return n\\n    return fibonacci(n - 2) + fibonacci(n - 1)', 'fibonacci(6)', \"from functools import singledispatch\\nimport html\\n@singledispatch\\ndef htmlize(obj: object) -> str:\\n    content = html.escape(repr(obj))\\n    return f'<pre>{content}</pre>'\\n@htmlize.register\\ndef _(text: str) -> str:\\n    content = 'asdfa'\\n    return 'afsa    '\", \"registry = []\\n\\ndef register(func):\\n    print(f'running register({func})')\\n    registry.append(func)\\n    return func\\n\\n@register\\ndef f1():\\n    print('runing f1()')\\n\\nprint('running main()')\\nprint('registry ->', registry)\\nf1()\", \"registry = set()\\n\\ndef register(active=True):\\n    def decorate(func):\\n        print(f'running register'\\n              f'(active={active})->decorate({func})')\\n        if active:\\n            registry.add(func)\\n        else:\\n            registry.discard(func)\\n        return func\\n    return decorate\\n\\n@register(active=True)\\ndef f1():\\n    print('runing f1()')\\n\\n@register()\\ndef f2():\\n    print('runing f2()')\\n\\ndef f3():\\n    print('runing f3()')\\n\\n# print('running main()')\\n# print('registry ->', registry)\\n# f1()\", 'registry', \"registry = set()\\n\\ndef register(active=True):\\n    def decorate(func):\\n        print(f'running register'\\n              f'(active={active})->decorate({func})')\\n        if active:\\n            registry.add(func)\\n        else:\\n            registry.discard(func)\\n        return func\\n    return decorate\\n\\n@register(active=False)\\ndef f1():\\n    print('runing f1()')\\n\\n@register()\\ndef f2():\\n    print('runing f2()')\\n\\ndef f3():\\n    print('runing f3()')\\n\\n# print('running main()')\\n# print('registry ->', registry)\\n# f1()\", 'registry', 'register()(f3)', 'registry', 'locals()', \"repr('as')\", 'globals()', 'globals().items()'], 'Out': {5: (10.0, 10.5, 11.0), 6: <code object averager at 0x000002B6326A1450, file \"C:\\Users\\sanshi\\AppData\\Local\\Temp\\ipykernel_20140\\994023343.py\", line 3>, 7: ('value',), 8: ('series',), 9: (<cell at 0x000002B632689D30: list object at 0x000002B6325B0400>,), 10: [10, 11, 12], 13: (1.0, 1.0, 1.0), 16: (10.0, 10.5, 12.0), 17: (<cell at 0x000002B6326899A0: int object at 0x000002B62BF36970>, <cell at 0x000002B632689C10: int object at 0x000002B62BF36D90>), 18: ('count', 'total'), 22: 'clocked', 26: 'snooze', 29: 'snooze', 30: 'asfasdf', 32: 8, 34: 8, 38: {<function f1 at 0x000002B632569CA0>, <function f2 at 0x000002B632676F70>}, 40: {<function f3 at 0x000002B632569D30>, <function f2 at 0x000002B6326BBAF0>}, 41: <function f3 at 0x000002B632569D30>, 42: {<function f3 at 0x000002B632569D30>, <function f2 at 0x000002B6326BBAF0>}, 43: {...}, 44: \"'as'\", 45: {...}}, 'get_ipython': <bound method InteractiveShell.get_ipython of <ipykernel.zmqshell.ZMQInteractiveShell object at 0x000002B6325218E0>>, 'exit': <IPython.core.autocall.ZMQExitAutocall object at 0x000002B6325383D0>, 'quit': <IPython.core.autocall.ZMQExitAutocall object at 0x000002B6325383D0>, '_': <function _ at 0x000002B6326BB0D0>, '__': 8, '___': 'asfasdf', '__vsc_ipynb_file__': 'c:\\\\study\\\\Python\\\\Python学习.ipynb', '_i': 'globals()', '_ii': \"repr('as')\", '_iii': 'locals()', '_i1': 'def f1(a):\\n    print(a)\\n    print(b)\\n\\ndef f2(a):\\n    print(a)\\n    print(b)\\n    b = 9', 'f1': <function f1 at 0x000002B6326BB430>, 'f2': <function f2 at 0x000002B6326BBAF0>, '_i2': 'from dis import dis\\ndis(f1)', 'dis': <function dis at 0x000002B62CE97C10>, '_i3': 'dis(f2)', '_i4': 'def make_averager():\\n    series = []\\n    def averager(value):\\n        series.append(value)\\n        return sum(series) / len(series)\\n    return averager', 'make_averager': <function make_averager at 0x000002B632654A60>, '_i5': 'avg = make_averager()\\navg(10), avg(11), avg(12)', 'avg': <function make_averager.<locals>.averager at 0x000002B6326BBB80>, '_5': (10.0, 10.5, 11.0), '_i6': 'avg.__code__', '_6': <code object averager at 0x000002B6326A1450, file \"C:\\Users\\sanshi\\AppData\\Local\\Temp\\ipykernel_20140\\994023343.py\", line 3>, '_i7': 'avg.__code__.co_varnames', '_7': ('value',), '_i8': 'avg.__code__.co_freevars', '_8': ('series',), '_i9': 'avg.__closure__', '_9': (<cell at 0x000002B632689D30: list object at 0x000002B6325B0400>,), '_i10': 'avg.__closure__[0].cell_contents', '_10': [10, 11, 12], '_i11': 'def make_averager():\\n    count = 0\\n    total = 0\\n\\n    def averager(new_value):\\n        nonlocal count\\n        nonlocal total\\n        count += 1\\n        total += 1\\n        return total / count\\n    \\n    return averager', '_i12': 'dis(make_averager)', '_i13': 'avg = make_averager()\\navg(10), avg(11), avg(15)', '_13': (1.0, 1.0, 1.0), '_i14': 'def make_averager():\\n    count = 0\\n    total = 0\\n\\n    def averager(new_value):\\n        nonlocal count\\n        nonlocal total\\n        count += 1\\n        total += new_value\\n        return total / count\\n\\n    return averager', '_i15': 'dis(make_averager)', '_i16': 'avg = make_averager()\\navg(10), avg(11), avg(15)', '_16': (10.0, 10.5, 12.0), '_i17': 'avg.__closure__', '_17': (<cell at 0x000002B6326899A0: int object at 0x000002B62BF36970>, <cell at 0x000002B632689C10: int object at 0x000002B62BF36D90>), '_i18': 'avg.__code__.co_freevars', '_18': ('count', 'total'), '_i19': \"import time\\n\\ndef clock(func):\\n    def clocked(*args):\\n        t0 = time.perf_counter()\\n        result = func(*args)\\n        elapsed = time.perf_counter() - t0\\n        print(f'{elapsed:0.8f}s')\\n        return result\\n    return clocked\", 'time': <module 'time' (built-in)>, 'clock': <function clock at 0x000002B6326BB1F0>, '_i20': '@clock\\ndef snooze(seconds):\\n    time.sleep(seconds)', 'snooze': <function snooze at 0x000002B6326BBC10>, '_i21': 'snooze(.123)', '_i22': 'snooze.__name__', '_22': 'clocked', '_i23': \"import time\\nimport functools\\n\\ndef clock(func):\\n    @functools.wraps(func)\\n    def clocked(*args, **kwargs):\\n        t0 = time.perf_counter()\\n        result = func(*args)\\n        elapsed = time.perf_counter() - t0\\n        print(f'{elapsed:0.8f}s')\\n        return result\\n    return clocked\", 'functools': <module 'functools' from 'c:\\\\Users\\\\sanshi\\\\anaconda3\\\\lib\\\\functools.py'>, '_i24': '@clock\\ndef snooze(seconds):\\n    time.sleep(seconds)', '_i25': 'snooze(.123)', '_i26': 'snooze.__name__', '_26': 'snooze', '_i27': '@clock\\ndef snooze(seconds):\\n    \"\"\"asfasdf\"\"\"\\n    time.sleep(seconds)', '_i28': 'snooze(.123)', '_i29': 'snooze.__name__', '_29': 'snooze', '_i30': 'snooze.__doc__', '_30': 'asfasdf', '_i31': '@clock\\ndef fibonacci(n):\\n    if n < 2:\\n        return n\\n    return fibonacci(n - 2) + fibonacci(n - 1)', 'fibonacci': <functools._lru_cache_wrapper object at 0x000002B632650AE0>, '_i32': 'fibonacci(6)', '_32': 8, '_i33': '@functools.cache\\n@clock\\ndef fibonacci(n):\\n    if n < 2:\\n        return n\\n    return fibonacci(n - 2) + fibonacci(n - 1)', '_i34': 'fibonacci(6)', '_34': 8, '_i35': \"from functools import singledispatch\\nimport html\\n@singledispatch\\ndef htmlize(obj: object) -> str:\\n    content = html.escape(repr(obj))\\n    return f'<pre>{content}</pre>'\\n@htmlize.register\\ndef _(text: str) -> str:\\n    content = 'asdfa'\\n    return 'afsa    '\", 'singledispatch': <function singledispatch at 0x000002B62C91C790>, 'html': <module 'html' from 'c:\\\\Users\\\\sanshi\\\\anaconda3\\\\lib\\\\html\\\\__init__.py'>, 'htmlize': <function htmlize at 0x000002B6326BB790>, '_i36': \"registry = []\\n\\ndef register(func):\\n    print(f'running register({func})')\\n    registry.append(func)\\n    return func\\n\\n@register\\ndef f1():\\n    print('runing f1()')\\n\\nprint('running main()')\\nprint('registry ->', registry)\\nf1()\", 'registry': {<function f3 at 0x000002B632569D30>, <function f2 at 0x000002B6326BBAF0>}, 'register': <function register at 0x000002B6326BB550>, '_i37': \"registry = set()\\n\\ndef register(active=True):\\n    def decorate(func):\\n        print(f'running register'\\n              f'(active={active})->decorate({func})')\\n        if active:\\n            registry.add(func)\\n        else:\\n            registry.discard(func)\\n        return func\\n    return decorate\\n\\n@register(active=True)\\ndef f1():\\n    print('runing f1()')\\n\\n@register()\\ndef f2():\\n    print('runing f2()')\\n\\ndef f3():\\n    print('runing f3()')\\n\\n# print('running main()')\\n# print('registry ->', registry)\\n# f1()\", 'f3': <function f3 at 0x000002B632569D30>, '_i38': 'registry', '_38': {<function f1 at 0x000002B632569CA0>, <function f2 at 0x000002B632676F70>}, '_i39': \"registry = set()\\n\\ndef register(active=True):\\n    def decorate(func):\\n        print(f'running register'\\n              f'(active={active})->decorate({func})')\\n        if active:\\n            registry.add(func)\\n        else:\\n            registry.discard(func)\\n        return func\\n    return decorate\\n\\n@register(active=False)\\ndef f1():\\n    print('runing f1()')\\n\\n@register()\\ndef f2():\\n    print('runing f2()')\\n\\ndef f3():\\n    print('runing f3()')\\n\\n# print('running main()')\\n# print('registry ->', registry)\\n# f1()\", '_i40': 'registry', '_40': {<function f3 at 0x000002B632569D30>, <function f2 at 0x000002B6326BBAF0>}, '_i41': 'register()(f3)', '_41': <function f3 at 0x000002B632569D30>, '_i42': 'registry', '_42': {<function f3 at 0x000002B632569D30>, <function f2 at 0x000002B6326BBAF0>}, '_i43': 'locals()', '_43': {...}, '_i44': \"repr('as')\", '_44': \"'as'\", '_i45': 'globals()', '_45': {...}, '_i46': 'globals().items()'}), ('_i44', \"repr('as')\"), ('_44', \"'as'\"), ('_i45', 'globals()'), ('_45', {'__name__': '__main__', '__doc__': 'Automatically created module for IPython interactive environment', '__package__': None, '__loader__': None, '__spec__': None, '__builtin__': <module 'builtins' (built-in)>, '__builtins__': <module 'builtins' (built-in)>, '_ih': ['', 'def f1(a):\\n    print(a)\\n    print(b)\\n\\ndef f2(a):\\n    print(a)\\n    print(b)\\n    b = 9', 'from dis import dis\\ndis(f1)', 'dis(f2)', 'def make_averager():\\n    series = []\\n    def averager(value):\\n        series.append(value)\\n        return sum(series) / len(series)\\n    return averager', 'avg = make_averager()\\navg(10), avg(11), avg(12)', 'avg.__code__', 'avg.__code__.co_varnames', 'avg.__code__.co_freevars', 'avg.__closure__', 'avg.__closure__[0].cell_contents', 'def make_averager():\\n    count = 0\\n    total = 0\\n\\n    def averager(new_value):\\n        nonlocal count\\n        nonlocal total\\n        count += 1\\n        total += 1\\n        return total / count\\n    \\n    return averager', 'dis(make_averager)', 'avg = make_averager()\\navg(10), avg(11), avg(15)', 'def make_averager():\\n    count = 0\\n    total = 0\\n\\n    def averager(new_value):\\n        nonlocal count\\n        nonlocal total\\n        count += 1\\n        total += new_value\\n        return total / count\\n\\n    return averager', 'dis(make_averager)', 'avg = make_averager()\\navg(10), avg(11), avg(15)', 'avg.__closure__', 'avg.__code__.co_freevars', \"import time\\n\\ndef clock(func):\\n    def clocked(*args):\\n        t0 = time.perf_counter()\\n        result = func(*args)\\n        elapsed = time.perf_counter() - t0\\n        print(f'{elapsed:0.8f}s')\\n        return result\\n    return clocked\", '@clock\\ndef snooze(seconds):\\n    time.sleep(seconds)', 'snooze(.123)', 'snooze.__name__', \"import time\\nimport functools\\n\\ndef clock(func):\\n    @functools.wraps(func)\\n    def clocked(*args, **kwargs):\\n        t0 = time.perf_counter()\\n        result = func(*args)\\n        elapsed = time.perf_counter() - t0\\n        print(f'{elapsed:0.8f}s')\\n        return result\\n    return clocked\", '@clock\\ndef snooze(seconds):\\n    time.sleep(seconds)', 'snooze(.123)', 'snooze.__name__', '@clock\\ndef snooze(seconds):\\n    \"\"\"asfasdf\"\"\"\\n    time.sleep(seconds)', 'snooze(.123)', 'snooze.__name__', 'snooze.__doc__', '@clock\\ndef fibonacci(n):\\n    if n < 2:\\n        return n\\n    return fibonacci(n - 2) + fibonacci(n - 1)', 'fibonacci(6)', '@functools.cache\\n@clock\\ndef fibonacci(n):\\n    if n < 2:\\n        return n\\n    return fibonacci(n - 2) + fibonacci(n - 1)', 'fibonacci(6)', \"from functools import singledispatch\\nimport html\\n@singledispatch\\ndef htmlize(obj: object) -> str:\\n    content = html.escape(repr(obj))\\n    return f'<pre>{content}</pre>'\\n@htmlize.register\\ndef _(text: str) -> str:\\n    content = 'asdfa'\\n    return 'afsa    '\", \"registry = []\\n\\ndef register(func):\\n    print(f'running register({func})')\\n    registry.append(func)\\n    return func\\n\\n@register\\ndef f1():\\n    print('runing f1()')\\n\\nprint('running main()')\\nprint('registry ->', registry)\\nf1()\", \"registry = set()\\n\\ndef register(active=True):\\n    def decorate(func):\\n        print(f'running register'\\n              f'(active={active})->decorate({func})')\\n        if active:\\n            registry.add(func)\\n        else:\\n            registry.discard(func)\\n        return func\\n    return decorate\\n\\n@register(active=True)\\ndef f1():\\n    print('runing f1()')\\n\\n@register()\\ndef f2():\\n    print('runing f2()')\\n\\ndef f3():\\n    print('runing f3()')\\n\\n# print('running main()')\\n# print('registry ->', registry)\\n# f1()\", 'registry', \"registry = set()\\n\\ndef register(active=True):\\n    def decorate(func):\\n        print(f'running register'\\n              f'(active={active})->decorate({func})')\\n        if active:\\n            registry.add(func)\\n        else:\\n            registry.discard(func)\\n        return func\\n    return decorate\\n\\n@register(active=False)\\ndef f1():\\n    print('runing f1()')\\n\\n@register()\\ndef f2():\\n    print('runing f2()')\\n\\ndef f3():\\n    print('runing f3()')\\n\\n# print('running main()')\\n# print('registry ->', registry)\\n# f1()\", 'registry', 'register()(f3)', 'registry', 'locals()', \"repr('as')\", 'globals()', 'globals().items()'], '_oh': {5: (10.0, 10.5, 11.0), 6: <code object averager at 0x000002B6326A1450, file \"C:\\Users\\sanshi\\AppData\\Local\\Temp\\ipykernel_20140\\994023343.py\", line 3>, 7: ('value',), 8: ('series',), 9: (<cell at 0x000002B632689D30: list object at 0x000002B6325B0400>,), 10: [10, 11, 12], 13: (1.0, 1.0, 1.0), 16: (10.0, 10.5, 12.0), 17: (<cell at 0x000002B6326899A0: int object at 0x000002B62BF36970>, <cell at 0x000002B632689C10: int object at 0x000002B62BF36D90>), 18: ('count', 'total'), 22: 'clocked', 26: 'snooze', 29: 'snooze', 30: 'asfasdf', 32: 8, 34: 8, 38: {<function f1 at 0x000002B632569CA0>, <function f2 at 0x000002B632676F70>}, 40: {<function f3 at 0x000002B632569D30>, <function f2 at 0x000002B6326BBAF0>}, 41: <function f3 at 0x000002B632569D30>, 42: {<function f3 at 0x000002B632569D30>, <function f2 at 0x000002B6326BBAF0>}, 43: {...}, 44: \"'as'\", 45: {...}}, '_dh': [WindowsPath('c:/study/Python')], 'In': ['', 'def f1(a):\\n    print(a)\\n    print(b)\\n\\ndef f2(a):\\n    print(a)\\n    print(b)\\n    b = 9', 'from dis import dis\\ndis(f1)', 'dis(f2)', 'def make_averager():\\n    series = []\\n    def averager(value):\\n        series.append(value)\\n        return sum(series) / len(series)\\n    return averager', 'avg = make_averager()\\navg(10), avg(11), avg(12)', 'avg.__code__', 'avg.__code__.co_varnames', 'avg.__code__.co_freevars', 'avg.__closure__', 'avg.__closure__[0].cell_contents', 'def make_averager():\\n    count = 0\\n    total = 0\\n\\n    def averager(new_value):\\n        nonlocal count\\n        nonlocal total\\n        count += 1\\n        total += 1\\n        return total / count\\n    \\n    return averager', 'dis(make_averager)', 'avg = make_averager()\\navg(10), avg(11), avg(15)', 'def make_averager():\\n    count = 0\\n    total = 0\\n\\n    def averager(new_value):\\n        nonlocal count\\n        nonlocal total\\n        count += 1\\n        total += new_value\\n        return total / count\\n\\n    return averager', 'dis(make_averager)', 'avg = make_averager()\\navg(10), avg(11), avg(15)', 'avg.__closure__', 'avg.__code__.co_freevars', \"import time\\n\\ndef clock(func):\\n    def clocked(*args):\\n        t0 = time.perf_counter()\\n        result = func(*args)\\n        elapsed = time.perf_counter() - t0\\n        print(f'{elapsed:0.8f}s')\\n        return result\\n    return clocked\", '@clock\\ndef snooze(seconds):\\n    time.sleep(seconds)', 'snooze(.123)', 'snooze.__name__', \"import time\\nimport functools\\n\\ndef clock(func):\\n    @functools.wraps(func)\\n    def clocked(*args, **kwargs):\\n        t0 = time.perf_counter()\\n        result = func(*args)\\n        elapsed = time.perf_counter() - t0\\n        print(f'{elapsed:0.8f}s')\\n        return result\\n    return clocked\", '@clock\\ndef snooze(seconds):\\n    time.sleep(seconds)', 'snooze(.123)', 'snooze.__name__', '@clock\\ndef snooze(seconds):\\n    \"\"\"asfasdf\"\"\"\\n    time.sleep(seconds)', 'snooze(.123)', 'snooze.__name__', 'snooze.__doc__', '@clock\\ndef fibonacci(n):\\n    if n < 2:\\n        return n\\n    return fibonacci(n - 2) + fibonacci(n - 1)', 'fibonacci(6)', '@functools.cache\\n@clock\\ndef fibonacci(n):\\n    if n < 2:\\n        return n\\n    return fibonacci(n - 2) + fibonacci(n - 1)', 'fibonacci(6)', \"from functools import singledispatch\\nimport html\\n@singledispatch\\ndef htmlize(obj: object) -> str:\\n    content = html.escape(repr(obj))\\n    return f'<pre>{content}</pre>'\\n@htmlize.register\\ndef _(text: str) -> str:\\n    content = 'asdfa'\\n    return 'afsa    '\", \"registry = []\\n\\ndef register(func):\\n    print(f'running register({func})')\\n    registry.append(func)\\n    return func\\n\\n@register\\ndef f1():\\n    print('runing f1()')\\n\\nprint('running main()')\\nprint('registry ->', registry)\\nf1()\", \"registry = set()\\n\\ndef register(active=True):\\n    def decorate(func):\\n        print(f'running register'\\n              f'(active={active})->decorate({func})')\\n        if active:\\n            registry.add(func)\\n        else:\\n            registry.discard(func)\\n        return func\\n    return decorate\\n\\n@register(active=True)\\ndef f1():\\n    print('runing f1()')\\n\\n@register()\\ndef f2():\\n    print('runing f2()')\\n\\ndef f3():\\n    print('runing f3()')\\n\\n# print('running main()')\\n# print('registry ->', registry)\\n# f1()\", 'registry', \"registry = set()\\n\\ndef register(active=True):\\n    def decorate(func):\\n        print(f'running register'\\n              f'(active={active})->decorate({func})')\\n        if active:\\n            registry.add(func)\\n        else:\\n            registry.discard(func)\\n        return func\\n    return decorate\\n\\n@register(active=False)\\ndef f1():\\n    print('runing f1()')\\n\\n@register()\\ndef f2():\\n    print('runing f2()')\\n\\ndef f3():\\n    print('runing f3()')\\n\\n# print('running main()')\\n# print('registry ->', registry)\\n# f1()\", 'registry', 'register()(f3)', 'registry', 'locals()', \"repr('as')\", 'globals()', 'globals().items()'], 'Out': {5: (10.0, 10.5, 11.0), 6: <code object averager at 0x000002B6326A1450, file \"C:\\Users\\sanshi\\AppData\\Local\\Temp\\ipykernel_20140\\994023343.py\", line 3>, 7: ('value',), 8: ('series',), 9: (<cell at 0x000002B632689D30: list object at 0x000002B6325B0400>,), 10: [10, 11, 12], 13: (1.0, 1.0, 1.0), 16: (10.0, 10.5, 12.0), 17: (<cell at 0x000002B6326899A0: int object at 0x000002B62BF36970>, <cell at 0x000002B632689C10: int object at 0x000002B62BF36D90>), 18: ('count', 'total'), 22: 'clocked', 26: 'snooze', 29: 'snooze', 30: 'asfasdf', 32: 8, 34: 8, 38: {<function f1 at 0x000002B632569CA0>, <function f2 at 0x000002B632676F70>}, 40: {<function f3 at 0x000002B632569D30>, <function f2 at 0x000002B6326BBAF0>}, 41: <function f3 at 0x000002B632569D30>, 42: {<function f3 at 0x000002B632569D30>, <function f2 at 0x000002B6326BBAF0>}, 43: {...}, 44: \"'as'\", 45: {...}}, 'get_ipython': <bound method InteractiveShell.get_ipython of <ipykernel.zmqshell.ZMQInteractiveShell object at 0x000002B6325218E0>>, 'exit': <IPython.core.autocall.ZMQExitAutocall object at 0x000002B6325383D0>, 'quit': <IPython.core.autocall.ZMQExitAutocall object at 0x000002B6325383D0>, '_': <function _ at 0x000002B6326BB0D0>, '__': 8, '___': 'asfasdf', '__vsc_ipynb_file__': 'c:\\\\study\\\\Python\\\\Python学习.ipynb', '_i': 'globals()', '_ii': \"repr('as')\", '_iii': 'locals()', '_i1': 'def f1(a):\\n    print(a)\\n    print(b)\\n\\ndef f2(a):\\n    print(a)\\n    print(b)\\n    b = 9', 'f1': <function f1 at 0x000002B6326BB430>, 'f2': <function f2 at 0x000002B6326BBAF0>, '_i2': 'from dis import dis\\ndis(f1)', 'dis': <function dis at 0x000002B62CE97C10>, '_i3': 'dis(f2)', '_i4': 'def make_averager():\\n    series = []\\n    def averager(value):\\n        series.append(value)\\n        return sum(series) / len(series)\\n    return averager', 'make_averager': <function make_averager at 0x000002B632654A60>, '_i5': 'avg = make_averager()\\navg(10), avg(11), avg(12)', 'avg': <function make_averager.<locals>.averager at 0x000002B6326BBB80>, '_5': (10.0, 10.5, 11.0), '_i6': 'avg.__code__', '_6': <code object averager at 0x000002B6326A1450, file \"C:\\Users\\sanshi\\AppData\\Local\\Temp\\ipykernel_20140\\994023343.py\", line 3>, '_i7': 'avg.__code__.co_varnames', '_7': ('value',), '_i8': 'avg.__code__.co_freevars', '_8': ('series',), '_i9': 'avg.__closure__', '_9': (<cell at 0x000002B632689D30: list object at 0x000002B6325B0400>,), '_i10': 'avg.__closure__[0].cell_contents', '_10': [10, 11, 12], '_i11': 'def make_averager():\\n    count = 0\\n    total = 0\\n\\n    def averager(new_value):\\n        nonlocal count\\n        nonlocal total\\n        count += 1\\n        total += 1\\n        return total / count\\n    \\n    return averager', '_i12': 'dis(make_averager)', '_i13': 'avg = make_averager()\\navg(10), avg(11), avg(15)', '_13': (1.0, 1.0, 1.0), '_i14': 'def make_averager():\\n    count = 0\\n    total = 0\\n\\n    def averager(new_value):\\n        nonlocal count\\n        nonlocal total\\n        count += 1\\n        total += new_value\\n        return total / count\\n\\n    return averager', '_i15': 'dis(make_averager)', '_i16': 'avg = make_averager()\\navg(10), avg(11), avg(15)', '_16': (10.0, 10.5, 12.0), '_i17': 'avg.__closure__', '_17': (<cell at 0x000002B6326899A0: int object at 0x000002B62BF36970>, <cell at 0x000002B632689C10: int object at 0x000002B62BF36D90>), '_i18': 'avg.__code__.co_freevars', '_18': ('count', 'total'), '_i19': \"import time\\n\\ndef clock(func):\\n    def clocked(*args):\\n        t0 = time.perf_counter()\\n        result = func(*args)\\n        elapsed = time.perf_counter() - t0\\n        print(f'{elapsed:0.8f}s')\\n        return result\\n    return clocked\", 'time': <module 'time' (built-in)>, 'clock': <function clock at 0x000002B6326BB1F0>, '_i20': '@clock\\ndef snooze(seconds):\\n    time.sleep(seconds)', 'snooze': <function snooze at 0x000002B6326BBC10>, '_i21': 'snooze(.123)', '_i22': 'snooze.__name__', '_22': 'clocked', '_i23': \"import time\\nimport functools\\n\\ndef clock(func):\\n    @functools.wraps(func)\\n    def clocked(*args, **kwargs):\\n        t0 = time.perf_counter()\\n        result = func(*args)\\n        elapsed = time.perf_counter() - t0\\n        print(f'{elapsed:0.8f}s')\\n        return result\\n    return clocked\", 'functools': <module 'functools' from 'c:\\\\Users\\\\sanshi\\\\anaconda3\\\\lib\\\\functools.py'>, '_i24': '@clock\\ndef snooze(seconds):\\n    time.sleep(seconds)', '_i25': 'snooze(.123)', '_i26': 'snooze.__name__', '_26': 'snooze', '_i27': '@clock\\ndef snooze(seconds):\\n    \"\"\"asfasdf\"\"\"\\n    time.sleep(seconds)', '_i28': 'snooze(.123)', '_i29': 'snooze.__name__', '_29': 'snooze', '_i30': 'snooze.__doc__', '_30': 'asfasdf', '_i31': '@clock\\ndef fibonacci(n):\\n    if n < 2:\\n        return n\\n    return fibonacci(n - 2) + fibonacci(n - 1)', 'fibonacci': <functools._lru_cache_wrapper object at 0x000002B632650AE0>, '_i32': 'fibonacci(6)', '_32': 8, '_i33': '@functools.cache\\n@clock\\ndef fibonacci(n):\\n    if n < 2:\\n        return n\\n    return fibonacci(n - 2) + fibonacci(n - 1)', '_i34': 'fibonacci(6)', '_34': 8, '_i35': \"from functools import singledispatch\\nimport html\\n@singledispatch\\ndef htmlize(obj: object) -> str:\\n    content = html.escape(repr(obj))\\n    return f'<pre>{content}</pre>'\\n@htmlize.register\\ndef _(text: str) -> str:\\n    content = 'asdfa'\\n    return 'afsa    '\", 'singledispatch': <function singledispatch at 0x000002B62C91C790>, 'html': <module 'html' from 'c:\\\\Users\\\\sanshi\\\\anaconda3\\\\lib\\\\html\\\\__init__.py'>, 'htmlize': <function htmlize at 0x000002B6326BB790>, '_i36': \"registry = []\\n\\ndef register(func):\\n    print(f'running register({func})')\\n    registry.append(func)\\n    return func\\n\\n@register\\ndef f1():\\n    print('runing f1()')\\n\\nprint('running main()')\\nprint('registry ->', registry)\\nf1()\", 'registry': {<function f3 at 0x000002B632569D30>, <function f2 at 0x000002B6326BBAF0>}, 'register': <function register at 0x000002B6326BB550>, '_i37': \"registry = set()\\n\\ndef register(active=True):\\n    def decorate(func):\\n        print(f'running register'\\n              f'(active={active})->decorate({func})')\\n        if active:\\n            registry.add(func)\\n        else:\\n            registry.discard(func)\\n        return func\\n    return decorate\\n\\n@register(active=True)\\ndef f1():\\n    print('runing f1()')\\n\\n@register()\\ndef f2():\\n    print('runing f2()')\\n\\ndef f3():\\n    print('runing f3()')\\n\\n# print('running main()')\\n# print('registry ->', registry)\\n# f1()\", 'f3': <function f3 at 0x000002B632569D30>, '_i38': 'registry', '_38': {<function f1 at 0x000002B632569CA0>, <function f2 at 0x000002B632676F70>}, '_i39': \"registry = set()\\n\\ndef register(active=True):\\n    def decorate(func):\\n        print(f'running register'\\n              f'(active={active})->decorate({func})')\\n        if active:\\n            registry.add(func)\\n        else:\\n            registry.discard(func)\\n        return func\\n    return decorate\\n\\n@register(active=False)\\ndef f1():\\n    print('runing f1()')\\n\\n@register()\\ndef f2():\\n    print('runing f2()')\\n\\ndef f3():\\n    print('runing f3()')\\n\\n# print('running main()')\\n# print('registry ->', registry)\\n# f1()\", '_i40': 'registry', '_40': {<function f3 at 0x000002B632569D30>, <function f2 at 0x000002B6326BBAF0>}, '_i41': 'register()(f3)', '_41': <function f3 at 0x000002B632569D30>, '_i42': 'registry', '_42': {<function f3 at 0x000002B632569D30>, <function f2 at 0x000002B6326BBAF0>}, '_i43': 'locals()', '_43': {...}, '_i44': \"repr('as')\", '_44': \"'as'\", '_i45': 'globals()', '_45': {...}, '_i46': 'globals().items()'}), ('_i46', 'globals().items()')])"
      ]
     },
     "execution_count": 46,
     "metadata": {},
     "output_type": "execute_result"
    }
   ],
   "source": [
    "globals().items()"
   ]
  },
  {
   "cell_type": "code",
   "execution_count": null,
   "metadata": {},
   "outputs": [],
   "source": [
    "\n",
    "promos = [func for _, func in inspect.getmembers(promotions, inspect.isfunction)]"
   ]
  }
 ],
 "metadata": {
  "kernelspec": {
   "display_name": "base",
   "language": "python",
   "name": "python3"
  },
  "language_info": {
   "codemirror_mode": {
    "name": "ipython",
    "version": 3
   },
   "file_extension": ".py",
   "mimetype": "text/x-python",
   "name": "python",
   "nbconvert_exporter": "python",
   "pygments_lexer": "ipython3",
   "version": "3.9.12"
  }
 },
 "nbformat": 4,
 "nbformat_minor": 2
}
