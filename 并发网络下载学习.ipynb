{
 "cells": [
  {
   "cell_type": "markdown",
   "metadata": {},
   "source": [
    "# 一、依序下载的脚本"
   ]
  },
  {
   "cell_type": "code",
   "execution_count": 2,
   "metadata": {},
   "outputs": [],
   "source": [
    "import time\n",
    "from pathlib import Path\n",
    "from typing import Callable\n",
    "\n",
    "import httpx"
   ]
  },
  {
   "cell_type": "code",
   "execution_count": 10,
   "metadata": {},
   "outputs": [],
   "source": [
    "POP20_CC = ('CH IN US ID BR PK NG BD RU JP '\n",
    "            'MX PH VN ET EG DE IR TR CD FR').split()\n",
    "BASE_URL = 'http://mp.ituring.com.cn/files/flags'\n",
    "DEST_DIR = Path('downloaded')"
   ]
  },
  {
   "cell_type": "code",
   "execution_count": 11,
   "metadata": {},
   "outputs": [],
   "source": [
    "def save_flag(img: bytes, filename: str) -> None:\n",
    "    (DEST_DIR / filename).write_bytes(img)"
   ]
  },
  {
   "cell_type": "code",
   "execution_count": 12,
   "metadata": {},
   "outputs": [],
   "source": [
    "def get_flag(cc: str) -> bytes:\n",
    "    url = f'{BASE_URL}/{cc}/{cc}.gif'.lower()\n",
    "    resp = httpx.get(url, timeout=6.1,\n",
    "                     follow_redirects=True)\n",
    "    resp.raise_for_status()  # 避免悄无声息的失败\n",
    "    return resp.content\n"
   ]
  },
  {
   "cell_type": "code",
   "execution_count": 13,
   "metadata": {},
   "outputs": [],
   "source": [
    "def download_many(cc_list: list[str]) -> int:\n",
    "    for cc in sorted(cc_list):\n",
    "        image = get_flag(cc)\n",
    "        save_flag(image, f'{cc}.gif')\n",
    "        print(cc, end=' ', flush=True)\n",
    "    return len(cc_list)"
   ]
  },
  {
   "cell_type": "code",
   "execution_count": 14,
   "metadata": {},
   "outputs": [],
   "source": [
    "def main(downloader: Callable[[list[str]], int]) -> None:\n",
    "    DEST_DIR.mkdir(exist_ok=True)\n",
    "    t0 = time.perf_counter()\n",
    "    count = downloader(POP20_CC)\n",
    "    elapsed = time.perf_counter() - t0\n",
    "    print(f'\\n{count} downloads in {elapsed:.2f}s')"
   ]
  },
  {
   "cell_type": "code",
   "execution_count": 15,
   "metadata": {},
   "outputs": [
    {
     "name": "stdout",
     "output_type": "stream",
     "text": [
      "BD BR CD CH DE EG ET FR ID IN IR JP MX NG PH PK RU TR US VN \n",
      "20 downloads in 5.63s\n"
     ]
    }
   ],
   "source": [
    "main(downloader=download_many)"
   ]
  },
  {
   "cell_type": "markdown",
   "metadata": {},
   "source": [
    "# 二、使用concurrent.futures模块下载"
   ]
  },
  {
   "cell_type": "code",
   "execution_count": 16,
   "metadata": {},
   "outputs": [],
   "source": [
    "from concurrent import futures\n",
    "\n",
    "def download_one(cc: str):  # 职程\n",
    "    image = get_flag(cc)\n",
    "    save_flag(image, f'{cc}.gif')\n",
    "    print(cc, end=' ', flush=True)\n",
    "    return cc\n",
    "\n",
    "def download_many(cc_list: list[str]) -> int:\n",
    "    with futures.ThreadPoolExecutor() as executor:  # 把依序执行的for循环改成函数，并发调用\n",
    "        res = executor.map(download_one, sorted(cc_list))\n",
    "    return len(list(res))"
   ]
  },
  {
   "cell_type": "code",
   "execution_count": 18,
   "metadata": {},
   "outputs": [
    {
     "name": "stdout",
     "output_type": "stream",
     "text": [
      "BR DE BD CH CD EG NG ET MX FR ID JP IN IR PH PK VN TR US RU \n",
      "20 downloads in 1.26s\n"
     ]
    }
   ],
   "source": [
    "main(downloader=download_many)"
   ]
  },
  {
   "cell_type": "code",
   "execution_count": 20,
   "metadata": {},
   "outputs": [],
   "source": [
    "# 另一种复杂的download_many\n",
    "def download_many(cc_list: list[str]) -> int:\n",
    "    cc_list = cc_list[:5]\n",
    "    with futures.ThreadPoolExecutor(max_workers=3) as executor:\n",
    "        to_do: list[futures.Future] = []\n",
    "        for cc in sorted(cc_list):\n",
    "            future = executor.submit(download_one, cc)\n",
    "            to_do.append(future)\n",
    "            print(f'Scheduled for {cc}: {future}')\n",
    "        for count, future in enumerate(futures.as_completed(to_do), 1):\n",
    "            res: str = future.result()\n",
    "            print(f'{future} result: {res!r}')\n",
    "    return count"
   ]
  },
  {
   "cell_type": "code",
   "execution_count": 21,
   "metadata": {},
   "outputs": [
    {
     "name": "stdout",
     "output_type": "stream",
     "text": [
      "Scheduled for BR: <Future at 0x20e9ea2b5f0 state=running>\n",
      "Scheduled for CH: <Future at 0x20e9ea2b4d0 state=running>\n",
      "Scheduled for ID: <Future at 0x20e9ea2a9c0 state=running>\n",
      "Scheduled for IN: <Future at 0x20e9ea29c10 state=pending>\n",
      "Scheduled for US: <Future at 0x20e9ea2a2a0 state=pending>\n",
      "ID CH <Future at 0x20e9ea2a9c0 state=finished returned str> result: 'ID'\n",
      "<Future at 0x20e9ea2b4d0 state=finished returned str> result: 'CH'\n",
      "BR <Future at 0x20e9ea2b5f0 state=finished returned str> result: 'BR'\n",
      "IN <Future at 0x20e9ea29c10 state=finished returned str> result: 'IN'\n",
      "US <Future at 0x20e9ea2a2a0 state=finished returned str> result: 'US'\n",
      "\n",
      "5 downloads in 0.80s\n"
     ]
    }
   ],
   "source": [
    "main(downloader=download_many)"
   ]
  },
  {
   "cell_type": "markdown",
   "metadata": {},
   "source": [
    "# 三、基于进程的方案"
   ]
  },
  {
   "cell_type": "code",
   "execution_count": null,
   "metadata": {},
   "outputs": [],
   "source": [
    "def download_many(cc_list: list[str]) -> int:\n",
    "    with futures.ProcessPoolExecutor() as executor:  # 把依序执行的for循环改成函数，并发调用\n",
    "        res = executor.map(download_one, sorted(cc_list))\n",
    "    return len(list(res))"
   ]
  }
 ],
 "metadata": {
  "kernelspec": {
   "display_name": "Python 3",
   "language": "python",
   "name": "python3"
  },
  "language_info": {
   "codemirror_mode": {
    "name": "ipython",
    "version": 3
   },
   "file_extension": ".py",
   "mimetype": "text/x-python",
   "name": "python",
   "nbconvert_exporter": "python",
   "pygments_lexer": "ipython3",
   "version": "3.12.1"
  }
 },
 "nbformat": 4,
 "nbformat_minor": 2
}
